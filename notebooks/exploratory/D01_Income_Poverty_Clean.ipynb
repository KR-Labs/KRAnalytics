{
 "cells": [
  {
   "cell_type": "markdown",
   "id": "7ae09395",
   "metadata": {},
   "source": [
    "# Income & Poverty Analysis: US Economic Intelligence\n",
    "\n",
    "**Author**: Khipu Analytics Team  \n",
    "**Domain**: D01 - Income & Poverty Analysis  \n",
    "**Tier**: 1-3 (Descriptive, Predictive, Time Series)  \n",
    "**Version**: v2.0  \n",
    "**Date**: October 11, 2025  \n",
    "\n",
    "## Purpose\n",
    "Analyze income distribution, poverty rates, and economic inequality across US geographic areas to identify patterns and provide policy insights.\n",
    "\n",
    "## Key Questions\n",
    "1. What are the geographic patterns of income and poverty?\n",
    "2. How do income and poverty rates correlate across regions?\n",
    "3. Which factors best predict poverty rates?\n",
    "4. What are the policy implications?\n",
    "\n",
    "## Data Sources\n",
    "- **US Census Bureau ACS (American Community Survey)**: Real income and poverty data\n",
    "- **Census API**: B19013 (Median Household Income), S1701 (Poverty Status)\n",
    "- **FRED API**: Economic indicators and regional data\n",
    "- **Geography**: County and state-level analysis across all US states\n",
    "\n",
    "## Methods\n",
    "- **Descriptive**: Summary statistics, distributions\n",
    "- **Predictive**: Linear regression, Random Forest\n",
    "- **Visualization**: Choropleth maps, scatter plots, regional comparisons"
   ]
  },
  {
   "cell_type": "code",
   "execution_count": 1,
   "id": "cf746eac",
   "metadata": {},
   "outputs": [
    {
     "name": "stdout",
     "output_type": "stream",
     "text": [
      " Found CENSUS API in config file: /Users/bcdelo/Documents/GitHub/KR-Labs-khipu/configs/apikeys\n",
      " Found FRED API KEY in config file: /Users/bcdelo/Documents/GitHub/KR-Labs-khipu/configs/apikeys\n",
      " Libraries imported successfully\n",
      " Real Data Sources: US Census Bureau ACS + FRED\n",
      " Focus: Actual US income distribution and poverty rates\n",
      " Goal: Real economic intelligence and policy insights\n"
     ]
    }
   ],
   "source": [
    "# \n",
    "# 1. SETUP & LIBRARIES\n",
    "# \n",
    "\n",
    "import pandas as pd\n",
    "import numpy as np\n",
    "import plotly.express as px\n",
    "import plotly.graph_objects as go\n",
    "from sklearn.model_selection import train_test_split\n",
    "from sklearn.linear_model import LinearRegression\n",
    "from sklearn.ensemble import RandomForestRegressor\n",
    "from sklearn.metrics import r2_score, mean_absolute_error\n",
    "import requests\n",
    "import os\n",
    "import warnings\n",
    "warnings.filterwarnings('ignore')\n",
    "\n",
    "# API Configuration\n",
    "def load_api_key(api_name, required=True):\n",
    "    \"\"\"Load API key from environment or config file\"\"\"\n",
    "    # Try environment variable first\n",
    "    key = os.environ.get(api_name)\n",
    "    \n",
    "    if not key:\n",
    "        # Try config file in workspace\n",
    "        config_paths = [\n",
    "            '/Users/bcdelo/Documents/GitHub/KR-Labs-khipu/configs/apikeys',\n",
    "            '../../../KR-Labs-khipu/configs/apikeys',\n",
    "            '../../KR-Labs-khipu/configs/apikeys'\n",
    "        ]\n",
    "        \n",
    "        for config_path in config_paths:\n",
    "            try:\n",
    "                if os.path.exists(config_path):\n",
    "                    with open(config_path, 'r') as f:\n",
    "                        for line in f:\n",
    "                            line = line.strip()\n",
    "                            if line.startswith(f'{api_name}:') or line.startswith(f'{api_name} '):\n",
    "                                key = line.split(':', 1)[-1].strip()\n",
    "                                break\n",
    "                            elif line.startswith(f'{api_name}='):\n",
    "                                key = line.split('=', 1)[1].strip()\n",
    "                                break\n",
    "                    if key:\n",
    "                        print(f\" Found {api_name} in config file: {config_path}\")\n",
    "                        break\n",
    "            except Exception as e:\n",
    "                continue\n",
    "    \n",
    "    if not key and required:\n",
    "        print(f\"  {api_name} not found in environment or config\")\n",
    "        print(f\" Set with: export {api_name}='your_key_here'\")\n",
    "        print(f\" Get key from: https://api.census.gov/data/key_signup.html\")\n",
    "    \n",
    "    return key\n",
    "\n",
    "# Load API keys (matching config file format)\n",
    "CENSUS_API_KEY = load_api_key('CENSUS API')  # Config has \"CENSUS API: key\"\n",
    "FRED_API_KEY = load_api_key('FRED API KEY', required=False)  # Config has \"FRED API KEY: key\"\n",
    "\n",
    "print(\" Libraries imported successfully\")\n",
    "print(\" Real Data Sources: US Census Bureau ACS + FRED\")\n",
    "print(\" Focus: Actual US income distribution and poverty rates\")\n",
    "print(\" Goal: Real economic intelligence and policy insights\")"
   ]
  },
  {
   "cell_type": "markdown",
   "id": "a50de0c6",
   "metadata": {},
   "source": [
    "##  Census API Setup Guide\n",
    "\n",
    "### Quick Setup\n",
    "1. **Get a free Census API key**: https://api.census.gov/data/key_signup.html\n",
    "2. **Set environment variable**: \n",
    "   ```bash\n",
    "   export CENSUS_API_KEY='your_actual_key_here'\n",
    "   ```\n",
    "3. **Verify in terminal**:\n",
    "   ```bash\n",
    "   echo $CENSUS_API_KEY\n",
    "   ```\n",
    "\n",
    "### Alternative Setup Options\n",
    "**Option 1: Environment file**\n",
    "```bash\n",
    "# In your terminal\n",
    "echo 'export CENSUS_API_KEY=\"your_key_here\"' >> ~/.zshrc\n",
    "source ~/.zshrc\n",
    "```\n",
    "\n",
    "**Option 2: Jupyter notebook**\n",
    "```python\n",
    "import os\n",
    "os.environ['CENSUS_API_KEY'] = 'your_key_here'\n",
    "```\n",
    "\n",
    "**Option 3: Config file**\n",
    "- Create file: `/configs/apikeys`\n",
    "- Add line: `CENSUS_API_KEY=your_key_here`\n",
    "\n",
    "### Common Issues\n",
    "-  **\"Expecting value: line 2 column 1\"** → Invalid API key or rate limit\n",
    "-  **\"Census API error: 400\"** → Check variable names (B19013_001E, S1701_C03_001E)\n",
    "-  **\"Census API error: 429\"** → Rate limit exceeded, wait 1 minute\n",
    "\n",
    "### Fallback Data\n",
    "If API unavailable, notebook uses real 2022 Census estimates for 20 states including VA ($80,963) and WV ($51,248)."
   ]
  },
  {
   "cell_type": "code",
   "execution_count": 2,
   "id": "1e29907f",
   "metadata": {},
   "outputs": [
    {
     "name": "stdout",
     "output_type": "stream",
     "text": [
      "Census API key detected: 19934324...e15d\n",
      "Loading real US income and poverty data...\n",
      "Fetching real data from US Census Bureau ACS...\n",
      "Using API key: 19934324...e15d\n",
      "Fetching income data...\n",
      "Fetching real poverty data...\n",
      "Real poverty data successfully loaded!\n",
      "API working! Got 52 states\n",
      "Using real Census poverty rates\n",
      "Real Census income data + real poverty data loaded: 51 states\n",
      "Dataset loaded: 51 geographic areas\n",
      "Income range: $52,985 - $101,722\n",
      "Poverty range: 7.3% - 19.2%\n",
      "Regional coverage: South, West, Northeast, Midwest\n"
     ]
    },
    {
     "data": {
      "text/html": [
       "<div>\n",
       "<style scoped>\n",
       "    .dataframe tbody tr th:only-of-type {\n",
       "        vertical-align: middle;\n",
       "    }\n",
       "\n",
       "    .dataframe tbody tr th {\n",
       "        vertical-align: top;\n",
       "    }\n",
       "\n",
       "    .dataframe thead th {\n",
       "        text-align: right;\n",
       "    }\n",
       "</style>\n",
       "<table border=\"1\" class=\"dataframe\">\n",
       "  <thead>\n",
       "    <tr style=\"text-align: right;\">\n",
       "      <th></th>\n",
       "      <th>county_name</th>\n",
       "      <th>state</th>\n",
       "      <th>region</th>\n",
       "      <th>median_income</th>\n",
       "      <th>poverty_rate</th>\n",
       "      <th>population</th>\n",
       "    </tr>\n",
       "  </thead>\n",
       "  <tbody>\n",
       "    <tr>\n",
       "      <th>0</th>\n",
       "      <td>Alabama</td>\n",
       "      <td>AL</td>\n",
       "      <td>South</td>\n",
       "      <td>59609</td>\n",
       "      <td>15.7</td>\n",
       "      <td>5028092</td>\n",
       "    </tr>\n",
       "    <tr>\n",
       "      <th>1</th>\n",
       "      <td>Alaska</td>\n",
       "      <td>AK</td>\n",
       "      <td>West</td>\n",
       "      <td>86370</td>\n",
       "      <td>10.5</td>\n",
       "      <td>734821</td>\n",
       "    </tr>\n",
       "    <tr>\n",
       "      <th>2</th>\n",
       "      <td>Arizona</td>\n",
       "      <td>AZ</td>\n",
       "      <td>West</td>\n",
       "      <td>72581</td>\n",
       "      <td>13.1</td>\n",
       "      <td>7172282</td>\n",
       "    </tr>\n",
       "    <tr>\n",
       "      <th>3</th>\n",
       "      <td>Arkansas</td>\n",
       "      <td>AR</td>\n",
       "      <td>South</td>\n",
       "      <td>56335</td>\n",
       "      <td>16.2</td>\n",
       "      <td>3018669</td>\n",
       "    </tr>\n",
       "    <tr>\n",
       "      <th>4</th>\n",
       "      <td>California</td>\n",
       "      <td>CA</td>\n",
       "      <td>West</td>\n",
       "      <td>91905</td>\n",
       "      <td>12.1</td>\n",
       "      <td>39356104</td>\n",
       "    </tr>\n",
       "  </tbody>\n",
       "</table>\n",
       "</div>"
      ],
      "text/plain": [
       "  county_name state region  median_income  poverty_rate  population\n",
       "0     Alabama    AL  South          59609          15.7     5028092\n",
       "1      Alaska    AK   West          86370          10.5      734821\n",
       "2     Arizona    AZ   West          72581          13.1     7172282\n",
       "3    Arkansas    AR  South          56335          16.2     3018669\n",
       "4  California    CA   West          91905          12.1    39356104"
      ]
     },
     "execution_count": 2,
     "metadata": {},
     "output_type": "execute_result"
    }
   ],
   "source": [
    "# Real Data Loading - US Census Bureau ACS\n",
    "\n",
    "# Census regions mapping\n",
    "CENSUS_REGIONS = {\n",
    "    'Northeast': ['CT', 'ME', 'MA', 'NH', 'NJ', 'NY', 'PA', 'RI', 'VT'],\n",
    "    'Midwest': ['IL', 'IN', 'IA', 'KS', 'MI', 'MN', 'MO', 'NE', 'ND', 'OH', 'SD', 'WI'],\n",
    "    'South': ['AL', 'AR', 'DE', 'DC', 'FL', 'GA', 'KY', 'LA', 'MD', 'MS', 'NC', 'OK', 'SC', 'TN', 'TX', 'VA', 'WV'],\n",
    "    'West': ['AK', 'AZ', 'CA', 'CO', 'HI', 'ID', 'MT', 'NV', 'NM', 'OR', 'UT', 'WA', 'WY']\n",
    "}\n",
    "\n",
    "# Create reverse mapping\n",
    "state_to_region = {}\n",
    "for region, states in CENSUS_REGIONS.items():\n",
    "    for state in states:\n",
    "        state_to_region[state] = region\n",
    "\n",
    "def get_census_data():\n",
    "    \"\"\"Fetch real income and poverty data from Census ACS API\"\"\"\n",
    "    \n",
    "    if not CENSUS_API_KEY:\n",
    "        print(\"Census API key required for real data\")\n",
    "        print(\"Get free key: https://api.census.gov/data/key_signup.html\")\n",
    "        return create_fallback_data()\n",
    "    \n",
    "    print(\"Fetching real data from US Census Bureau ACS...\")\n",
    "    print(f\"Using API key: {CENSUS_API_KEY[:8]}...{CENSUS_API_KEY[-4:]}\")\n",
    "    \n",
    "    try:\n",
    "        # Step 1: Get income and population data\n",
    "        base_url = \"https://api.census.gov/data/2022/acs/acs5\"\n",
    "        income_variables = \"B19013_001E,B01003_001E,NAME\"\n",
    "        income_url = f\"{base_url}?get={income_variables}&for=state:*&key={CENSUS_API_KEY}\"\n",
    "        \n",
    "        print(\"Fetching income data...\")\n",
    "        income_response = requests.get(income_url, timeout=10)\n",
    "        \n",
    "        if income_response.status_code != 200:\n",
    "            print(f\"Income API error: {income_response.status_code}\")\n",
    "            return create_fallback_data()\n",
    "        \n",
    "        income_data = income_response.json()\n",
    "        income_df = pd.DataFrame(income_data[1:], columns=income_data[0])\n",
    "        \n",
    "        # Step 2: Try to get real poverty data\n",
    "        print(\"Fetching real poverty data...\")\n",
    "        poverty_url = f\"https://api.census.gov/data/2022/acs/acs5/subject?get=S1701_C03_001E,NAME&for=state:*&key={CENSUS_API_KEY}\"\n",
    "        \n",
    "        poverty_response = requests.get(poverty_url, timeout=10)\n",
    "        real_poverty_data = None\n",
    "        \n",
    "        if poverty_response.status_code == 200:\n",
    "            try:\n",
    "                poverty_data = poverty_response.json()\n",
    "                if poverty_data and len(poverty_data) > 1:\n",
    "                    poverty_df = pd.DataFrame(poverty_data[1:], columns=poverty_data[0])\n",
    "                    real_poverty_data = poverty_df.set_index('state')['S1701_C03_001E'].to_dict()\n",
    "                    print(\"Real poverty data successfully loaded!\")\n",
    "                else:\n",
    "                    print(\"Empty poverty data response\")\n",
    "            except Exception as e:\n",
    "                print(f\"Poverty data error: {e}\")\n",
    "        else:\n",
    "            print(f\"Poverty API returned status {poverty_response.status_code}\")\n",
    "        \n",
    "        # Process the combined data\n",
    "        print(f\"API working! Got {len(income_df)} states\")\n",
    "        \n",
    "        # Clean and process data\n",
    "        income_df['median_income'] = pd.to_numeric(income_df['B19013_001E'], errors='coerce')\n",
    "        income_df['population'] = pd.to_numeric(income_df['B01003_001E'], errors='coerce')\n",
    "        \n",
    "        # Use real poverty data if available, otherwise estimate\n",
    "        if real_poverty_data:\n",
    "            print(\"Using real Census poverty rates\")\n",
    "            income_df['poverty_rate'] = income_df['state'].map(real_poverty_data)\n",
    "            income_df['poverty_rate'] = pd.to_numeric(income_df['poverty_rate'], errors='coerce')\n",
    "            # Fill any missing values with estimates\n",
    "            missing_poverty = income_df['poverty_rate'].isna()\n",
    "            if missing_poverty.any():\n",
    "                income_df.loc[missing_poverty, 'poverty_rate'] = 25 - (income_df.loc[missing_poverty, 'median_income'] / 5000)\n",
    "        else:\n",
    "            print(\"Using estimated poverty rates (real poverty API unavailable)\")\n",
    "            income_df['poverty_rate'] = 25 - (income_df['median_income'] / 5000)\n",
    "        \n",
    "        # Ensure realistic poverty rate bounds\n",
    "        income_df['poverty_rate'] = income_df['poverty_rate'].clip(5, 25)\n",
    "        \n",
    "        # Map FIPS codes to state abbreviations\n",
    "        fips_to_state = {\n",
    "            '01': 'AL', '02': 'AK', '04': 'AZ', '05': 'AR', '06': 'CA', '08': 'CO', '09': 'CT', '10': 'DE',\n",
    "            '11': 'DC', '12': 'FL', '13': 'GA', '15': 'HI', '16': 'ID', '17': 'IL', '18': 'IN', '19': 'IA',\n",
    "            '20': 'KS', '21': 'KY', '22': 'LA', '23': 'ME', '24': 'MD', '25': 'MA', '26': 'MI', '27': 'MN',\n",
    "            '28': 'MS', '29': 'MO', '30': 'MT', '31': 'NE', '32': 'NV', '33': 'NH', '34': 'NJ', '35': 'NM',\n",
    "            '36': 'NY', '37': 'NC', '38': 'ND', '39': 'OH', '40': 'OK', '41': 'OR', '42': 'PA', '44': 'RI',\n",
    "            '45': 'SC', '46': 'SD', '47': 'TN', '48': 'TX', '49': 'UT', '50': 'VT', '51': 'VA', '53': 'WA',\n",
    "            '54': 'WV', '55': 'WI', '56': 'WY'\n",
    "        }\n",
    "        \n",
    "        income_df['state_abbr'] = income_df['state'].map(fips_to_state)\n",
    "        income_df['region'] = income_df['state_abbr'].map(state_to_region)\n",
    "        income_df['state_name'] = income_df['NAME']\n",
    "        \n",
    "        # Remove null data and invalid states\n",
    "        income_df = income_df.dropna(subset=['median_income', 'state_abbr'])\n",
    "        income_df = income_df[income_df['median_income'] > 0]\n",
    "        \n",
    "        data_source = \"real\" if real_poverty_data else \"estimated\"\n",
    "        print(f\"Real Census income data + {data_source} poverty data loaded: {len(income_df)} states\")\n",
    "        \n",
    "        return income_df[['state_name', 'state_abbr', 'region', 'median_income', 'poverty_rate', 'population']].rename(columns={'state_name': 'county_name', 'state_abbr': 'state'})\n",
    "    \n",
    "    except requests.exceptions.RequestException as req_error:\n",
    "        print(f\"Network error: {req_error}\")\n",
    "        return create_fallback_data()\n",
    "    except Exception as e:\n",
    "        print(f\"Unexpected error fetching Census data: {e}\")\n",
    "        return create_fallback_data()\n",
    "\n",
    "def create_fallback_data():\n",
    "    \"\"\"Fallback to sample real data when API unavailable\"\"\"\n",
    "    print(\"Using sample real data (2022 Census estimates)...\")\n",
    "    \n",
    "    # Real 2022 state-level data (sample)\n",
    "    real_data = [\n",
    "        {'state': 'CA', 'region': 'West', 'median_income': 84097, 'poverty_rate': 11.7, 'population': 39538223},\n",
    "        {'state': 'TX', 'region': 'South', 'median_income': 67321, 'poverty_rate': 14.2, 'population': 29945493},\n",
    "        {'state': 'FL', 'region': 'South', 'median_income': 64034, 'poverty_rate': 12.7, 'population': 22610726},\n",
    "        {'state': 'NY', 'region': 'Northeast', 'median_income': 72920, 'poverty_rate': 13.0, 'population': 19336776},\n",
    "        {'state': 'PA', 'region': 'Northeast', 'median_income': 68957, 'poverty_rate': 10.8, 'population': 12972008},\n",
    "        {'state': 'IL', 'region': 'Midwest', 'median_income': 72205, 'poverty_rate': 11.1, 'population': 12587014},\n",
    "        {'state': 'OH', 'region': 'Midwest', 'median_income': 62689, 'poverty_rate': 12.8, 'population': 11780017},\n",
    "        {'state': 'GA', 'region': 'South', 'median_income': 66559, 'poverty_rate': 13.3, 'population': 10912876},\n",
    "        {'state': 'NC', 'region': 'South', 'median_income': 60516, 'poverty_rate': 12.9, 'population': 10698973},\n",
    "        {'state': 'MI', 'region': 'Midwest', 'median_income': 64488, 'poverty_rate': 12.7, 'population': 10037261},\n",
    "        {'state': 'VA', 'region': 'South', 'median_income': 80963, 'poverty_rate': 9.2, 'population': 8715698},\n",
    "        {'state': 'WV', 'region': 'South', 'median_income': 51248, 'poverty_rate': 16.8, 'population': 1775156},\n",
    "        {'state': 'WA', 'region': 'West', 'median_income': 84247, 'poverty_rate': 9.5, 'population': 7785786},\n",
    "        {'state': 'AZ', 'region': 'West', 'median_income': 70821, 'poverty_rate': 12.1, 'population': 7431344},\n",
    "        {'state': 'TN', 'region': 'South', 'median_income': 58516, 'poverty_rate': 13.6, 'population': 7051339},\n",
    "        {'state': 'IN', 'region': 'Midwest', 'median_income': 62743, 'poverty_rate': 11.0, 'population': 6805985},\n",
    "        {'state': 'MA', 'region': 'Northeast', 'median_income': 89026, 'poverty_rate': 9.7, 'population': 6981974},\n",
    "        {'state': 'MD', 'region': 'South', 'median_income': 95991, 'poverty_rate': 8.3, 'population': 6164660},\n",
    "        {'state': 'CO', 'region': 'West', 'median_income': 80184, 'poverty_rate': 9.3, 'population': 5839926},\n",
    "        {'state': 'MN', 'region': 'Midwest', 'median_income': 77720, 'poverty_rate': 8.9, 'population': 5742363}\n",
    "    ]\n",
    "    \n",
    "    # Add county_name for consistency\n",
    "    for row in real_data:\n",
    "        row['county_name'] = f\"{row['state']} State\"\n",
    "    \n",
    "    return pd.DataFrame(real_data)\n",
    "\n",
    "# Test API key first\n",
    "if CENSUS_API_KEY:\n",
    "    print(f\"Census API key detected: {CENSUS_API_KEY[:8]}...{CENSUS_API_KEY[-4:]}\")\n",
    "else:\n",
    "    print(\"No Census API key found\")\n",
    "\n",
    "# Load the data\n",
    "print(\"Loading real US income and poverty data...\")\n",
    "df = get_census_data()\n",
    "\n",
    "print(f\"Dataset loaded: {len(df)} geographic areas\")\n",
    "print(f\"Income range: ${df['median_income'].min():,.0f} - ${df['median_income'].max():,.0f}\")\n",
    "print(f\"Poverty range: {df['poverty_rate'].min():.1f}% - {df['poverty_rate'].max():.1f}%\")\n",
    "print(f\"Regional coverage: {', '.join(df['region'].unique())}\")\n",
    "\n",
    "# Display sample\n",
    "df.head()"
   ]
  },
  {
   "cell_type": "code",
   "execution_count": 3,
   "id": "9b540166",
   "metadata": {},
   "outputs": [
    {
     "name": "stdout",
     "output_type": "stream",
     "text": [
      " Analyzing income-poverty relationship...\n"
     ]
    },
    {
     "data": {
      "application/vnd.plotly.v1+json": {
       "config": {
        "plotlyServerURL": "https://plot.ly"
       },
       "data": [
        {
         "hovertemplate": "<b>%{hovertext}</b><br><br>region=South<br>Median Household Income ($)=%{x}<br>Poverty Rate (%)=%{y}<br>population=%{marker.size}<extra></extra>",
         "hovertext": [
          "Texas",
          "South Carolina",
          "Virginia",
          "Mississippi",
          "Kentucky",
          "Arkansas",
          "District of Columbia",
          "Oklahoma",
          "North Carolina",
          "West Virginia",
          "Florida",
          "Alabama",
          "Georgia",
          "Louisiana",
          "Maryland",
          "Delaware",
          "Tennessee"
         ],
         "legendgroup": "South",
         "marker": {
          "color": "#636efa",
          "size": {
           "bdata": "zje+Ad54TgB/mYMA/iUtAJe1RACtDy4AezsKAMGVPABGw58Ax1sbAOEdSgH8uEwAFZyjACLPRgArBV4AYykPAPylaQA=",
           "dtype": "i4"
          },
          "sizemode": "area",
          "sizeref": 98390.26,
          "symbol": "circle"
         },
         "mode": "markers",
         "name": "South",
         "orientation": "v",
         "showlegend": true,
         "type": "scatter",
         "x": {
          "bdata": "Sx0BAIf4AADRVAEA+c4AABfrAAAP3AAAWo0BALTvAACKAgEAsdcAAE0JAQDZ6AAAuxYBAPzhAACdgAEA3TUBACP6AAA=",
          "dtype": "i4"
         },
         "xaxis": "x",
         "y": {
          "bdata": "zczMzMzMK0DNzMzMzMwsQAAAAAAAACRAMzMzMzMzM0CamZmZmRkwQDMzMzMzMzBAMzMzMzMzLkBmZmZmZmYuQJqZmZmZmSpAzczMzMzMMEDNzMzMzMwpQGZmZmZmZi9AAAAAAAAAK0AzMzMzM7MyQJqZmZmZmSJAMzMzMzMzJkAAAAAAAAAsQA==",
          "dtype": "f8"
         },
         "yaxis": "y"
        },
        {
         "hovertemplate": "<b>OLS trendline</b><br>poverty_rate = -0.00013263 * median_income + 23.6137<br>R<sup>2</sup>=0.513111<br><br>region=South<br>Median Household Income ($)=%{x}<br>Poverty Rate (%)=%{y} <b>(trend)</b><extra></extra>",
         "legendgroup": "South",
         "marker": {
          "color": "#636efa",
          "symbol": "circle"
         },
         "mode": "lines",
         "name": "South",
         "showlegend": false,
         "type": "scatter",
         "x": {
          "bdata": "+c4AALHXAAAP3AAA/OEAANnoAAAX6wAAtO8AAIf4AAAj+gAAigIBAE0JAQC7FgEASx0BAN01AQDRVAEAnYABAFqNAQA=",
          "dtype": "i4"
         },
         "xaxis": "x",
         "y": {
          "bdata": "WCVHvxeWMEDKhL8kT0owQBhhKnVZJDBAJnlpTq/hL0AQ/T+GX2ovQC725hNlQy9AzSe5gjLzLkCLGhbvy1kuQIXcM7TRPS5A1f/fmsCrLUB6/PjONDYtQKrHym6+TCxAW2IXOanaK0CR6OOGhy8qQHMGmklwFShAbc/IRxIcJUCpRtXhoD4kQA==",
          "dtype": "f8"
         },
         "yaxis": "y"
        },
        {
         "hovertemplate": "<b>%{hovertext}</b><br><br>region=West<br>Median Household Income ($)=%{x}<br>Poverty Rate (%)=%{y}<br>population=%{marker.size}<extra></extra>",
         "hovertext": [
          "Idaho",
          "New Mexico",
          "Washington",
          "California",
          "Montana",
          "Utah",
          "Hawaii",
          "Colorado",
          "Oregon",
          "Alaska",
          "Arizona",
          "Wyoming",
          "Nevada"
         ],
         "legendgroup": "West",
         "marker": {
          "color": "#EF553B",
          "size": {
           "bdata": "nUocAM87IABlUXUAyIZYAgCpEABhGzIAXSIWACYOWAD+iEAAZTYLALpwbQCJ0QgAMWAvAA==",
           "dtype": "i4"
          },
          "sizemode": "area",
          "sizeref": 98390.26,
          "symbol": "circle"
         },
         "mode": "markers",
         "name": "West",
         "orientation": "v",
         "showlegend": true,
         "type": "scatter",
         "x": {
          "bdata": "RhIBAGLlAADVYAEAAWcBACUDAQAxUwEAXnIBAC5WAQBYKwEAYlEBAIUbAQAvGwEA3hcBAA==",
          "dtype": "i4"
         },
         "xaxis": "x",
         "y": {
          "bdata": "AAAAAAAAJkDNzMzMzEwyQM3MzMzMzCNAMzMzMzMzKEDNzMzMzMwoQAAAAAAAACFAMzMzMzMzI0AzMzMzMzMjQM3MzMzMzCdAAAAAAAAAJUAzMzMzMzMqQGZmZmZmZiVAZmZmZmZmKUA=",
          "dtype": "f8"
         },
         "yaxis": "y"
        },
        {
         "hovertemplate": "<b>OLS trendline</b><br>poverty_rate = -0.000162042 * median_income + 24.3563<br>R<sup>2</sup>=0.555156<br><br>region=West<br>Median Household Income ($)=%{x}<br>Poverty Rate (%)=%{y} <b>(trend)</b><extra></extra>",
         "legendgroup": "West",
         "marker": {
          "color": "#EF553B",
          "symbol": "circle"
         },
         "mode": "lines",
         "name": "West",
         "showlegend": false,
         "type": "scatter",
         "x": {
          "bdata": "YuUAACUDAQBGEgEA3hcBAC8bAQCFGwEAWCsBAGJRAQAxUwEALlYBANVgAQABZwEAXnIBAA==",
          "dtype": "i4"
         },
         "xaxis": "x",
         "y": {
          "bdata": "JsXsIoquLUA17tbBbDYrQERVC2EZ9SlAwcpa3Ep+KUCXUBzK2jcpQL9xITi4MClAJ0H7Q6DgJ0CeYpkLtbgkQJZZCE1LkiRA8cpNUtNSJEB60cANlHAjQCTxrSJ+7SJAYHnYVSX8IUA=",
          "dtype": "f8"
         },
         "yaxis": "y"
        },
        {
         "hovertemplate": "<b>%{hovertext}</b><br><br>region=Northeast<br>Median Household Income ($)=%{x}<br>Poverty Rate (%)=%{y}<br>population=%{marker.size}<extra></extra>",
         "hovertext": [
          "New York",
          "New Jersey",
          "Connecticut",
          "Maine",
          "Vermont",
          "New Hampshire",
          "Massachusetts",
          "Rhode Island",
          "Pennsylvania"
         ],
         "legendgroup": "Northeast",
         "marker": {
          "color": "#00cc96",
          "size": {
           "bdata": "CxcxASchjQC1GjcApdsUAOjSCQAaDRUADZJqAGqyEAAYM8YA",
           "dtype": "i4"
          },
          "sizemode": "area",
          "sizeref": 98390.26,
          "symbol": "circle"
         },
         "mode": "markers",
         "name": "Northeast",
         "orientation": "v",
         "showlegend": true,
         "type": "scatter",
         "x": {
          "bdata": "6j0BAGZ7AQBlYAEAmwoBAB4hAQDdYgEA+XgBANo9AQDSHQEA",
          "dtype": "i4"
         },
         "xaxis": "x",
         "y": {
          "bdata": "MzMzMzMzK0BmZmZmZmYjQDMzMzMzMyRAzczMzMzMJUDNzMzMzMwkQDMzMzMzMx1AzczMzMzMI0BmZmZmZmYmQJqZmZmZmSdA",
          "dtype": "f8"
         },
         "yaxis": "y"
        },
        {
         "hovertemplate": "<b>OLS trendline</b><br>poverty_rate = -8.02605e-05 * median_income + 17.2585<br>R<sup>2</sup>=0.246118<br><br>region=Northeast<br>Median Household Income ($)=%{x}<br>Poverty Rate (%)=%{y} <b>(trend)</b><extra></extra>",
         "legendgroup": "Northeast",
         "marker": {
          "color": "#00cc96",
          "symbol": "circle"
         },
         "mode": "lines",
         "name": "Northeast",
         "showlegend": false,
         "type": "scatter",
         "x": {
          "bdata": "mwoBANIdAQAeIQEA2j0BAOo9AQBlYAEA3WIBAPl4AQBmewEA",
          "dtype": "i4"
         },
         "xaxis": "x",
         "y": {
          "bdata": "0h5AZbCPJ0AeWJsEjcUmQGjvZTneoiZAdVcL25V0JUCP74qJ7XMlQFIHI2YyCSRASP/S0jnvI0C3bKMzowYjQBqsW1ge7SJA",
          "dtype": "f8"
         },
         "yaxis": "y"
        },
        {
         "hovertemplate": "<b>%{hovertext}</b><br><br>region=Midwest<br>Median Household Income ($)=%{x}<br>Poverty Rate (%)=%{y}<br>population=%{marker.size}<extra></extra>",
         "hovertext": [
          "Illinois",
          "Wisconsin",
          "Iowa",
          "Kansas",
          "Missouri",
          "Nebraska",
          "North Dakota",
          "Ohio",
          "Minnesota",
          "South Dakota",
          "Michigan",
          "Indiana"
         ],
         "legendgroup": "Midwest",
         "marker": {
          "color": "#ab63fa",
          "size": {
           "bdata": "gqrCABDBWQBkqDAAcswsALboXQAb5B0AqtoLANuqswA851YA5pUNAMF4mQCThWcA",
           "dtype": "i4"
          },
          "sizemode": "area",
          "sizeref": 98390.26,
          "symbol": "circle"
         },
         "mode": "markers",
         "name": "Midwest",
         "orientation": "v",
         "showlegend": true,
         "type": "scatter",
         "x": {
          "bdata": "YTIBAAobAQCrEwEAcxABAIABAQAqGAEA5yABAK4FAQBZSQEAUQ8BAJkLAQBlBgEA",
          "dtype": "i4"
         },
         "xaxis": "x",
         "y": {
          "bdata": "mpmZmZmZJ0BmZmZmZmYlQDMzMzMzMyZAMzMzMzMzJ0CamZmZmZkpQM3MzMzMzCRAmpmZmZmZJUCamZmZmZkqQJqZmZmZmSJAmpmZmZmZKEAzMzMzMzMqQJqZmZmZmShA",
          "dtype": "f8"
         },
         "yaxis": "y"
        },
        {
         "hovertemplate": "<b>OLS trendline</b><br>poverty_rate = -0.000176435 * median_income + 24.2585<br>R<sup>2</sup>=0.595297<br><br>region=Midwest<br>Median Household Income ($)=%{x}<br>Poverty Rate (%)=%{y} <b>(trend)</b><extra></extra>",
         "legendgroup": "Midwest",
         "marker": {
          "color": "#ab63fa",
          "symbol": "circle"
         },
         "mode": "lines",
         "name": "Midwest",
         "showlegend": false,
         "type": "scatter",
         "x": {
          "bdata": "gAEBAK4FAQBlBgEAmQsBAFEPAQBzEAEAqxMBACoYAQAKGwEA5yABAGEyAQBZSQEA",
          "dtype": "i4"
         },
         "xaxis": "x",
         "y": {
          "bdata": "S4c3u3ZBKUADxk0vzuAoQE7PbSxG0ChAXPGVrvJXKEBRBCn58gEoQK7g5IHA5ydAy6Xc5FCdJ0DGK4MpVzUnQF8rQJ3a8iZAM1oz30JrJkAOt5NKGtckQPj+AeruwyJA",
          "dtype": "f8"
         },
         "yaxis": "y"
        }
       ],
       "layout": {
        "height": 600,
        "legend": {
         "itemsizing": "constant",
         "title": {
          "text": "region"
         },
         "tracegroupgap": 0
        },
        "template": {
         "data": {
          "bar": [
           {
            "error_x": {
             "color": "#2a3f5f"
            },
            "error_y": {
             "color": "#2a3f5f"
            },
            "marker": {
             "line": {
              "color": "#E5ECF6",
              "width": 0.5
             },
             "pattern": {
              "fillmode": "overlay",
              "size": 10,
              "solidity": 0.2
             }
            },
            "type": "bar"
           }
          ],
          "barpolar": [
           {
            "marker": {
             "line": {
              "color": "#E5ECF6",
              "width": 0.5
             },
             "pattern": {
              "fillmode": "overlay",
              "size": 10,
              "solidity": 0.2
             }
            },
            "type": "barpolar"
           }
          ],
          "carpet": [
           {
            "aaxis": {
             "endlinecolor": "#2a3f5f",
             "gridcolor": "white",
             "linecolor": "white",
             "minorgridcolor": "white",
             "startlinecolor": "#2a3f5f"
            },
            "baxis": {
             "endlinecolor": "#2a3f5f",
             "gridcolor": "white",
             "linecolor": "white",
             "minorgridcolor": "white",
             "startlinecolor": "#2a3f5f"
            },
            "type": "carpet"
           }
          ],
          "choropleth": [
           {
            "colorbar": {
             "outlinewidth": 0,
             "ticks": ""
            },
            "type": "choropleth"
           }
          ],
          "contour": [
           {
            "colorbar": {
             "outlinewidth": 0,
             "ticks": ""
            },
            "colorscale": [
             [
              0,
              "#0d0887"
             ],
             [
              0.1111111111111111,
              "#46039f"
             ],
             [
              0.2222222222222222,
              "#7201a8"
             ],
             [
              0.3333333333333333,
              "#9c179e"
             ],
             [
              0.4444444444444444,
              "#bd3786"
             ],
             [
              0.5555555555555556,
              "#d8576b"
             ],
             [
              0.6666666666666666,
              "#ed7953"
             ],
             [
              0.7777777777777778,
              "#fb9f3a"
             ],
             [
              0.8888888888888888,
              "#fdca26"
             ],
             [
              1,
              "#f0f921"
             ]
            ],
            "type": "contour"
           }
          ],
          "contourcarpet": [
           {
            "colorbar": {
             "outlinewidth": 0,
             "ticks": ""
            },
            "type": "contourcarpet"
           }
          ],
          "heatmap": [
           {
            "colorbar": {
             "outlinewidth": 0,
             "ticks": ""
            },
            "colorscale": [
             [
              0,
              "#0d0887"
             ],
             [
              0.1111111111111111,
              "#46039f"
             ],
             [
              0.2222222222222222,
              "#7201a8"
             ],
             [
              0.3333333333333333,
              "#9c179e"
             ],
             [
              0.4444444444444444,
              "#bd3786"
             ],
             [
              0.5555555555555556,
              "#d8576b"
             ],
             [
              0.6666666666666666,
              "#ed7953"
             ],
             [
              0.7777777777777778,
              "#fb9f3a"
             ],
             [
              0.8888888888888888,
              "#fdca26"
             ],
             [
              1,
              "#f0f921"
             ]
            ],
            "type": "heatmap"
           }
          ],
          "histogram": [
           {
            "marker": {
             "pattern": {
              "fillmode": "overlay",
              "size": 10,
              "solidity": 0.2
             }
            },
            "type": "histogram"
           }
          ],
          "histogram2d": [
           {
            "colorbar": {
             "outlinewidth": 0,
             "ticks": ""
            },
            "colorscale": [
             [
              0,
              "#0d0887"
             ],
             [
              0.1111111111111111,
              "#46039f"
             ],
             [
              0.2222222222222222,
              "#7201a8"
             ],
             [
              0.3333333333333333,
              "#9c179e"
             ],
             [
              0.4444444444444444,
              "#bd3786"
             ],
             [
              0.5555555555555556,
              "#d8576b"
             ],
             [
              0.6666666666666666,
              "#ed7953"
             ],
             [
              0.7777777777777778,
              "#fb9f3a"
             ],
             [
              0.8888888888888888,
              "#fdca26"
             ],
             [
              1,
              "#f0f921"
             ]
            ],
            "type": "histogram2d"
           }
          ],
          "histogram2dcontour": [
           {
            "colorbar": {
             "outlinewidth": 0,
             "ticks": ""
            },
            "colorscale": [
             [
              0,
              "#0d0887"
             ],
             [
              0.1111111111111111,
              "#46039f"
             ],
             [
              0.2222222222222222,
              "#7201a8"
             ],
             [
              0.3333333333333333,
              "#9c179e"
             ],
             [
              0.4444444444444444,
              "#bd3786"
             ],
             [
              0.5555555555555556,
              "#d8576b"
             ],
             [
              0.6666666666666666,
              "#ed7953"
             ],
             [
              0.7777777777777778,
              "#fb9f3a"
             ],
             [
              0.8888888888888888,
              "#fdca26"
             ],
             [
              1,
              "#f0f921"
             ]
            ],
            "type": "histogram2dcontour"
           }
          ],
          "mesh3d": [
           {
            "colorbar": {
             "outlinewidth": 0,
             "ticks": ""
            },
            "type": "mesh3d"
           }
          ],
          "parcoords": [
           {
            "line": {
             "colorbar": {
              "outlinewidth": 0,
              "ticks": ""
             }
            },
            "type": "parcoords"
           }
          ],
          "pie": [
           {
            "automargin": true,
            "type": "pie"
           }
          ],
          "scatter": [
           {
            "fillpattern": {
             "fillmode": "overlay",
             "size": 10,
             "solidity": 0.2
            },
            "type": "scatter"
           }
          ],
          "scatter3d": [
           {
            "line": {
             "colorbar": {
              "outlinewidth": 0,
              "ticks": ""
             }
            },
            "marker": {
             "colorbar": {
              "outlinewidth": 0,
              "ticks": ""
             }
            },
            "type": "scatter3d"
           }
          ],
          "scattercarpet": [
           {
            "marker": {
             "colorbar": {
              "outlinewidth": 0,
              "ticks": ""
             }
            },
            "type": "scattercarpet"
           }
          ],
          "scattergeo": [
           {
            "marker": {
             "colorbar": {
              "outlinewidth": 0,
              "ticks": ""
             }
            },
            "type": "scattergeo"
           }
          ],
          "scattergl": [
           {
            "marker": {
             "colorbar": {
              "outlinewidth": 0,
              "ticks": ""
             }
            },
            "type": "scattergl"
           }
          ],
          "scattermap": [
           {
            "marker": {
             "colorbar": {
              "outlinewidth": 0,
              "ticks": ""
             }
            },
            "type": "scattermap"
           }
          ],
          "scattermapbox": [
           {
            "marker": {
             "colorbar": {
              "outlinewidth": 0,
              "ticks": ""
             }
            },
            "type": "scattermapbox"
           }
          ],
          "scatterpolar": [
           {
            "marker": {
             "colorbar": {
              "outlinewidth": 0,
              "ticks": ""
             }
            },
            "type": "scatterpolar"
           }
          ],
          "scatterpolargl": [
           {
            "marker": {
             "colorbar": {
              "outlinewidth": 0,
              "ticks": ""
             }
            },
            "type": "scatterpolargl"
           }
          ],
          "scatterternary": [
           {
            "marker": {
             "colorbar": {
              "outlinewidth": 0,
              "ticks": ""
             }
            },
            "type": "scatterternary"
           }
          ],
          "surface": [
           {
            "colorbar": {
             "outlinewidth": 0,
             "ticks": ""
            },
            "colorscale": [
             [
              0,
              "#0d0887"
             ],
             [
              0.1111111111111111,
              "#46039f"
             ],
             [
              0.2222222222222222,
              "#7201a8"
             ],
             [
              0.3333333333333333,
              "#9c179e"
             ],
             [
              0.4444444444444444,
              "#bd3786"
             ],
             [
              0.5555555555555556,
              "#d8576b"
             ],
             [
              0.6666666666666666,
              "#ed7953"
             ],
             [
              0.7777777777777778,
              "#fb9f3a"
             ],
             [
              0.8888888888888888,
              "#fdca26"
             ],
             [
              1,
              "#f0f921"
             ]
            ],
            "type": "surface"
           }
          ],
          "table": [
           {
            "cells": {
             "fill": {
              "color": "#EBF0F8"
             },
             "line": {
              "color": "white"
             }
            },
            "header": {
             "fill": {
              "color": "#C8D4E3"
             },
             "line": {
              "color": "white"
             }
            },
            "type": "table"
           }
          ]
         },
         "layout": {
          "annotationdefaults": {
           "arrowcolor": "#2a3f5f",
           "arrowhead": 0,
           "arrowwidth": 1
          },
          "autotypenumbers": "strict",
          "coloraxis": {
           "colorbar": {
            "outlinewidth": 0,
            "ticks": ""
           }
          },
          "colorscale": {
           "diverging": [
            [
             0,
             "#8e0152"
            ],
            [
             0.1,
             "#c51b7d"
            ],
            [
             0.2,
             "#de77ae"
            ],
            [
             0.3,
             "#f1b6da"
            ],
            [
             0.4,
             "#fde0ef"
            ],
            [
             0.5,
             "#f7f7f7"
            ],
            [
             0.6,
             "#e6f5d0"
            ],
            [
             0.7,
             "#b8e186"
            ],
            [
             0.8,
             "#7fbc41"
            ],
            [
             0.9,
             "#4d9221"
            ],
            [
             1,
             "#276419"
            ]
           ],
           "sequential": [
            [
             0,
             "#0d0887"
            ],
            [
             0.1111111111111111,
             "#46039f"
            ],
            [
             0.2222222222222222,
             "#7201a8"
            ],
            [
             0.3333333333333333,
             "#9c179e"
            ],
            [
             0.4444444444444444,
             "#bd3786"
            ],
            [
             0.5555555555555556,
             "#d8576b"
            ],
            [
             0.6666666666666666,
             "#ed7953"
            ],
            [
             0.7777777777777778,
             "#fb9f3a"
            ],
            [
             0.8888888888888888,
             "#fdca26"
            ],
            [
             1,
             "#f0f921"
            ]
           ],
           "sequentialminus": [
            [
             0,
             "#0d0887"
            ],
            [
             0.1111111111111111,
             "#46039f"
            ],
            [
             0.2222222222222222,
             "#7201a8"
            ],
            [
             0.3333333333333333,
             "#9c179e"
            ],
            [
             0.4444444444444444,
             "#bd3786"
            ],
            [
             0.5555555555555556,
             "#d8576b"
            ],
            [
             0.6666666666666666,
             "#ed7953"
            ],
            [
             0.7777777777777778,
             "#fb9f3a"
            ],
            [
             0.8888888888888888,
             "#fdca26"
            ],
            [
             1,
             "#f0f921"
            ]
           ]
          },
          "colorway": [
           "#636efa",
           "#EF553B",
           "#00cc96",
           "#ab63fa",
           "#FFA15A",
           "#19d3f3",
           "#FF6692",
           "#B6E880",
           "#FF97FF",
           "#FECB52"
          ],
          "font": {
           "color": "#2a3f5f"
          },
          "geo": {
           "bgcolor": "white",
           "lakecolor": "white",
           "landcolor": "#E5ECF6",
           "showlakes": true,
           "showland": true,
           "subunitcolor": "white"
          },
          "hoverlabel": {
           "align": "left"
          },
          "hovermode": "closest",
          "mapbox": {
           "style": "light"
          },
          "paper_bgcolor": "white",
          "plot_bgcolor": "#E5ECF6",
          "polar": {
           "angularaxis": {
            "gridcolor": "white",
            "linecolor": "white",
            "ticks": ""
           },
           "bgcolor": "#E5ECF6",
           "radialaxis": {
            "gridcolor": "white",
            "linecolor": "white",
            "ticks": ""
           }
          },
          "scene": {
           "xaxis": {
            "backgroundcolor": "#E5ECF6",
            "gridcolor": "white",
            "gridwidth": 2,
            "linecolor": "white",
            "showbackground": true,
            "ticks": "",
            "zerolinecolor": "white"
           },
           "yaxis": {
            "backgroundcolor": "#E5ECF6",
            "gridcolor": "white",
            "gridwidth": 2,
            "linecolor": "white",
            "showbackground": true,
            "ticks": "",
            "zerolinecolor": "white"
           },
           "zaxis": {
            "backgroundcolor": "#E5ECF6",
            "gridcolor": "white",
            "gridwidth": 2,
            "linecolor": "white",
            "showbackground": true,
            "ticks": "",
            "zerolinecolor": "white"
           }
          },
          "shapedefaults": {
           "line": {
            "color": "#2a3f5f"
           }
          },
          "ternary": {
           "aaxis": {
            "gridcolor": "white",
            "linecolor": "white",
            "ticks": ""
           },
           "baxis": {
            "gridcolor": "white",
            "linecolor": "white",
            "ticks": ""
           },
           "bgcolor": "#E5ECF6",
           "caxis": {
            "gridcolor": "white",
            "linecolor": "white",
            "ticks": ""
           }
          },
          "title": {
           "x": 0.05
          },
          "xaxis": {
           "automargin": true,
           "gridcolor": "white",
           "linecolor": "white",
           "ticks": "",
           "title": {
            "standoff": 15
           },
           "zerolinecolor": "white",
           "zerolinewidth": 2
          },
          "yaxis": {
           "automargin": true,
           "gridcolor": "white",
           "linecolor": "white",
           "ticks": "",
           "title": {
            "standoff": 15
           },
           "zerolinecolor": "white",
           "zerolinewidth": 2
          }
         }
        },
        "title": {
         "text": "💰 Income vs Poverty Rate by County/Area (Real Data)"
        },
        "width": 1000,
        "xaxis": {
         "anchor": "y",
         "domain": [
          0,
          1
         ],
         "title": {
          "text": "Median Household Income ($)"
         }
        },
        "yaxis": {
         "anchor": "x",
         "domain": [
          0,
          1
         ],
         "title": {
          "text": "Poverty Rate (%)"
         }
        }
       }
      }
     },
     "metadata": {},
     "output_type": "display_data"
    },
    {
     "name": "stdout",
     "output_type": "stream",
     "text": [
      " Income-Poverty Correlation: -0.723\n",
      "\n",
      " Regional Economic Summary:\n",
      "          median_income          poverty_rate     \n",
      "                   mean      std         mean  std\n",
      "region                                            \n",
      "Midwest         71604.0   5277.8         11.6  1.2\n",
      "Northeast       83653.3  10558.4         10.5  1.7\n",
      "South           69203.1  14614.8         14.4  2.7\n",
      "West            78959.7  11277.9         11.6  2.5\n"
     ]
    },
    {
     "data": {
      "application/vnd.plotly.v1+json": {
       "config": {
        "plotlyServerURL": "https://plot.ly"
       },
       "data": [
        {
         "alignmentgroup": "True",
         "hovertemplate": "region=%{x}<br>Median Household Income ($)=%{y}<extra></extra>",
         "legendgroup": "South",
         "marker": {
          "color": "#636efa"
         },
         "name": "South",
         "notched": false,
         "offsetgroup": "South",
         "orientation": "v",
         "showlegend": true,
         "type": "box",
         "x": [
          "South",
          "South",
          "South",
          "South",
          "South",
          "South",
          "South",
          "South",
          "South",
          "South",
          "South",
          "South",
          "South",
          "South",
          "South",
          "South",
          "South"
         ],
         "x0": " ",
         "xaxis": "x",
         "y": {
          "bdata": "2egAAA/cAADdNQEAWo0BAE0JAQC7FgEAF+sAAPzhAACdgAEA+c4AAIoCAQC07wAAh/gAACP6AABLHQEA0VQBALHXAAA=",
          "dtype": "i4"
         },
         "y0": " ",
         "yaxis": "y"
        },
        {
         "alignmentgroup": "True",
         "hovertemplate": "region=%{x}<br>Median Household Income ($)=%{y}<extra></extra>",
         "legendgroup": "West",
         "marker": {
          "color": "#EF553B"
         },
         "name": "West",
         "notched": false,
         "offsetgroup": "West",
         "orientation": "v",
         "showlegend": true,
         "type": "box",
         "x": [
          "West",
          "West",
          "West",
          "West",
          "West",
          "West",
          "West",
          "West",
          "West",
          "West",
          "West",
          "West",
          "West"
         ],
         "x0": " ",
         "xaxis": "x",
         "y": {
          "bdata": "YlEBAIUbAQABZwEALlYBAF5yAQBGEgEAJQMBAN4XAQBi5QAAWCsBADFTAQDVYAEALxsBAA==",
          "dtype": "i4"
         },
         "y0": " ",
         "yaxis": "y"
        },
        {
         "alignmentgroup": "True",
         "hovertemplate": "region=%{x}<br>Median Household Income ($)=%{y}<extra></extra>",
         "legendgroup": "Northeast",
         "marker": {
          "color": "#00cc96"
         },
         "name": "Northeast",
         "notched": false,
         "offsetgroup": "Northeast",
         "orientation": "v",
         "showlegend": true,
         "type": "box",
         "x": [
          "Northeast",
          "Northeast",
          "Northeast",
          "Northeast",
          "Northeast",
          "Northeast",
          "Northeast",
          "Northeast",
          "Northeast"
         ],
         "x0": " ",
         "xaxis": "x",
         "y": {
          "bdata": "ZWABAJsKAQD5eAEA3WIBAGZ7AQDqPQEA0h0BANo9AQAeIQEA",
          "dtype": "i4"
         },
         "y0": " ",
         "yaxis": "y"
        },
        {
         "alignmentgroup": "True",
         "hovertemplate": "region=%{x}<br>Median Household Income ($)=%{y}<extra></extra>",
         "legendgroup": "Midwest",
         "marker": {
          "color": "#ab63fa"
         },
         "name": "Midwest",
         "notched": false,
         "offsetgroup": "Midwest",
         "orientation": "v",
         "showlegend": true,
         "type": "box",
         "x": [
          "Midwest",
          "Midwest",
          "Midwest",
          "Midwest",
          "Midwest",
          "Midwest",
          "Midwest",
          "Midwest",
          "Midwest",
          "Midwest",
          "Midwest",
          "Midwest"
         ],
         "x0": " ",
         "xaxis": "x",
         "y": {
          "bdata": "YTIBAGUGAQCrEwEAcxABAJkLAQBZSQEAgAEBACoYAQDnIAEArgUBAFEPAQAKGwEA",
          "dtype": "i4"
         },
         "y0": " ",
         "yaxis": "y"
        }
       ],
       "layout": {
        "boxmode": "overlay",
        "height": 500,
        "legend": {
         "title": {
          "text": "region"
         },
         "tracegroupgap": 0
        },
        "template": {
         "data": {
          "bar": [
           {
            "error_x": {
             "color": "#2a3f5f"
            },
            "error_y": {
             "color": "#2a3f5f"
            },
            "marker": {
             "line": {
              "color": "#E5ECF6",
              "width": 0.5
             },
             "pattern": {
              "fillmode": "overlay",
              "size": 10,
              "solidity": 0.2
             }
            },
            "type": "bar"
           }
          ],
          "barpolar": [
           {
            "marker": {
             "line": {
              "color": "#E5ECF6",
              "width": 0.5
             },
             "pattern": {
              "fillmode": "overlay",
              "size": 10,
              "solidity": 0.2
             }
            },
            "type": "barpolar"
           }
          ],
          "carpet": [
           {
            "aaxis": {
             "endlinecolor": "#2a3f5f",
             "gridcolor": "white",
             "linecolor": "white",
             "minorgridcolor": "white",
             "startlinecolor": "#2a3f5f"
            },
            "baxis": {
             "endlinecolor": "#2a3f5f",
             "gridcolor": "white",
             "linecolor": "white",
             "minorgridcolor": "white",
             "startlinecolor": "#2a3f5f"
            },
            "type": "carpet"
           }
          ],
          "choropleth": [
           {
            "colorbar": {
             "outlinewidth": 0,
             "ticks": ""
            },
            "type": "choropleth"
           }
          ],
          "contour": [
           {
            "colorbar": {
             "outlinewidth": 0,
             "ticks": ""
            },
            "colorscale": [
             [
              0,
              "#0d0887"
             ],
             [
              0.1111111111111111,
              "#46039f"
             ],
             [
              0.2222222222222222,
              "#7201a8"
             ],
             [
              0.3333333333333333,
              "#9c179e"
             ],
             [
              0.4444444444444444,
              "#bd3786"
             ],
             [
              0.5555555555555556,
              "#d8576b"
             ],
             [
              0.6666666666666666,
              "#ed7953"
             ],
             [
              0.7777777777777778,
              "#fb9f3a"
             ],
             [
              0.8888888888888888,
              "#fdca26"
             ],
             [
              1,
              "#f0f921"
             ]
            ],
            "type": "contour"
           }
          ],
          "contourcarpet": [
           {
            "colorbar": {
             "outlinewidth": 0,
             "ticks": ""
            },
            "type": "contourcarpet"
           }
          ],
          "heatmap": [
           {
            "colorbar": {
             "outlinewidth": 0,
             "ticks": ""
            },
            "colorscale": [
             [
              0,
              "#0d0887"
             ],
             [
              0.1111111111111111,
              "#46039f"
             ],
             [
              0.2222222222222222,
              "#7201a8"
             ],
             [
              0.3333333333333333,
              "#9c179e"
             ],
             [
              0.4444444444444444,
              "#bd3786"
             ],
             [
              0.5555555555555556,
              "#d8576b"
             ],
             [
              0.6666666666666666,
              "#ed7953"
             ],
             [
              0.7777777777777778,
              "#fb9f3a"
             ],
             [
              0.8888888888888888,
              "#fdca26"
             ],
             [
              1,
              "#f0f921"
             ]
            ],
            "type": "heatmap"
           }
          ],
          "histogram": [
           {
            "marker": {
             "pattern": {
              "fillmode": "overlay",
              "size": 10,
              "solidity": 0.2
             }
            },
            "type": "histogram"
           }
          ],
          "histogram2d": [
           {
            "colorbar": {
             "outlinewidth": 0,
             "ticks": ""
            },
            "colorscale": [
             [
              0,
              "#0d0887"
             ],
             [
              0.1111111111111111,
              "#46039f"
             ],
             [
              0.2222222222222222,
              "#7201a8"
             ],
             [
              0.3333333333333333,
              "#9c179e"
             ],
             [
              0.4444444444444444,
              "#bd3786"
             ],
             [
              0.5555555555555556,
              "#d8576b"
             ],
             [
              0.6666666666666666,
              "#ed7953"
             ],
             [
              0.7777777777777778,
              "#fb9f3a"
             ],
             [
              0.8888888888888888,
              "#fdca26"
             ],
             [
              1,
              "#f0f921"
             ]
            ],
            "type": "histogram2d"
           }
          ],
          "histogram2dcontour": [
           {
            "colorbar": {
             "outlinewidth": 0,
             "ticks": ""
            },
            "colorscale": [
             [
              0,
              "#0d0887"
             ],
             [
              0.1111111111111111,
              "#46039f"
             ],
             [
              0.2222222222222222,
              "#7201a8"
             ],
             [
              0.3333333333333333,
              "#9c179e"
             ],
             [
              0.4444444444444444,
              "#bd3786"
             ],
             [
              0.5555555555555556,
              "#d8576b"
             ],
             [
              0.6666666666666666,
              "#ed7953"
             ],
             [
              0.7777777777777778,
              "#fb9f3a"
             ],
             [
              0.8888888888888888,
              "#fdca26"
             ],
             [
              1,
              "#f0f921"
             ]
            ],
            "type": "histogram2dcontour"
           }
          ],
          "mesh3d": [
           {
            "colorbar": {
             "outlinewidth": 0,
             "ticks": ""
            },
            "type": "mesh3d"
           }
          ],
          "parcoords": [
           {
            "line": {
             "colorbar": {
              "outlinewidth": 0,
              "ticks": ""
             }
            },
            "type": "parcoords"
           }
          ],
          "pie": [
           {
            "automargin": true,
            "type": "pie"
           }
          ],
          "scatter": [
           {
            "fillpattern": {
             "fillmode": "overlay",
             "size": 10,
             "solidity": 0.2
            },
            "type": "scatter"
           }
          ],
          "scatter3d": [
           {
            "line": {
             "colorbar": {
              "outlinewidth": 0,
              "ticks": ""
             }
            },
            "marker": {
             "colorbar": {
              "outlinewidth": 0,
              "ticks": ""
             }
            },
            "type": "scatter3d"
           }
          ],
          "scattercarpet": [
           {
            "marker": {
             "colorbar": {
              "outlinewidth": 0,
              "ticks": ""
             }
            },
            "type": "scattercarpet"
           }
          ],
          "scattergeo": [
           {
            "marker": {
             "colorbar": {
              "outlinewidth": 0,
              "ticks": ""
             }
            },
            "type": "scattergeo"
           }
          ],
          "scattergl": [
           {
            "marker": {
             "colorbar": {
              "outlinewidth": 0,
              "ticks": ""
             }
            },
            "type": "scattergl"
           }
          ],
          "scattermap": [
           {
            "marker": {
             "colorbar": {
              "outlinewidth": 0,
              "ticks": ""
             }
            },
            "type": "scattermap"
           }
          ],
          "scattermapbox": [
           {
            "marker": {
             "colorbar": {
              "outlinewidth": 0,
              "ticks": ""
             }
            },
            "type": "scattermapbox"
           }
          ],
          "scatterpolar": [
           {
            "marker": {
             "colorbar": {
              "outlinewidth": 0,
              "ticks": ""
             }
            },
            "type": "scatterpolar"
           }
          ],
          "scatterpolargl": [
           {
            "marker": {
             "colorbar": {
              "outlinewidth": 0,
              "ticks": ""
             }
            },
            "type": "scatterpolargl"
           }
          ],
          "scatterternary": [
           {
            "marker": {
             "colorbar": {
              "outlinewidth": 0,
              "ticks": ""
             }
            },
            "type": "scatterternary"
           }
          ],
          "surface": [
           {
            "colorbar": {
             "outlinewidth": 0,
             "ticks": ""
            },
            "colorscale": [
             [
              0,
              "#0d0887"
             ],
             [
              0.1111111111111111,
              "#46039f"
             ],
             [
              0.2222222222222222,
              "#7201a8"
             ],
             [
              0.3333333333333333,
              "#9c179e"
             ],
             [
              0.4444444444444444,
              "#bd3786"
             ],
             [
              0.5555555555555556,
              "#d8576b"
             ],
             [
              0.6666666666666666,
              "#ed7953"
             ],
             [
              0.7777777777777778,
              "#fb9f3a"
             ],
             [
              0.8888888888888888,
              "#fdca26"
             ],
             [
              1,
              "#f0f921"
             ]
            ],
            "type": "surface"
           }
          ],
          "table": [
           {
            "cells": {
             "fill": {
              "color": "#EBF0F8"
             },
             "line": {
              "color": "white"
             }
            },
            "header": {
             "fill": {
              "color": "#C8D4E3"
             },
             "line": {
              "color": "white"
             }
            },
            "type": "table"
           }
          ]
         },
         "layout": {
          "annotationdefaults": {
           "arrowcolor": "#2a3f5f",
           "arrowhead": 0,
           "arrowwidth": 1
          },
          "autotypenumbers": "strict",
          "coloraxis": {
           "colorbar": {
            "outlinewidth": 0,
            "ticks": ""
           }
          },
          "colorscale": {
           "diverging": [
            [
             0,
             "#8e0152"
            ],
            [
             0.1,
             "#c51b7d"
            ],
            [
             0.2,
             "#de77ae"
            ],
            [
             0.3,
             "#f1b6da"
            ],
            [
             0.4,
             "#fde0ef"
            ],
            [
             0.5,
             "#f7f7f7"
            ],
            [
             0.6,
             "#e6f5d0"
            ],
            [
             0.7,
             "#b8e186"
            ],
            [
             0.8,
             "#7fbc41"
            ],
            [
             0.9,
             "#4d9221"
            ],
            [
             1,
             "#276419"
            ]
           ],
           "sequential": [
            [
             0,
             "#0d0887"
            ],
            [
             0.1111111111111111,
             "#46039f"
            ],
            [
             0.2222222222222222,
             "#7201a8"
            ],
            [
             0.3333333333333333,
             "#9c179e"
            ],
            [
             0.4444444444444444,
             "#bd3786"
            ],
            [
             0.5555555555555556,
             "#d8576b"
            ],
            [
             0.6666666666666666,
             "#ed7953"
            ],
            [
             0.7777777777777778,
             "#fb9f3a"
            ],
            [
             0.8888888888888888,
             "#fdca26"
            ],
            [
             1,
             "#f0f921"
            ]
           ],
           "sequentialminus": [
            [
             0,
             "#0d0887"
            ],
            [
             0.1111111111111111,
             "#46039f"
            ],
            [
             0.2222222222222222,
             "#7201a8"
            ],
            [
             0.3333333333333333,
             "#9c179e"
            ],
            [
             0.4444444444444444,
             "#bd3786"
            ],
            [
             0.5555555555555556,
             "#d8576b"
            ],
            [
             0.6666666666666666,
             "#ed7953"
            ],
            [
             0.7777777777777778,
             "#fb9f3a"
            ],
            [
             0.8888888888888888,
             "#fdca26"
            ],
            [
             1,
             "#f0f921"
            ]
           ]
          },
          "colorway": [
           "#636efa",
           "#EF553B",
           "#00cc96",
           "#ab63fa",
           "#FFA15A",
           "#19d3f3",
           "#FF6692",
           "#B6E880",
           "#FF97FF",
           "#FECB52"
          ],
          "font": {
           "color": "#2a3f5f"
          },
          "geo": {
           "bgcolor": "white",
           "lakecolor": "white",
           "landcolor": "#E5ECF6",
           "showlakes": true,
           "showland": true,
           "subunitcolor": "white"
          },
          "hoverlabel": {
           "align": "left"
          },
          "hovermode": "closest",
          "mapbox": {
           "style": "light"
          },
          "paper_bgcolor": "white",
          "plot_bgcolor": "#E5ECF6",
          "polar": {
           "angularaxis": {
            "gridcolor": "white",
            "linecolor": "white",
            "ticks": ""
           },
           "bgcolor": "#E5ECF6",
           "radialaxis": {
            "gridcolor": "white",
            "linecolor": "white",
            "ticks": ""
           }
          },
          "scene": {
           "xaxis": {
            "backgroundcolor": "#E5ECF6",
            "gridcolor": "white",
            "gridwidth": 2,
            "linecolor": "white",
            "showbackground": true,
            "ticks": "",
            "zerolinecolor": "white"
           },
           "yaxis": {
            "backgroundcolor": "#E5ECF6",
            "gridcolor": "white",
            "gridwidth": 2,
            "linecolor": "white",
            "showbackground": true,
            "ticks": "",
            "zerolinecolor": "white"
           },
           "zaxis": {
            "backgroundcolor": "#E5ECF6",
            "gridcolor": "white",
            "gridwidth": 2,
            "linecolor": "white",
            "showbackground": true,
            "ticks": "",
            "zerolinecolor": "white"
           }
          },
          "shapedefaults": {
           "line": {
            "color": "#2a3f5f"
           }
          },
          "ternary": {
           "aaxis": {
            "gridcolor": "white",
            "linecolor": "white",
            "ticks": ""
           },
           "baxis": {
            "gridcolor": "white",
            "linecolor": "white",
            "ticks": ""
           },
           "bgcolor": "#E5ECF6",
           "caxis": {
            "gridcolor": "white",
            "linecolor": "white",
            "ticks": ""
           }
          },
          "title": {
           "x": 0.05
          },
          "xaxis": {
           "automargin": true,
           "gridcolor": "white",
           "linecolor": "white",
           "ticks": "",
           "title": {
            "standoff": 15
           },
           "zerolinecolor": "white",
           "zerolinewidth": 2
          },
          "yaxis": {
           "automargin": true,
           "gridcolor": "white",
           "linecolor": "white",
           "ticks": "",
           "title": {
            "standoff": 15
           },
           "zerolinecolor": "white",
           "zerolinewidth": 2
          }
         }
        },
        "title": {
         "text": "📦 Income Distribution by Region (Real Data)"
        },
        "width": 800,
        "xaxis": {
         "anchor": "y",
         "categoryarray": [
          "South",
          "West",
          "Northeast",
          "Midwest"
         ],
         "categoryorder": "array",
         "domain": [
          0,
          1
         ],
         "title": {
          "text": "region"
         }
        },
        "yaxis": {
         "anchor": "x",
         "domain": [
          0,
          1
         ],
         "title": {
          "text": "Median Household Income ($)"
         }
        }
       }
      }
     },
     "metadata": {},
     "output_type": "display_data"
    },
    {
     "name": "stdout",
     "output_type": "stream",
     "text": [
      " Real data correlation analysis completed\n"
     ]
    }
   ],
   "source": [
    "# \n",
    "# 4. INCOME VS POVERTY CORRELATION ANALYSIS\n",
    "# \n",
    "\n",
    "print(\" Analyzing income-poverty relationship...\")\n",
    "\n",
    "# Income vs Poverty Scatter Plot (use county or state data)\n",
    "if len(df) > 50:  # County-level data\n",
    "    plot_data = df.sample(n=min(500, len(df)), random_state=42)  # Sample for readability\n",
    "    size_col = 'population'\n",
    "    title_suffix = \"by County/Area\"\n",
    "else:  # State-level data\n",
    "    plot_data = df\n",
    "    size_col = 'population'\n",
    "    title_suffix = \"by State\"\n",
    "\n",
    "fig3 = px.scatter(\n",
    "    plot_data,\n",
    "    x='median_income',\n",
    "    y='poverty_rate', \n",
    "    color='region',\n",
    "    size=size_col,\n",
    "    hover_name='county_name' if 'county_name' in df.columns else 'state',\n",
    "    title=f' Income vs Poverty Rate {title_suffix} (Real Data)',\n",
    "    labels={\n",
    "        'median_income': 'Median Household Income ($)',\n",
    "        'poverty_rate': 'Poverty Rate (%)'\n",
    "    },\n",
    "    trendline='ols'\n",
    ")\n",
    "\n",
    "fig3.update_layout(width=1000, height=600)\n",
    "fig3.show()\n",
    "\n",
    "# Calculate correlation\n",
    "correlation = df['median_income'].corr(df['poverty_rate'])\n",
    "print(f\" Income-Poverty Correlation: {correlation:.3f}\")\n",
    "\n",
    "# Regional comparison\n",
    "regional_stats = df.groupby('region').agg({\n",
    "    'median_income': ['mean', 'std'],\n",
    "    'poverty_rate': ['mean', 'std']\n",
    "}).round(1)\n",
    "\n",
    "print(\"\\n Regional Economic Summary:\")\n",
    "print(regional_stats)\n",
    "\n",
    "# Box plot by region\n",
    "fig4 = px.box(\n",
    "    df,\n",
    "    x='region',\n",
    "    y='median_income',\n",
    "    color='region',\n",
    "    title=' Income Distribution by Region (Real Data)', \n",
    "    labels={'median_income': 'Median Household Income ($)'}\n",
    ")\n",
    "fig4.update_layout(width=800, height=500)\n",
    "fig4.show()\n",
    "\n",
    "print(\" Real data correlation analysis completed\")"
   ]
  },
  {
   "cell_type": "code",
   "execution_count": 4,
   "id": "030ea795",
   "metadata": {},
   "outputs": [
    {
     "name": "stdout",
     "output_type": "stream",
     "text": [
      " Building basic predictive model for poverty rates...\n",
      " Model Performance:\n",
      "   R² Score: 0.119\n",
      "   MAE: 1.91%\n",
      "   RMSE: 2.80%\n",
      "   median_income: -1.73e-04\n",
      "   log_population: 9.85e-01\n"
     ]
    },
    {
     "data": {
      "application/vnd.plotly.v1+json": {
       "config": {
        "plotlyServerURL": "https://plot.ly"
       },
       "data": [
        {
         "hovertemplate": "Actual Poverty Rate (%)=%{x}<br>Predicted Poverty Rate (%)=%{y}<extra></extra>",
         "legendgroup": "",
         "marker": {
          "color": "#636efa",
          "symbol": "circle"
         },
         "mode": "markers",
         "name": "",
         "orientation": "v",
         "showlegend": false,
         "type": "scatter",
         "x": {
          "bdata": "zczMzMzMK0DNzMzMzMwsQAAAAAAAACRAAAAAAAAAJkAzMzMzMzMzQM3MzMzMTDJAmpmZmZkZMEAzMzMzMzMrQDMzMzMzMzBAZmZmZmZmI0CamZmZmZknQDMzMzMzMy5AZmZmZmZmJUAzMzMzMzMkQM3MzMzMzCNAMzMzMzMzKEA=",
          "dtype": "f8"
         },
         "xaxis": "x",
         "y": {
          "bdata": "SjQb6poWKkCe58Mbf9krQFJDu2NQIyRAX0TanrazKEA8pXhXUQwvQJTVZgajxyxApLZTnlTsLECTC/XafuEmQDDtukm46C1ACtnrSPfJIEBIpGe//IMnQPi+JJtG6hlA1McHPFLqKEDUtx6Ow14iQPY+ESNh+iJAoMHkG3DUI0A=",
          "dtype": "f8"
         },
         "yaxis": "y"
        },
        {
         "hovertemplate": "<b>OLS trendline</b><br>y = 0.551037 * x + 4.43514<br>R<sup>2</sup>=0.419047<br><br>Actual Poverty Rate (%)=%{x}<br>Predicted Poverty Rate (%)=%{y} <b>(trend)</b><extra></extra>",
         "legendgroup": "",
         "marker": {
          "color": "#636efa",
          "symbol": "circle"
         },
         "mode": "lines",
         "name": "",
         "showlegend": false,
         "type": "scatter",
         "x": {
          "bdata": "ZmZmZmZmI0DNzMzMzMwjQAAAAAAAACRAMzMzMzMzJEBmZmZmZmYlQAAAAAAAACZAmpmZmZmZJ0AzMzMzMzMoQDMzMzMzMytAzczMzMzMK0DNzMzMzMwsQDMzMzMzMy5AmpmZmZkZMEAzMzMzMzMwQM3MzMzMTDJAMzMzMzMzM0A=",
          "dtype": "f8"
         },
         "xaxis": "x",
         "y": {
          "bdata": "5XuE9XWPI0CKNjsQ48cjQNyTlp0Z5CNAL/HxKlAAJEAeIRZ7l6kkQBY5KCM7/iRAqiMDju/fJUCiOxU2kzQmQHizb37F2ydAcMuBJmkwKEAMnkrpeb0oQE4rysb3gilAiNBbTBmdKkDaLbfZT7kqQJ7VNXLJCS1Ahh1sarQHLkA=",
          "dtype": "f8"
         },
         "yaxis": "y"
        },
        {
         "line": {
          "color": "red",
          "dash": "dash"
         },
         "mode": "lines",
         "name": "Perfect Prediction",
         "type": "scatter",
         "x": [
          9.7,
          19.2
         ],
         "y": [
          9.7,
          19.2
         ]
        }
       ],
       "layout": {
        "height": 500,
        "legend": {
         "tracegroupgap": 0
        },
        "template": {
         "data": {
          "bar": [
           {
            "error_x": {
             "color": "#2a3f5f"
            },
            "error_y": {
             "color": "#2a3f5f"
            },
            "marker": {
             "line": {
              "color": "#E5ECF6",
              "width": 0.5
             },
             "pattern": {
              "fillmode": "overlay",
              "size": 10,
              "solidity": 0.2
             }
            },
            "type": "bar"
           }
          ],
          "barpolar": [
           {
            "marker": {
             "line": {
              "color": "#E5ECF6",
              "width": 0.5
             },
             "pattern": {
              "fillmode": "overlay",
              "size": 10,
              "solidity": 0.2
             }
            },
            "type": "barpolar"
           }
          ],
          "carpet": [
           {
            "aaxis": {
             "endlinecolor": "#2a3f5f",
             "gridcolor": "white",
             "linecolor": "white",
             "minorgridcolor": "white",
             "startlinecolor": "#2a3f5f"
            },
            "baxis": {
             "endlinecolor": "#2a3f5f",
             "gridcolor": "white",
             "linecolor": "white",
             "minorgridcolor": "white",
             "startlinecolor": "#2a3f5f"
            },
            "type": "carpet"
           }
          ],
          "choropleth": [
           {
            "colorbar": {
             "outlinewidth": 0,
             "ticks": ""
            },
            "type": "choropleth"
           }
          ],
          "contour": [
           {
            "colorbar": {
             "outlinewidth": 0,
             "ticks": ""
            },
            "colorscale": [
             [
              0,
              "#0d0887"
             ],
             [
              0.1111111111111111,
              "#46039f"
             ],
             [
              0.2222222222222222,
              "#7201a8"
             ],
             [
              0.3333333333333333,
              "#9c179e"
             ],
             [
              0.4444444444444444,
              "#bd3786"
             ],
             [
              0.5555555555555556,
              "#d8576b"
             ],
             [
              0.6666666666666666,
              "#ed7953"
             ],
             [
              0.7777777777777778,
              "#fb9f3a"
             ],
             [
              0.8888888888888888,
              "#fdca26"
             ],
             [
              1,
              "#f0f921"
             ]
            ],
            "type": "contour"
           }
          ],
          "contourcarpet": [
           {
            "colorbar": {
             "outlinewidth": 0,
             "ticks": ""
            },
            "type": "contourcarpet"
           }
          ],
          "heatmap": [
           {
            "colorbar": {
             "outlinewidth": 0,
             "ticks": ""
            },
            "colorscale": [
             [
              0,
              "#0d0887"
             ],
             [
              0.1111111111111111,
              "#46039f"
             ],
             [
              0.2222222222222222,
              "#7201a8"
             ],
             [
              0.3333333333333333,
              "#9c179e"
             ],
             [
              0.4444444444444444,
              "#bd3786"
             ],
             [
              0.5555555555555556,
              "#d8576b"
             ],
             [
              0.6666666666666666,
              "#ed7953"
             ],
             [
              0.7777777777777778,
              "#fb9f3a"
             ],
             [
              0.8888888888888888,
              "#fdca26"
             ],
             [
              1,
              "#f0f921"
             ]
            ],
            "type": "heatmap"
           }
          ],
          "histogram": [
           {
            "marker": {
             "pattern": {
              "fillmode": "overlay",
              "size": 10,
              "solidity": 0.2
             }
            },
            "type": "histogram"
           }
          ],
          "histogram2d": [
           {
            "colorbar": {
             "outlinewidth": 0,
             "ticks": ""
            },
            "colorscale": [
             [
              0,
              "#0d0887"
             ],
             [
              0.1111111111111111,
              "#46039f"
             ],
             [
              0.2222222222222222,
              "#7201a8"
             ],
             [
              0.3333333333333333,
              "#9c179e"
             ],
             [
              0.4444444444444444,
              "#bd3786"
             ],
             [
              0.5555555555555556,
              "#d8576b"
             ],
             [
              0.6666666666666666,
              "#ed7953"
             ],
             [
              0.7777777777777778,
              "#fb9f3a"
             ],
             [
              0.8888888888888888,
              "#fdca26"
             ],
             [
              1,
              "#f0f921"
             ]
            ],
            "type": "histogram2d"
           }
          ],
          "histogram2dcontour": [
           {
            "colorbar": {
             "outlinewidth": 0,
             "ticks": ""
            },
            "colorscale": [
             [
              0,
              "#0d0887"
             ],
             [
              0.1111111111111111,
              "#46039f"
             ],
             [
              0.2222222222222222,
              "#7201a8"
             ],
             [
              0.3333333333333333,
              "#9c179e"
             ],
             [
              0.4444444444444444,
              "#bd3786"
             ],
             [
              0.5555555555555556,
              "#d8576b"
             ],
             [
              0.6666666666666666,
              "#ed7953"
             ],
             [
              0.7777777777777778,
              "#fb9f3a"
             ],
             [
              0.8888888888888888,
              "#fdca26"
             ],
             [
              1,
              "#f0f921"
             ]
            ],
            "type": "histogram2dcontour"
           }
          ],
          "mesh3d": [
           {
            "colorbar": {
             "outlinewidth": 0,
             "ticks": ""
            },
            "type": "mesh3d"
           }
          ],
          "parcoords": [
           {
            "line": {
             "colorbar": {
              "outlinewidth": 0,
              "ticks": ""
             }
            },
            "type": "parcoords"
           }
          ],
          "pie": [
           {
            "automargin": true,
            "type": "pie"
           }
          ],
          "scatter": [
           {
            "fillpattern": {
             "fillmode": "overlay",
             "size": 10,
             "solidity": 0.2
            },
            "type": "scatter"
           }
          ],
          "scatter3d": [
           {
            "line": {
             "colorbar": {
              "outlinewidth": 0,
              "ticks": ""
             }
            },
            "marker": {
             "colorbar": {
              "outlinewidth": 0,
              "ticks": ""
             }
            },
            "type": "scatter3d"
           }
          ],
          "scattercarpet": [
           {
            "marker": {
             "colorbar": {
              "outlinewidth": 0,
              "ticks": ""
             }
            },
            "type": "scattercarpet"
           }
          ],
          "scattergeo": [
           {
            "marker": {
             "colorbar": {
              "outlinewidth": 0,
              "ticks": ""
             }
            },
            "type": "scattergeo"
           }
          ],
          "scattergl": [
           {
            "marker": {
             "colorbar": {
              "outlinewidth": 0,
              "ticks": ""
             }
            },
            "type": "scattergl"
           }
          ],
          "scattermap": [
           {
            "marker": {
             "colorbar": {
              "outlinewidth": 0,
              "ticks": ""
             }
            },
            "type": "scattermap"
           }
          ],
          "scattermapbox": [
           {
            "marker": {
             "colorbar": {
              "outlinewidth": 0,
              "ticks": ""
             }
            },
            "type": "scattermapbox"
           }
          ],
          "scatterpolar": [
           {
            "marker": {
             "colorbar": {
              "outlinewidth": 0,
              "ticks": ""
             }
            },
            "type": "scatterpolar"
           }
          ],
          "scatterpolargl": [
           {
            "marker": {
             "colorbar": {
              "outlinewidth": 0,
              "ticks": ""
             }
            },
            "type": "scatterpolargl"
           }
          ],
          "scatterternary": [
           {
            "marker": {
             "colorbar": {
              "outlinewidth": 0,
              "ticks": ""
             }
            },
            "type": "scatterternary"
           }
          ],
          "surface": [
           {
            "colorbar": {
             "outlinewidth": 0,
             "ticks": ""
            },
            "colorscale": [
             [
              0,
              "#0d0887"
             ],
             [
              0.1111111111111111,
              "#46039f"
             ],
             [
              0.2222222222222222,
              "#7201a8"
             ],
             [
              0.3333333333333333,
              "#9c179e"
             ],
             [
              0.4444444444444444,
              "#bd3786"
             ],
             [
              0.5555555555555556,
              "#d8576b"
             ],
             [
              0.6666666666666666,
              "#ed7953"
             ],
             [
              0.7777777777777778,
              "#fb9f3a"
             ],
             [
              0.8888888888888888,
              "#fdca26"
             ],
             [
              1,
              "#f0f921"
             ]
            ],
            "type": "surface"
           }
          ],
          "table": [
           {
            "cells": {
             "fill": {
              "color": "#EBF0F8"
             },
             "line": {
              "color": "white"
             }
            },
            "header": {
             "fill": {
              "color": "#C8D4E3"
             },
             "line": {
              "color": "white"
             }
            },
            "type": "table"
           }
          ]
         },
         "layout": {
          "annotationdefaults": {
           "arrowcolor": "#2a3f5f",
           "arrowhead": 0,
           "arrowwidth": 1
          },
          "autotypenumbers": "strict",
          "coloraxis": {
           "colorbar": {
            "outlinewidth": 0,
            "ticks": ""
           }
          },
          "colorscale": {
           "diverging": [
            [
             0,
             "#8e0152"
            ],
            [
             0.1,
             "#c51b7d"
            ],
            [
             0.2,
             "#de77ae"
            ],
            [
             0.3,
             "#f1b6da"
            ],
            [
             0.4,
             "#fde0ef"
            ],
            [
             0.5,
             "#f7f7f7"
            ],
            [
             0.6,
             "#e6f5d0"
            ],
            [
             0.7,
             "#b8e186"
            ],
            [
             0.8,
             "#7fbc41"
            ],
            [
             0.9,
             "#4d9221"
            ],
            [
             1,
             "#276419"
            ]
           ],
           "sequential": [
            [
             0,
             "#0d0887"
            ],
            [
             0.1111111111111111,
             "#46039f"
            ],
            [
             0.2222222222222222,
             "#7201a8"
            ],
            [
             0.3333333333333333,
             "#9c179e"
            ],
            [
             0.4444444444444444,
             "#bd3786"
            ],
            [
             0.5555555555555556,
             "#d8576b"
            ],
            [
             0.6666666666666666,
             "#ed7953"
            ],
            [
             0.7777777777777778,
             "#fb9f3a"
            ],
            [
             0.8888888888888888,
             "#fdca26"
            ],
            [
             1,
             "#f0f921"
            ]
           ],
           "sequentialminus": [
            [
             0,
             "#0d0887"
            ],
            [
             0.1111111111111111,
             "#46039f"
            ],
            [
             0.2222222222222222,
             "#7201a8"
            ],
            [
             0.3333333333333333,
             "#9c179e"
            ],
            [
             0.4444444444444444,
             "#bd3786"
            ],
            [
             0.5555555555555556,
             "#d8576b"
            ],
            [
             0.6666666666666666,
             "#ed7953"
            ],
            [
             0.7777777777777778,
             "#fb9f3a"
            ],
            [
             0.8888888888888888,
             "#fdca26"
            ],
            [
             1,
             "#f0f921"
            ]
           ]
          },
          "colorway": [
           "#636efa",
           "#EF553B",
           "#00cc96",
           "#ab63fa",
           "#FFA15A",
           "#19d3f3",
           "#FF6692",
           "#B6E880",
           "#FF97FF",
           "#FECB52"
          ],
          "font": {
           "color": "#2a3f5f"
          },
          "geo": {
           "bgcolor": "white",
           "lakecolor": "white",
           "landcolor": "#E5ECF6",
           "showlakes": true,
           "showland": true,
           "subunitcolor": "white"
          },
          "hoverlabel": {
           "align": "left"
          },
          "hovermode": "closest",
          "mapbox": {
           "style": "light"
          },
          "paper_bgcolor": "white",
          "plot_bgcolor": "#E5ECF6",
          "polar": {
           "angularaxis": {
            "gridcolor": "white",
            "linecolor": "white",
            "ticks": ""
           },
           "bgcolor": "#E5ECF6",
           "radialaxis": {
            "gridcolor": "white",
            "linecolor": "white",
            "ticks": ""
           }
          },
          "scene": {
           "xaxis": {
            "backgroundcolor": "#E5ECF6",
            "gridcolor": "white",
            "gridwidth": 2,
            "linecolor": "white",
            "showbackground": true,
            "ticks": "",
            "zerolinecolor": "white"
           },
           "yaxis": {
            "backgroundcolor": "#E5ECF6",
            "gridcolor": "white",
            "gridwidth": 2,
            "linecolor": "white",
            "showbackground": true,
            "ticks": "",
            "zerolinecolor": "white"
           },
           "zaxis": {
            "backgroundcolor": "#E5ECF6",
            "gridcolor": "white",
            "gridwidth": 2,
            "linecolor": "white",
            "showbackground": true,
            "ticks": "",
            "zerolinecolor": "white"
           }
          },
          "shapedefaults": {
           "line": {
            "color": "#2a3f5f"
           }
          },
          "ternary": {
           "aaxis": {
            "gridcolor": "white",
            "linecolor": "white",
            "ticks": ""
           },
           "baxis": {
            "gridcolor": "white",
            "linecolor": "white",
            "ticks": ""
           },
           "bgcolor": "#E5ECF6",
           "caxis": {
            "gridcolor": "white",
            "linecolor": "white",
            "ticks": ""
           }
          },
          "title": {
           "x": 0.05
          },
          "xaxis": {
           "automargin": true,
           "gridcolor": "white",
           "linecolor": "white",
           "ticks": "",
           "title": {
            "standoff": 15
           },
           "zerolinecolor": "white",
           "zerolinewidth": 2
          },
          "yaxis": {
           "automargin": true,
           "gridcolor": "white",
           "linecolor": "white",
           "ticks": "",
           "title": {
            "standoff": 15
           },
           "zerolinecolor": "white",
           "zerolinewidth": 2
          }
         }
        },
        "title": {
         "text": "🎯 Actual vs Predicted Poverty Rates"
        },
        "width": 600,
        "xaxis": {
         "anchor": "y",
         "domain": [
          0,
          1
         ],
         "title": {
          "text": "Actual Poverty Rate (%)"
         }
        },
        "yaxis": {
         "anchor": "x",
         "domain": [
          0,
          1
         ],
         "title": {
          "text": "Predicted Poverty Rate (%)"
         }
        }
       }
      }
     },
     "metadata": {},
     "output_type": "display_data"
    },
    {
     "name": "stdout",
     "output_type": "stream",
     "text": [
      " Basic predictive modeling completed with real data\n",
      "\n",
      "================================================================================\n",
      " KEY INSIGHTS FROM REAL US INCOME & POVERTY DATA\n",
      "================================================================================\n",
      "\n",
      " Economic Overview:\n",
      "   Average Median Income: $74,805\n",
      "   Average Poverty Rate: 12.4%\n",
      "   Income-Poverty Correlation: -0.723\n",
      "\n",
      "  Regional Patterns:\n",
      "   South: $69,203 income, 14.4% poverty\n",
      "   West: $78,960 income, 11.6% poverty\n",
      "   Northeast: $83,653 income, 10.5% poverty\n",
      "   Midwest: $71,604 income, 11.6% poverty\n",
      "\n",
      " Economic Extremes:\n",
      "   Highest Income: District of Columbia ($101,722)\n",
      "   Lowest Income: Mississippi ($52,985)\n",
      "\n",
      " Policy Recommendations:\n",
      "   1. Target poverty reduction in high-poverty regions\n",
      "   2. Study successful income models from high-income areas\n",
      "   3. Develop region-specific economic development strategies\n",
      "   4. Monitor income inequality trends over time\n",
      "\n",
      "  HIGH-POVERTY AREAS: 9 areas with >15% poverty\n",
      "   States: AL, AR, DC, KY, LA, MS, NM, OK, WV\n",
      "   Average income: $62,665\n",
      "\n",
      " Analysis complete using real US Census Bureau data\n",
      " Data sources: US Census ACS, Federal Reserve Economic Data\n",
      " Full methodology available in notebook documentation\n",
      "\n",
      " Ready for policy analysis and economic development planning\n"
     ]
    }
   ],
   "source": [
    "# \n",
    "# 5. BASIC PREDICTIVE MODELING - POVERTY RATE PREDICTION  \n",
    "# \n",
    "\n",
    "from sklearn.metrics import mean_squared_error\n",
    "\n",
    "print(\" Building basic predictive model for poverty rates...\")\n",
    "\n",
    "# Prepare simple features available in real data\n",
    "base_features = ['median_income']\n",
    "if 'population' in df.columns:\n",
    "    # Log transform population for better scaling\n",
    "    df['log_population'] = np.log10(df['population'])\n",
    "    base_features.append('log_population')\n",
    "\n",
    "target = 'poverty_rate'\n",
    "\n",
    "# Prepare data\n",
    "X = df[base_features]\n",
    "y = df[target]\n",
    "\n",
    "# Only run modeling if we have enough data points\n",
    "if len(df) >= 10:\n",
    "    # Train-test split\n",
    "    X_train, X_test, y_train, y_test = train_test_split(X, y, test_size=0.3, random_state=42)\n",
    "    \n",
    "    # Simple Linear Regression Model\n",
    "    model = LinearRegression()\n",
    "    model.fit(X_train, y_train)\n",
    "    y_pred = model.predict(X_test)\n",
    "    \n",
    "    # Model performance\n",
    "    r2 = r2_score(y_test, y_pred)\n",
    "    mae = mean_absolute_error(y_test, y_pred)\n",
    "    rmse = np.sqrt(mean_squared_error(y_test, y_pred))\n",
    "    \n",
    "    print(f\" Model Performance:\")\n",
    "    print(f\"   R² Score: {r2:.3f}\")\n",
    "    print(f\"   MAE: {mae:.2f}%\")\n",
    "    print(f\"   RMSE: {rmse:.2f}%\")\n",
    "    \n",
    "    # Feature importance (coefficients)\n",
    "    for i, feature in enumerate(base_features):\n",
    "        coef = model.coef_[i]\n",
    "        print(f\"   {feature}: {coef:.2e}\")\n",
    "    \n",
    "    # Prediction vs Actual plot\n",
    "    fig5 = px.scatter(\n",
    "        x=y_test, \n",
    "        y=y_pred,\n",
    "        title=' Actual vs Predicted Poverty Rates',\n",
    "        labels={'x': 'Actual Poverty Rate (%)', 'y': 'Predicted Poverty Rate (%)'},\n",
    "        trendline='ols'\n",
    "    )\n",
    "    fig5.add_scatter(x=[y_test.min(), y_test.max()], \n",
    "                     y=[y_test.min(), y_test.max()], \n",
    "                     mode='lines', \n",
    "                     name='Perfect Prediction',\n",
    "                     line=dict(dash='dash', color='red'))\n",
    "    fig5.update_layout(width=600, height=500)\n",
    "    fig5.show()\n",
    "    \n",
    "    print(\" Basic predictive modeling completed with real data\")\n",
    "    \n",
    "else:\n",
    "    print(\"  Insufficient data for modeling (need at least 10 data points)\")\n",
    "    print(f\"   Current dataset: {len(df)} records\")\n",
    "\n",
    "# \n",
    "# 6. KEY INSIGHTS & RECOMMENDATIONS\n",
    "# \n",
    "\n",
    "print(\"\\n\" + \"=\"*80)\n",
    "print(\" KEY INSIGHTS FROM REAL US INCOME & POVERTY DATA\")\n",
    "print(\"=\"*80)\n",
    "\n",
    "if len(df) > 0:\n",
    "    # Basic statistics\n",
    "    avg_income = df['median_income'].mean()\n",
    "    avg_poverty = df['poverty_rate'].mean()\n",
    "    \n",
    "    print(f\"\\n Economic Overview:\")\n",
    "    print(f\"   Average Median Income: ${avg_income:,.0f}\")\n",
    "    print(f\"   Average Poverty Rate: {avg_poverty:.1f}%\")\n",
    "    print(f\"   Income-Poverty Correlation: {correlation:.3f}\")\n",
    "    \n",
    "    # Regional insights\n",
    "    print(f\"\\n  Regional Patterns:\")\n",
    "    for region in df['region'].unique():\n",
    "        region_data = df[df['region'] == region]\n",
    "        region_income = region_data['median_income'].mean()\n",
    "        region_poverty = region_data['poverty_rate'].mean()\n",
    "        print(f\"   {region}: ${region_income:,.0f} income, {region_poverty:.1f}% poverty\")\n",
    "    \n",
    "    # Extreme cases\n",
    "    highest_income_area = df.loc[df['median_income'].idxmax()]\n",
    "    lowest_income_area = df.loc[df['median_income'].idxmin()]\n",
    "    \n",
    "    print(f\"\\n Economic Extremes:\")\n",
    "    area_name = highest_income_area.get('county_name', highest_income_area['state'])\n",
    "    print(f\"   Highest Income: {area_name} (${highest_income_area['median_income']:,.0f})\")\n",
    "    \n",
    "    area_name = lowest_income_area.get('county_name', lowest_income_area['state']) \n",
    "    print(f\"   Lowest Income: {area_name} (${lowest_income_area['median_income']:,.0f})\")\n",
    "    \n",
    "    print(f\"\\n Policy Recommendations:\")\n",
    "    print(f\"   1. Target poverty reduction in high-poverty regions\")\n",
    "    print(f\"   2. Study successful income models from high-income areas\")\n",
    "    print(f\"   3. Develop region-specific economic development strategies\")\n",
    "    print(f\"   4. Monitor income inequality trends over time\")\n",
    "    \n",
    "    # High-poverty analysis\n",
    "    high_poverty = df[df['poverty_rate'] > 15]\n",
    "    if len(high_poverty) > 0:\n",
    "        print(f\"\\n  HIGH-POVERTY AREAS: {len(high_poverty)} areas with >15% poverty\")\n",
    "        print(f\"   States: {', '.join(high_poverty['state'].unique())}\")\n",
    "        print(f\"   Average income: ${high_poverty['median_income'].mean():,.0f}\")\n",
    "\n",
    "print(\"\\n Analysis complete using real US Census Bureau data\")\n",
    "print(\" Data sources: US Census ACS, Federal Reserve Economic Data\")\n",
    "print(\" Full methodology available in notebook documentation\")\n",
    "print(\"\\n Ready for policy analysis and economic development planning\")"
   ]
  }
 ],
 "metadata": {
  "kernelspec": {
   "display_name": ".venv",
   "language": "python",
   "name": "python3"
  },
  "language_info": {
   "codemirror_mode": {
    "name": "ipython",
    "version": 3
   },
   "file_extension": ".py",
   "mimetype": "text/x-python",
   "name": "python",
   "nbconvert_exporter": "python",
   "pygments_lexer": "ipython3",
   "version": "3.13.7"
  }
 },
 "nbformat": 4,
 "nbformat_minor": 5
}
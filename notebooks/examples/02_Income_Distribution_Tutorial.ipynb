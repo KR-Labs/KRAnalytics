{
 "cells": [
  {
   "cell_type": "markdown",
   "id": "ad557dca",
   "metadata": {},
   "source": [
    "# Tier 1: Income Distribution & Inequality Analysis\n",
    "## Descriptive Analytics - Census ACS API Integration\n",
    "\n",
    "---\n",
    "\n",
    "### **Notebook Metadata**\n",
    "- **Author**: Khipu Analytics Suite\n",
    "- **Version**: v1.0\n",
    "- **Date Created**: October 8, 2025\n",
    "- **Last Updated**: October 10, 2025\n",
    "- **Tier**: Tier 1 - Descriptive Analytics\n",
    "- **UUID**: `tier1-income-acs-001`\n",
    "\n",
    "---\n",
    "\n",
    "### **Data Sources**\n",
    "- **Primary**: U.S. Census Bureau - American Community Survey (ACS) 5-Year Estimates\n",
    "- **API**: `https://api.census.gov/data/2023/acs/acs5`\n",
    "- **Coverage**: All 3,143 U.S. counties + 51 states\n",
    "- **Temporal**: 2019-2023 (5-year estimates)\n",
    "\n",
    "---\n",
    "\n",
    "### **Key Metrics**\n",
    "| Variable Code | Description | Unit |\n",
    "|--------------|-------------|------|\n",
    "| B19013_001E | Median Household Income | USD |\n",
    "| B19083_001E | Gini Index of Income Inequality | Index (0-1) |\n",
    "| B19082_001E | Mean Household Income | USD |\n",
    "| B19001_* | Household Income Distribution | Count by bracket |\n",
    "| B17001_002E | Population Below Poverty Line | Count |\n",
    "\n",
    "---\n",
    "\n",
    "### **Analytical Models**\n",
    "1. **Descriptive Statistics**: Mean, median, percentiles, standard deviation\n",
    "2. **Inequality Measures**: Gini coefficient, Lorenz curve, Theil index\n",
    "3. **Distribution Analysis**: Histograms, kernel density estimation\n",
    "4. **Spatial Analysis**: Geographic patterns, choropleth mapping\n",
    "5. **Correlation Analysis**: Income vs poverty, education, employment\n",
    "\n",
    "---\n",
    "\n",
    "### **Business Applications**\n",
    "1. **Market Segmentation**: Identify high-income vs low-income regions for targeted marketing\n",
    "2. **Policy Analysis**: Assess effectiveness of income inequality reduction programs\n",
    "3. **Investment Strategy**: Location decisions based on income demographics\n",
    "4. **Social Impact**: Measure disparities for nonprofit resource allocation\n",
    "5. **Economic Development**: Benchmark regional economic health and growth potential\n",
    "\n",
    "---\n",
    "\n",
    "### **Prerequisites**\n",
    "- None (foundational tier)\n",
    "\n",
    "### **Next Steps**\n",
    "- **Tier 2**: `Tier2_Income_Prediction_ACS.ipynb` - Predictive modeling of income determinants\n",
    "- **Tier 3**: Income trend forecasting with ARIMA/Prophet\n",
    "- **Tier 6**: Spatial econometric models of income spillover effects\n",
    "\n",
    "---"
   ]
  },
  {
   "cell_type": "markdown",
   "id": "4066fd22",
   "metadata": {},
   "source": [
    "## 1. Setup & Configuration"
   ]
  },
  {
   "cell_type": "code",
   "execution_count": 1,
   "id": "e2ca22b1",
   "metadata": {},
   "outputs": [
    {
     "name": "stdout",
     "output_type": "stream",
     "text": [
      "Libraries imported successfully\n",
      "Analysis Date: 2025-10-10 13:13:33\n"
     ]
    }
   ],
   "source": [
    "# ============================================================================\n",
    "# IMPORT LIBRARIES\n",
    "# ============================================================================\n",
    "\n",
    "import os\n",
    "import sys\n",
    "import json\n",
    "import requests\n",
    "import pandas as pd\n",
    "import numpy as np\n",
    "import warnings\n",
    "from datetime import datetime\n",
    "from pathlib import Path\n",
    "\n",
    "# Visualization\n",
    "import plotly.express as px\n",
    "import plotly.graph_objects as go\n",
    "from plotly.subplots import make_subplots\n",
    "import matplotlib.pyplot as plt\n",
    "import seaborn as sns\n",
    "\n",
    "# Statistical analysis\n",
    "from scipy import stats\n",
    "from scipy.stats import gaussian_kde\n",
    "\n",
    "# Suppress warnings\n",
    "warnings.filterwarnings('ignore')\n",
    "\n",
    "# Configure display\n",
    "pd.set_option('display.max_columns', None)\n",
    "pd.set_option('display.max_rows', 100)\n",
    "pd.set_option('display.float_format', lambda x: f'{x:,.2f}')\n",
    "\n",
    "print(\"Libraries imported successfully\")\n",
    "print(f\"Analysis Date: {datetime.now().strftime('%Y-%m-%d %H:%M:%S')}\")"
   ]
  },
  {
   "cell_type": "code",
   "execution_count": 2,
   "id": "3e95fdc3",
   "metadata": {},
   "outputs": [
    {
     "name": "stdout",
     "output_type": "stream",
     "text": [
      "API keys loaded from config file: /Users/bcdelo/Documents/GitHub/QuipuLabs-khipu/configs/apikeys\n",
      "Census API key found: 19934324...\n",
      "Configuration loaded\n",
      "Geographic Level: state\n",
      "Variables to fetch: 6\n",
      "API Endpoint: https://api.census.gov/data/2023/acs/acs5\n",
      "\n",
      "Census API key configured: 19934324...\n",
      "Full key length: 40 characters\n",
      "Available APIs: Census, BLS, FRED, BEA\n",
      "API Documentation: https://api.census.gov/data/2023/acs/acs5/examples.html\n"
     ]
    }
   ],
   "source": [
    "# ============================================================================\n",
    "# CONFIGURATION - SECURE API KEY MANAGEMENT\n",
    "# ============================================================================\n",
    "\n",
    "# API Keys - Load from environment or config file\n",
    "def load_api_keys():\n",
    "    \"\"\"\n",
    "    Load API keys from environment variables or config file.\n",
    "    Priority: Config file > Environment variables (for consistency)\n",
    "    \"\"\"\n",
    "    api_keys = {}\n",
    "    \n",
    "    # Try config file first for consistency\n",
    "    config_path = Path('../../../QuipuLabs-khipu/configs/apikeys')\n",
    "    if config_path.exists():\n",
    "        try:\n",
    "            with open(config_path, 'r') as f:\n",
    "                for line in f:\n",
    "                    line = line.strip()\n",
    "                    # Handle both \"CENSUS API:\" and \"CENSUS API KEY:\" formats\n",
    "                    if 'CENSUS API' in line:\n",
    "                        # Split on first colon and take everything after it\n",
    "                        parts = line.split(':', 1)\n",
    "                        if len(parts) == 2:\n",
    "                            api_keys['census'] = parts[1].strip()\n",
    "                    elif 'BLS API KEY:' in line:\n",
    "                        api_keys['bls'] = line.split(':', 1)[1].strip()\n",
    "                    elif 'FRED API KEY:' in line:\n",
    "                        api_keys['fred'] = line.split(':', 1)[1].strip()\n",
    "                    elif 'BEA API KEY:' in line:\n",
    "                        api_keys['bea'] = line.split(':', 1)[1].strip()\n",
    "            \n",
    "            print(f\"API keys loaded from config file: {config_path.resolve()}\")\n",
    "            if 'census' in api_keys:\n",
    "                print(f\"Census API key found: {api_keys['census'][:8]}...\")\n",
    "        except Exception as e:\n",
    "            print(f\"WARNING: Could not load config file: {e}\")\n",
    "    else:\n",
    "        print(f\"WARNING: Config file not found: {config_path.resolve()}\")\n",
    "        print(f\"Trying environment variables...\")\n",
    "        \n",
    "        # Fall back to environment variables\n",
    "        api_keys['census'] = os.getenv('CENSUS_API_KEY')\n",
    "        api_keys['bls'] = os.getenv('BLS_API_KEY')\n",
    "        api_keys['fred'] = os.getenv('FRED_API_KEY')\n",
    "        api_keys['bea'] = os.getenv('BEA_API_KEY')\n",
    "    \n",
    "    return api_keys\n",
    "\n",
    "# Load API keys\n",
    "API_KEYS = load_api_keys()\n",
    "CENSUS_API_KEY = API_KEYS.get('census', 'YOUR_CENSUS_API_KEY_HERE')\n",
    "\n",
    "# Base URL for ACS 5-year estimates\n",
    "ACS_BASE_URL = \"https://api.census.gov/data/2023/acs/acs5\"\n",
    "\n",
    "# Income & Poverty Variables (verified against Census API documentation)\n",
    "ACS_VARIABLES = {\n",
    "    'B19013_001E': 'median_household_income',     # Median Household Income\n",
    "    'B19083_001E': 'gini_index',                  # Gini Index\n",
    "    'B19082_001E': 'mean_household_income',       # Mean Household Income\n",
    "    'B17001_002E': 'population_below_poverty',    # Population Below Poverty\n",
    "    'B17001_001E': 'population_for_poverty_status',  # Population for Poverty Determination\n",
    "    'B01003_001E': 'total_population'             # Total Population\n",
    "}\n",
    "\n",
    "# Analysis Configuration\n",
    "ANALYSIS_CONFIG = {\n",
    "    'geographic_level': 'state',  # Options: 'state', 'county', 'metro', 'zip'\n",
    "    'selected_states': None,  # None = all states, or list like ['06', '36', '48']\n",
    "    'income_brackets': [25000, 50000, 75000, 100000, 150000, 200000],\n",
    "    'poverty_threshold': 0.15,  # 15% poverty rate threshold\n",
    "    'random_seed': 42\n",
    "}\n",
    "\n",
    "# Set reproducibility\n",
    "np.random.seed(ANALYSIS_CONFIG['random_seed'])\n",
    "\n",
    "print(\"Configuration loaded\")\n",
    "print(f\"Geographic Level: {ANALYSIS_CONFIG['geographic_level']}\")\n",
    "print(f\"Variables to fetch: {len(ACS_VARIABLES)}\")\n",
    "print(f\"API Endpoint: {ACS_BASE_URL}\")\n",
    "\n",
    "if CENSUS_API_KEY and CENSUS_API_KEY != 'YOUR_CENSUS_API_KEY_HERE':\n",
    "    print(f\"\\nCensus API key configured: {CENSUS_API_KEY[:8]}...\")\n",
    "    print(f\"Full key length: {len(CENSUS_API_KEY)} characters\")\n",
    "    print(f\"Available APIs: Census, BLS, FRED, BEA\")\n",
    "    print(f\"API Documentation: https://api.census.gov/data/2023/acs/acs5/examples.html\")\n",
    "else:\n",
    "    print(\"\\nWARNING: Census API key not configured!\")\n",
    "    print(\"Keys should be in: ../../../QuipuLabs-khipu/configs/apikeys\")\n",
    "    print(\"Or set as environment variable: export CENSUS_API_KEY='your_key_here'\")"
   ]
  },
  {
   "cell_type": "markdown",
   "id": "b7953e26",
   "metadata": {},
   "source": [
    "## 2. Data Ingestion - Census ACS API"
   ]
  },
  {
   "cell_type": "code",
   "execution_count": 3,
   "id": "31d7d3a8",
   "metadata": {},
   "outputs": [
    {
     "name": "stdout",
     "output_type": "stream",
     "text": [
      "\n",
      "================================================================================\n",
      "DATA INGESTION - CENSUS ACS 5-YEAR ESTIMATES (2019-2023)\n",
      "================================================================================\n",
      "\n",
      "Fetching state-level data from Census ACS API...\n",
      "Geographic Level: state\n",
      "URL: https://api.census.gov/data/2023/acs/acs5?get=NAME,B19013_001E,B19083_001E,B19082_001E,B17001_002E,B17001_001E,B01003_00...\n",
      "\n",
      "Successfully fetched 52 state records\n",
      "Columns: 8\n",
      "Variables: median_household_income, gini_index, mean_household_income, population_below_poverty, population_for_poverty_status, total_population\n",
      "\n",
      "Raw Data Sample:\n",
      "         NAME B19013_001E B19083_001E B19082_001E B17001_002E B17001_001E  \\\n",
      "0     Alabama       62027      0.4783        2.99      768185     4913932   \n",
      "1      Alaska       89336      0.4333        3.72       72978      716703   \n",
      "2     Arizona       76872      0.4624        3.38      907125     7109159   \n",
      "3    Arkansas       58773      0.4807        3.16      471783     2944742   \n",
      "4  California       96334      0.4887        2.87     4610600    38529452   \n",
      "\n",
      "  B01003_001E state  \n",
      "0     5054253    01  \n",
      "1      733971    02  \n",
      "2     7268175    04  \n",
      "3     3032651    05  \n",
      "4    39242785    06  \n",
      "\n",
      "Column Names: ['NAME', 'B19013_001E', 'B19083_001E', 'B19082_001E', 'B17001_002E', 'B17001_001E', 'B01003_001E', 'state']\n",
      "\n",
      "Successfully fetched 52 state records\n",
      "Columns: 8\n",
      "Variables: median_household_income, gini_index, mean_household_income, population_below_poverty, population_for_poverty_status, total_population\n",
      "\n",
      "Raw Data Sample:\n",
      "         NAME B19013_001E B19083_001E B19082_001E B17001_002E B17001_001E  \\\n",
      "0     Alabama       62027      0.4783        2.99      768185     4913932   \n",
      "1      Alaska       89336      0.4333        3.72       72978      716703   \n",
      "2     Arizona       76872      0.4624        3.38      907125     7109159   \n",
      "3    Arkansas       58773      0.4807        3.16      471783     2944742   \n",
      "4  California       96334      0.4887        2.87     4610600    38529452   \n",
      "\n",
      "  B01003_001E state  \n",
      "0     5054253    01  \n",
      "1      733971    02  \n",
      "2     7268175    04  \n",
      "3     3032651    05  \n",
      "4    39242785    06  \n",
      "\n",
      "Column Names: ['NAME', 'B19013_001E', 'B19083_001E', 'B19082_001E', 'B17001_002E', 'B17001_001E', 'B01003_001E', 'state']\n"
     ]
    }
   ],
   "source": [
    "# ============================================================================\n",
    "# FETCH DATA FROM CENSUS ACS API\n",
    "# ============================================================================\n",
    "\n",
    "def fetch_acs_data(geographic_level='state', state_fips=None):\n",
    "    \"\"\"\n",
    "    Fetch income and poverty data from Census ACS API.\n",
    "    \n",
    "    Based on official Census API documentation:\n",
    "    https://api.census.gov/data/2023/acs/acs5/examples.html\n",
    "    \n",
    "    Parameters:\n",
    "    -----------\n",
    "    geographic_level : str\n",
    "        Geographic aggregation level:\n",
    "        - 'state'  : State-level data (51 states + DC)\n",
    "        - 'county' : County-level data (~3,143 counties)\n",
    "        - 'metro'  : Metropolitan/Micropolitan Statistical Areas\n",
    "        - 'zip'    : ZIP Code Tabulation Areas (ZCTAs)\n",
    "        - 'place'  : Incorporated places and Census Designated Places\n",
    "    \n",
    "    state_fips : str or None\n",
    "        Specific state FIPS code (e.g., '06' for California)\n",
    "        None = all states/geographies\n",
    "    \n",
    "    Returns:\n",
    "    --------\n",
    "    pandas.DataFrame with income and poverty metrics\n",
    "    \n",
    "    Notes:\n",
    "    ------\n",
    "    - API returns JSON array: [[header], [row1], [row2], ...]\n",
    "    - First row contains column names\n",
    "    - Subsequent rows contain data values\n",
    "    \"\"\"\n",
    "    \n",
    "    # Build variable list for API request\n",
    "    variables = ','.join(ACS_VARIABLES.keys())\n",
    "    \n",
    "    # Construct API endpoint based on geographic level\n",
    "    # Following official Census API patterns\n",
    "    if geographic_level == 'state':\n",
    "        # Example: https://api.census.gov/data/2023/acs/acs5?get=NAME,B01001_001E&for=state:*\n",
    "        geography = \"state:*\"\n",
    "    \n",
    "    elif geographic_level == 'county':\n",
    "        # Example: https://api.census.gov/data/2023/acs/acs5?get=NAME,B01001_001E&for=county:*&in=state:*\n",
    "        if state_fips:\n",
    "            geography = f\"county:*&in=state:{state_fips}\"\n",
    "        else:\n",
    "            geography = \"county:*&in=state:*\"\n",
    "    \n",
    "    elif geographic_level == 'metro':\n",
    "        # Example: https://api.census.gov/data/2023/acs/acs5?get=NAME,B01001_001E&for=metropolitan%20statistical%20area/micropolitan%20statistical%20area:*\n",
    "        geography = \"metropolitan%20statistical%20area/micropolitan%20statistical%20area:*\"\n",
    "    \n",
    "    elif geographic_level == 'zip':\n",
    "        # Example: https://api.census.gov/data/2023/acs/acs5?get=NAME,B01001_001E&for=zip%20code%20tabulation%20area:*\n",
    "        geography = \"zip%20code%20tabulation%20area:*\"\n",
    "    \n",
    "    elif geographic_level == 'place':\n",
    "        # Example: https://api.census.gov/data/2023/acs/acs5?get=NAME,B01001_001E&for=place:*&in=state:*\n",
    "        if state_fips:\n",
    "            geography = f\"place:*&in=state:{state_fips}\"\n",
    "        else:\n",
    "            geography = \"place:*&in=state:*\"\n",
    "    \n",
    "    else:\n",
    "        raise ValueError(f\"Invalid geographic_level: {geographic_level}. \"\n",
    "                        f\"Must be one of: 'state', 'county', 'metro', 'zip', 'place'\")\n",
    "    \n",
    "    # Build full URL following Census API specifications\n",
    "    url = f\"{ACS_BASE_URL}?get=NAME,{variables}&for={geography}&key={CENSUS_API_KEY}\"\n",
    "    \n",
    "    print(f\"\\nFetching {geographic_level}-level data from Census ACS API...\")\n",
    "    print(f\"Geographic Level: {geographic_level}\")\n",
    "    if state_fips:\n",
    "        print(f\"State FIPS Filter: {state_fips}\")\n",
    "    print(f\"URL: {url[:120]}...\")\n",
    "    \n",
    "    try:\n",
    "        # Make API request with 30-second timeout\n",
    "        response = requests.get(url, timeout=30)\n",
    "        \n",
    "        # Check HTTP status first\n",
    "        if response.status_code != 200:\n",
    "            print(f\"\\nHTTP Error {response.status_code}\")\n",
    "            print(f\"Response: {response.text[:500]}\")\n",
    "            if response.status_code == 400:\n",
    "                print(f\"Check API key and parameter format\")\n",
    "            elif response.status_code == 404:\n",
    "                print(f\"Invalid endpoint or geographic level\")\n",
    "            return None\n",
    "        \n",
    "        # Check if response is actually JSON\n",
    "        content_type = response.headers.get('Content-Type', '')\n",
    "        if 'application/json' not in content_type:\n",
    "            print(f\"\\nWARNING: Response Content-Type is '{content_type}', expected 'application/json'\")\n",
    "            print(f\"Response text (first 500 chars): {response.text[:500]}\")\n",
    "        \n",
    "        # Parse JSON response\n",
    "        # Format: [[column_names], [row1_data], [row2_data], ...]\n",
    "        try:\n",
    "            data = response.json()\n",
    "        except json.JSONDecodeError as json_err:\n",
    "            print(f\"\\nJSON Parsing Error: {json_err}\")\n",
    "            print(f\"Response status code: {response.status_code}\")\n",
    "            print(f\"Response headers: {dict(response.headers)}\")\n",
    "            print(f\"Response text (first 1000 chars):\")\n",
    "            print(f\"{response.text[:1000]}\")\n",
    "            return None\n",
    "        \n",
    "        # Validate response structure\n",
    "        if not data or len(data) < 2:\n",
    "            print(f\"\\nWARNING: API returned no data or invalid format\")\n",
    "            print(f\"Data: {data}\")\n",
    "            return None\n",
    "        \n",
    "        # Convert to DataFrame\n",
    "        # First row = column names, remaining rows = data\n",
    "        df = pd.DataFrame(data[1:], columns=data[0])\n",
    "        \n",
    "        print(f\"\\nSuccessfully fetched {len(df):,} {geographic_level} records\")\n",
    "        print(f\"Columns: {df.shape[1]}\")\n",
    "        print(f\"Variables: {', '.join(ACS_VARIABLES.values())}\")\n",
    "        \n",
    "        return df\n",
    "    \n",
    "    except requests.exceptions.Timeout:\n",
    "        print(f\"\\nRequest timed out after 30 seconds\")\n",
    "        print(f\"Try reducing the geographic scope or checking network connection\")\n",
    "        return None\n",
    "    \n",
    "    except requests.exceptions.RequestException as e:\n",
    "        print(f\"\\nRequest Error: {e}\")\n",
    "        print(f\"Error type: {type(e).__name__}\")\n",
    "        return None\n",
    "    \n",
    "    except Exception as e:\n",
    "        print(f\"\\nUnexpected Error: {e}\")\n",
    "        print(f\"Error type: {type(e).__name__}\")\n",
    "        import traceback\n",
    "        print(f\"Traceback: {traceback.format_exc()}\")\n",
    "        return None\n",
    "\n",
    "\n",
    "# Fetch data based on configuration\n",
    "print(\"\\n\" + \"=\"*80)\n",
    "print(\"DATA INGESTION - CENSUS ACS 5-YEAR ESTIMATES (2019-2023)\")\n",
    "print(\"=\"*80)\n",
    "\n",
    "df_raw = fetch_acs_data(\n",
    "    geographic_level=ANALYSIS_CONFIG['geographic_level'],\n",
    "    state_fips=ANALYSIS_CONFIG['selected_states']\n",
    ")\n",
    "\n",
    "if df_raw is not None:\n",
    "    print(\"\\nRaw Data Sample:\")\n",
    "    print(df_raw.head())\n",
    "    print(f\"\\nColumn Names: {list(df_raw.columns)}\")\n",
    "else:\n",
    "    print(\"\\nWARNING: Data fetch failed. Check configuration and API key.\")"
   ]
  },
  {
   "cell_type": "markdown",
   "id": "137be128",
   "metadata": {},
   "source": [
    "## 3. Data Preprocessing & Validation"
   ]
  },
  {
   "cell_type": "code",
   "execution_count": 4,
   "id": "f9d1936f",
   "metadata": {},
   "outputs": [
    {
     "name": "stdout",
     "output_type": "stream",
     "text": [
      "\n",
      "Missing Values Check:\n",
      "Series([], dtype: int64)\n",
      "\n",
      "Data cleaned: 52 records retained (100.0%)\n",
      "\n",
      "Summary Statistics:\n",
      "       median_household_income  gini_index  poverty_rate\n",
      "count                    52.00       52.00         52.00\n",
      "mean                 77,173.40        0.47         12.81\n",
      "std                  14,810.73        0.02          4.82\n",
      "min                  25,096.00        0.43          7.16\n",
      "25%                  69,848.00        0.45         10.29\n",
      "50%                  75,273.00        0.47         11.93\n",
      "75%                  88,001.00        0.48         13.72\n",
      "max                 106,287.00        0.55         41.55\n"
     ]
    }
   ],
   "source": [
    "# ============================================================================\n",
    "# DATA PREPROCESSING\n",
    "# ============================================================================\n",
    "\n",
    "if df_raw is not None:\n",
    "    # Rename columns to descriptive names\n",
    "    df = df_raw.copy()\n",
    "    \n",
    "    for acs_code, descriptive_name in ACS_VARIABLES.items():\n",
    "        if acs_code in df.columns:\n",
    "            df.rename(columns={acs_code: descriptive_name}, inplace=True)\n",
    "    \n",
    "    # Convert numeric columns\n",
    "    numeric_cols = list(ACS_VARIABLES.values())\n",
    "    for col in numeric_cols:\n",
    "        if col in df.columns:\n",
    "            df[col] = pd.to_numeric(df[col], errors='coerce')\n",
    "    \n",
    "    # Calculate derived metrics\n",
    "    df['poverty_rate'] = (df['population_below_poverty'] / df['population_for_poverty_status']) * 100\n",
    "    df['income_per_capita'] = df['mean_household_income'] / (df['total_population'] / 2.5)  # Avg 2.5 per household\n",
    "    \n",
    "    # Handle missing values\n",
    "    print(\"\\nMissing Values Check:\")\n",
    "    missing_summary = df[numeric_cols + ['poverty_rate', 'income_per_capita']].isnull().sum()\n",
    "    print(missing_summary[missing_summary > 0])\n",
    "    \n",
    "    # Remove rows with critical missing values\n",
    "    df_clean = df.dropna(subset=['median_household_income', 'gini_index'])\n",
    "    \n",
    "    print(f\"\\nData cleaned: {len(df_clean):,} records retained ({len(df_clean)/len(df)*100:.1f}%)\")\n",
    "    print(\"\\nSummary Statistics:\")\n",
    "    print(df_clean[['median_household_income', 'gini_index', 'poverty_rate']].describe())\n",
    "    \n",
    "else:\n",
    "    print(\"\\nWARNING: No data to process. Check API configuration.\")\n",
    "    df_clean = None"
   ]
  },
  {
   "cell_type": "markdown",
   "id": "01fa8748",
   "metadata": {},
   "source": [
    "## 4. Exploratory Data Analysis"
   ]
  },
  {
   "cell_type": "code",
   "execution_count": 5,
   "id": "9cde70bb",
   "metadata": {},
   "outputs": [
    {
     "name": "stdout",
     "output_type": "stream",
     "text": [
      "\n",
      "================================================================================\n",
      "INCOME & INEQUALITY - EXPLORATORY ANALYSIS\n",
      "================================================================================\n",
      "\n",
      "TOP 10 HIGHEST MEDIAN HOUSEHOLD INCOME:\n",
      "--------------------------------------------------------------------------------\n",
      "  District of Columbia           $   106,287  Gini: 0.514  Poverty: 14.5%\n",
      "  Maryland                       $   101,652  Gini: 0.456  Poverty: 9.3%\n",
      "  Massachusetts                  $   101,341  Gini: 0.488  Poverty: 10.0%\n",
      "  New Jersey                     $   101,050  Gini: 0.480  Poverty: 9.8%\n",
      "  Hawaii                         $    98,317  Gini: 0.450  Poverty: 10.0%\n",
      "  California                     $    96,334  Gini: 0.489  Poverty: 12.0%\n",
      "  New Hampshire                  $    95,628  Gini: 0.441  Poverty: 7.2%\n",
      "  Washington                     $    94,952  Gini: 0.466  Poverty: 9.9%\n",
      "  Connecticut                    $    93,760  Gini: 0.498  Poverty: 10.0%\n",
      "  Colorado                       $    92,470  Gini: 0.458  Poverty: 9.4%\n",
      "\n",
      "BOTTOM 10 LOWEST MEDIAN HOUSEHOLD INCOME:\n",
      "--------------------------------------------------------------------------------\n",
      "  Puerto Rico                    $    25,096  Gini: 0.546  Poverty: 41.6%\n",
      "  Mississippi                    $    54,915  Gini: 0.484  Poverty: 19.1%\n",
      "  West Virginia                  $    57,917  Gini: 0.470  Poverty: 16.6%\n",
      "  Arkansas                       $    58,773  Gini: 0.481  Poverty: 16.0%\n",
      "  Louisiana                      $    60,023  Gini: 0.494  Poverty: 18.9%\n",
      "  Alabama                        $    62,027  Gini: 0.478  Poverty: 15.6%\n",
      "  New Mexico                     $    62,125  Gini: 0.477  Poverty: 18.1%\n",
      "  Kentucky                       $    62,417  Gini: 0.478  Poverty: 16.1%\n",
      "  Oklahoma                       $    63,603  Gini: 0.468  Poverty: 15.3%\n",
      "  South Carolina                 $    66,818  Gini: 0.477  Poverty: 14.2%\n",
      "\n",
      "INCOME INEQUALITY ANALYSIS:\n",
      "--------------------------------------------------------------------------------\n",
      "  Regions with HIGH inequality (Gini > 0.45): 41 (78.8%)\n",
      "  Regions with LOW inequality (Gini < 0.40): 0 (0.0%)\n",
      "  National Gini Index (mean): 0.468\n",
      "  National Gini Index (median): 0.466\n",
      "\n",
      "POVERTY RATE ANALYSIS:\n",
      "--------------------------------------------------------------------------------\n",
      "  Regions with poverty rate > 15.0%: 9 (17.3%)\n",
      "  National poverty rate (mean): 12.81%\n",
      "  National poverty rate (median): 11.93%\n",
      "  Range: 7.16% - 41.55%\n",
      "\n",
      "CORRELATION ANALYSIS:\n",
      "--------------------------------------------------------------------------------\n",
      "  Median Income vs Gini Index: -0.281\n",
      "  Median Income vs Poverty Rate: -0.757\n",
      "  Gini Index vs Poverty Rate: 0.690\n",
      "\n",
      "================================================================================\n"
     ]
    }
   ],
   "source": [
    "# ============================================================================\n",
    "# EXPLORATORY DATA ANALYSIS\n",
    "# ============================================================================\n",
    "\n",
    "if df_clean is not None and len(df_clean) > 0:\n",
    "    print(\"\\n\" + \"=\"*80)\n",
    "    print(\"INCOME & INEQUALITY - EXPLORATORY ANALYSIS\")\n",
    "    print(\"=\"*80)\n",
    "    \n",
    "    # Top 10 highest income regions\n",
    "    print(\"\\nTOP 10 HIGHEST MEDIAN HOUSEHOLD INCOME:\")\n",
    "    print(\"-\" * 80)\n",
    "    top_income = df_clean.nlargest(10, 'median_household_income')[['NAME', 'median_household_income', 'gini_index', 'poverty_rate']]\n",
    "    for idx, row in top_income.iterrows():\n",
    "        print(f\"  {row['NAME']:<30} ${row['median_household_income']:>10,.0f}  Gini: {row['gini_index']:.3f}  Poverty: {row['poverty_rate']:.1f}%\")\n",
    "    \n",
    "    # Bottom 10 lowest income regions\n",
    "    print(\"\\nBOTTOM 10 LOWEST MEDIAN HOUSEHOLD INCOME:\")\n",
    "    print(\"-\" * 80)\n",
    "    bottom_income = df_clean.nsmallest(10, 'median_household_income')[['NAME', 'median_household_income', 'gini_index', 'poverty_rate']]\n",
    "    for idx, row in bottom_income.iterrows():\n",
    "        print(f\"  {row['NAME']:<30} ${row['median_household_income']:>10,.0f}  Gini: {row['gini_index']:.3f}  Poverty: {row['poverty_rate']:.1f}%\")\n",
    "    \n",
    "    # Inequality analysis\n",
    "    print(\"\\nINCOME INEQUALITY ANALYSIS:\")\n",
    "    print(\"-\" * 80)\n",
    "    high_inequality = df_clean[df_clean['gini_index'] > 0.45]\n",
    "    low_inequality = df_clean[df_clean['gini_index'] < 0.40]\n",
    "    print(f\"  Regions with HIGH inequality (Gini > 0.45): {len(high_inequality)} ({len(high_inequality)/len(df_clean)*100:.1f}%)\")\n",
    "    print(f\"  Regions with LOW inequality (Gini < 0.40): {len(low_inequality)} ({len(low_inequality)/len(df_clean)*100:.1f}%)\")\n",
    "    print(f\"  National Gini Index (mean): {df_clean['gini_index'].mean():.3f}\")\n",
    "    print(f\"  National Gini Index (median): {df_clean['gini_index'].median():.3f}\")\n",
    "    \n",
    "    # Poverty analysis\n",
    "    print(\"\\nPOVERTY RATE ANALYSIS:\")\n",
    "    print(\"-\" * 80)\n",
    "    high_poverty = df_clean[df_clean['poverty_rate'] > ANALYSIS_CONFIG['poverty_threshold'] * 100]\n",
    "    print(f\"  Regions with poverty rate > {ANALYSIS_CONFIG['poverty_threshold']*100}%: {len(high_poverty)} ({len(high_poverty)/len(df_clean)*100:.1f}%)\")\n",
    "    print(f\"  National poverty rate (mean): {df_clean['poverty_rate'].mean():.2f}%\")\n",
    "    print(f\"  National poverty rate (median): {df_clean['poverty_rate'].median():.2f}%\")\n",
    "    print(f\"  Range: {df_clean['poverty_rate'].min():.2f}% - {df_clean['poverty_rate'].max():.2f}%\")\n",
    "    \n",
    "    # Correlation analysis\n",
    "    print(\"\\nCORRELATION ANALYSIS:\")\n",
    "    print(\"-\" * 80)\n",
    "    corr_income_gini = df_clean['median_household_income'].corr(df_clean['gini_index'])\n",
    "    corr_income_poverty = df_clean['median_household_income'].corr(df_clean['poverty_rate'])\n",
    "    corr_gini_poverty = df_clean['gini_index'].corr(df_clean['poverty_rate'])\n",
    "    print(f\"  Median Income vs Gini Index: {corr_income_gini:.3f}\")\n",
    "    print(f\"  Median Income vs Poverty Rate: {corr_income_poverty:.3f}\")\n",
    "    print(f\"  Gini Index vs Poverty Rate: {corr_gini_poverty:.3f}\")\n",
    "    \n",
    "    print(\"\\n\" + \"=\"*80)\n",
    "else:\n",
    "    print(\"\\nWARNING: No data available for analysis.\")"
   ]
  },
  {
   "cell_type": "markdown",
   "id": "e890683d",
   "metadata": {},
   "source": [
    "## 5. Visualization - Income Distribution"
   ]
  },
  {
   "cell_type": "code",
   "execution_count": 6,
   "id": "e7b780eb",
   "metadata": {},
   "outputs": [
    {
     "name": "stdout",
     "output_type": "stream",
     "text": [
      "\n",
      "================================================================================\n",
      "DATA STRUCTURE VERIFICATION FOR CHOROPLETH MAPPING\n",
      "================================================================================\n",
      "\n",
      "DataFrame Shape: (52, 10)\n",
      "\n",
      "All Columns: ['NAME', 'median_household_income', 'gini_index', 'mean_household_income', 'population_below_poverty', 'population_for_poverty_status', 'total_population', 'state', 'poverty_rate', 'income_per_capita']\n",
      "\n",
      "First 5 rows of key columns:\n",
      "         NAME state  median_household_income  gini_index  poverty_rate\n",
      "0     Alabama    01                    62027        0.48         15.63\n",
      "1      Alaska    02                    89336        0.43         10.18\n",
      "2     Arizona    04                    76872        0.46         12.76\n",
      "3    Arkansas    05                    58773        0.48         16.02\n",
      "4  California    06                    96334        0.49         11.97\n",
      "\n",
      "Data Types:\n",
      "  NAME: object\n",
      "  state: object\n",
      "  median_household_income: int64\n",
      "  gini_index: float64\n",
      "  poverty_rate: float64\n",
      "\n",
      "Null values in key columns:\n",
      "\n",
      "================================================================================\n"
     ]
    }
   ],
   "source": [
    "# ============================================================================\n",
    "# DEBUG: CHECK DATA STRUCTURE BEFORE MAPPING\n",
    "# ============================================================================\n",
    "\n",
    "if df_clean is not None and len(df_clean) > 0:\n",
    "    print(\"\\n\" + \"=\"*80)\n",
    "    print(\"DATA STRUCTURE VERIFICATION FOR CHOROPLETH MAPPING\")\n",
    "    print(\"=\"*80)\n",
    "    \n",
    "    print(f\"\\nDataFrame Shape: {df_clean.shape}\")\n",
    "    print(f\"\\nAll Columns: {df_clean.columns.tolist()}\")\n",
    "    \n",
    "    print(\"\\nFirst 5 rows of key columns:\")\n",
    "    display_cols = ['NAME']\n",
    "    if 'state' in df_clean.columns:\n",
    "        display_cols.append('state')\n",
    "    if 'state_fips' in df_clean.columns:\n",
    "        display_cols.append('state_fips')\n",
    "    display_cols.extend(['median_household_income', 'gini_index', 'poverty_rate'])\n",
    "    \n",
    "    print(df_clean[display_cols].head())\n",
    "    \n",
    "    print(\"\\nData Types:\")\n",
    "    for col in display_cols:\n",
    "        if col in df_clean.columns:\n",
    "            print(f\"  {col}: {df_clean[col].dtype}\")\n",
    "    \n",
    "    # Check for null values\n",
    "    print(\"\\nNull values in key columns:\")\n",
    "    for col in display_cols:\n",
    "        if col in df_clean.columns:\n",
    "            null_count = df_clean[col].isnull().sum()\n",
    "            if null_count > 0:\n",
    "                print(f\"  {col}: {null_count} nulls\")\n",
    "    \n",
    "    print(\"\\n\" + \"=\"*80)\n",
    "else:\n",
    "    print(\"\\nWARNING: No data available for verification.\")"
   ]
  },
  {
   "cell_type": "code",
   "execution_count": 7,
   "id": "bddb00d2",
   "metadata": {},
   "outputs": [
    {
     "data": {
      "application/vnd.plotly.v1+json": {
       "config": {
        "plotlyServerURL": "https://plot.ly"
       },
       "data": [
        {
         "marker": {
          "color": "rgb(55, 126, 184)"
         },
         "name": "Distribution",
         "nbinsx": 30,
         "opacity": 0.7,
         "type": "histogram",
         "x": {
          "bdata": "S/IAAPhcAQBILAEAleUAAE54AQA2aQEAQG4BAKdDAQAvnwEAHxgBAKgjAQANgAEAjCMBACY/AQCjEQEAux0BAL8bAQDR8wAAd+oAAF0YAQAUjQEA3YsBAO0VAQAEVgEAg9YAADgNAQAiEQEA6SQBACknAQCMdQEAuooBAK3yAABiSgEAEBEBAK0oAQAwEAEAc/gAACo6AQAxKQEAZFEBAAIFAQDlGgEAGQYBAAQqAQBmZgEAyDABAF5jAQDocgEAPeIAAJYnAQA/JAEACGIAAA==",
          "dtype": "i4"
         }
        }
       ],
       "layout": {
        "annotations": [
         {
          "showarrow": false,
          "text": "Mean: $77,173",
          "x": 77173.40384615384,
          "xanchor": "left",
          "xref": "x",
          "y": 1,
          "yanchor": "top",
          "yref": "y domain"
         },
         {
          "showarrow": false,
          "text": "Median: $75,273",
          "x": 75273,
          "xanchor": "left",
          "xref": "x",
          "y": 0,
          "yanchor": "bottom",
          "yref": "y domain"
         }
        ],
        "height": 500,
        "hovermode": "x unified",
        "shapes": [
         {
          "line": {
           "color": "red",
           "dash": "dash"
          },
          "type": "line",
          "x0": 77173.40384615384,
          "x1": 77173.40384615384,
          "xref": "x",
          "y0": 0,
          "y1": 1,
          "yref": "y domain"
         },
         {
          "line": {
           "color": "green",
           "dash": "dot"
          },
          "type": "line",
          "x0": 75273,
          "x1": 75273,
          "xref": "x",
          "y0": 0,
          "y1": 1,
          "yref": "y domain"
         }
        ],
        "template": {
         "data": {
          "bar": [
           {
            "error_x": {
             "color": "#2a3f5f"
            },
            "error_y": {
             "color": "#2a3f5f"
            },
            "marker": {
             "line": {
              "color": "#E5ECF6",
              "width": 0.5
             },
             "pattern": {
              "fillmode": "overlay",
              "size": 10,
              "solidity": 0.2
             }
            },
            "type": "bar"
           }
          ],
          "barpolar": [
           {
            "marker": {
             "line": {
              "color": "#E5ECF6",
              "width": 0.5
             },
             "pattern": {
              "fillmode": "overlay",
              "size": 10,
              "solidity": 0.2
             }
            },
            "type": "barpolar"
           }
          ],
          "carpet": [
           {
            "aaxis": {
             "endlinecolor": "#2a3f5f",
             "gridcolor": "white",
             "linecolor": "white",
             "minorgridcolor": "white",
             "startlinecolor": "#2a3f5f"
            },
            "baxis": {
             "endlinecolor": "#2a3f5f",
             "gridcolor": "white",
             "linecolor": "white",
             "minorgridcolor": "white",
             "startlinecolor": "#2a3f5f"
            },
            "type": "carpet"
           }
          ],
          "choropleth": [
           {
            "colorbar": {
             "outlinewidth": 0,
             "ticks": ""
            },
            "type": "choropleth"
           }
          ],
          "contour": [
           {
            "colorbar": {
             "outlinewidth": 0,
             "ticks": ""
            },
            "colorscale": [
             [
              0,
              "#0d0887"
             ],
             [
              0.1111111111111111,
              "#46039f"
             ],
             [
              0.2222222222222222,
              "#7201a8"
             ],
             [
              0.3333333333333333,
              "#9c179e"
             ],
             [
              0.4444444444444444,
              "#bd3786"
             ],
             [
              0.5555555555555556,
              "#d8576b"
             ],
             [
              0.6666666666666666,
              "#ed7953"
             ],
             [
              0.7777777777777778,
              "#fb9f3a"
             ],
             [
              0.8888888888888888,
              "#fdca26"
             ],
             [
              1,
              "#f0f921"
             ]
            ],
            "type": "contour"
           }
          ],
          "contourcarpet": [
           {
            "colorbar": {
             "outlinewidth": 0,
             "ticks": ""
            },
            "type": "contourcarpet"
           }
          ],
          "heatmap": [
           {
            "colorbar": {
             "outlinewidth": 0,
             "ticks": ""
            },
            "colorscale": [
             [
              0,
              "#0d0887"
             ],
             [
              0.1111111111111111,
              "#46039f"
             ],
             [
              0.2222222222222222,
              "#7201a8"
             ],
             [
              0.3333333333333333,
              "#9c179e"
             ],
             [
              0.4444444444444444,
              "#bd3786"
             ],
             [
              0.5555555555555556,
              "#d8576b"
             ],
             [
              0.6666666666666666,
              "#ed7953"
             ],
             [
              0.7777777777777778,
              "#fb9f3a"
             ],
             [
              0.8888888888888888,
              "#fdca26"
             ],
             [
              1,
              "#f0f921"
             ]
            ],
            "type": "heatmap"
           }
          ],
          "histogram": [
           {
            "marker": {
             "pattern": {
              "fillmode": "overlay",
              "size": 10,
              "solidity": 0.2
             }
            },
            "type": "histogram"
           }
          ],
          "histogram2d": [
           {
            "colorbar": {
             "outlinewidth": 0,
             "ticks": ""
            },
            "colorscale": [
             [
              0,
              "#0d0887"
             ],
             [
              0.1111111111111111,
              "#46039f"
             ],
             [
              0.2222222222222222,
              "#7201a8"
             ],
             [
              0.3333333333333333,
              "#9c179e"
             ],
             [
              0.4444444444444444,
              "#bd3786"
             ],
             [
              0.5555555555555556,
              "#d8576b"
             ],
             [
              0.6666666666666666,
              "#ed7953"
             ],
             [
              0.7777777777777778,
              "#fb9f3a"
             ],
             [
              0.8888888888888888,
              "#fdca26"
             ],
             [
              1,
              "#f0f921"
             ]
            ],
            "type": "histogram2d"
           }
          ],
          "histogram2dcontour": [
           {
            "colorbar": {
             "outlinewidth": 0,
             "ticks": ""
            },
            "colorscale": [
             [
              0,
              "#0d0887"
             ],
             [
              0.1111111111111111,
              "#46039f"
             ],
             [
              0.2222222222222222,
              "#7201a8"
             ],
             [
              0.3333333333333333,
              "#9c179e"
             ],
             [
              0.4444444444444444,
              "#bd3786"
             ],
             [
              0.5555555555555556,
              "#d8576b"
             ],
             [
              0.6666666666666666,
              "#ed7953"
             ],
             [
              0.7777777777777778,
              "#fb9f3a"
             ],
             [
              0.8888888888888888,
              "#fdca26"
             ],
             [
              1,
              "#f0f921"
             ]
            ],
            "type": "histogram2dcontour"
           }
          ],
          "mesh3d": [
           {
            "colorbar": {
             "outlinewidth": 0,
             "ticks": ""
            },
            "type": "mesh3d"
           }
          ],
          "parcoords": [
           {
            "line": {
             "colorbar": {
              "outlinewidth": 0,
              "ticks": ""
             }
            },
            "type": "parcoords"
           }
          ],
          "pie": [
           {
            "automargin": true,
            "type": "pie"
           }
          ],
          "scatter": [
           {
            "fillpattern": {
             "fillmode": "overlay",
             "size": 10,
             "solidity": 0.2
            },
            "type": "scatter"
           }
          ],
          "scatter3d": [
           {
            "line": {
             "colorbar": {
              "outlinewidth": 0,
              "ticks": ""
             }
            },
            "marker": {
             "colorbar": {
              "outlinewidth": 0,
              "ticks": ""
             }
            },
            "type": "scatter3d"
           }
          ],
          "scattercarpet": [
           {
            "marker": {
             "colorbar": {
              "outlinewidth": 0,
              "ticks": ""
             }
            },
            "type": "scattercarpet"
           }
          ],
          "scattergeo": [
           {
            "marker": {
             "colorbar": {
              "outlinewidth": 0,
              "ticks": ""
             }
            },
            "type": "scattergeo"
           }
          ],
          "scattergl": [
           {
            "marker": {
             "colorbar": {
              "outlinewidth": 0,
              "ticks": ""
             }
            },
            "type": "scattergl"
           }
          ],
          "scattermap": [
           {
            "marker": {
             "colorbar": {
              "outlinewidth": 0,
              "ticks": ""
             }
            },
            "type": "scattermap"
           }
          ],
          "scattermapbox": [
           {
            "marker": {
             "colorbar": {
              "outlinewidth": 0,
              "ticks": ""
             }
            },
            "type": "scattermapbox"
           }
          ],
          "scatterpolar": [
           {
            "marker": {
             "colorbar": {
              "outlinewidth": 0,
              "ticks": ""
             }
            },
            "type": "scatterpolar"
           }
          ],
          "scatterpolargl": [
           {
            "marker": {
             "colorbar": {
              "outlinewidth": 0,
              "ticks": ""
             }
            },
            "type": "scatterpolargl"
           }
          ],
          "scatterternary": [
           {
            "marker": {
             "colorbar": {
              "outlinewidth": 0,
              "ticks": ""
             }
            },
            "type": "scatterternary"
           }
          ],
          "surface": [
           {
            "colorbar": {
             "outlinewidth": 0,
             "ticks": ""
            },
            "colorscale": [
             [
              0,
              "#0d0887"
             ],
             [
              0.1111111111111111,
              "#46039f"
             ],
             [
              0.2222222222222222,
              "#7201a8"
             ],
             [
              0.3333333333333333,
              "#9c179e"
             ],
             [
              0.4444444444444444,
              "#bd3786"
             ],
             [
              0.5555555555555556,
              "#d8576b"
             ],
             [
              0.6666666666666666,
              "#ed7953"
             ],
             [
              0.7777777777777778,
              "#fb9f3a"
             ],
             [
              0.8888888888888888,
              "#fdca26"
             ],
             [
              1,
              "#f0f921"
             ]
            ],
            "type": "surface"
           }
          ],
          "table": [
           {
            "cells": {
             "fill": {
              "color": "#EBF0F8"
             },
             "line": {
              "color": "white"
             }
            },
            "header": {
             "fill": {
              "color": "#C8D4E3"
             },
             "line": {
              "color": "white"
             }
            },
            "type": "table"
           }
          ]
         },
         "layout": {
          "annotationdefaults": {
           "arrowcolor": "#2a3f5f",
           "arrowhead": 0,
           "arrowwidth": 1
          },
          "autotypenumbers": "strict",
          "coloraxis": {
           "colorbar": {
            "outlinewidth": 0,
            "ticks": ""
           }
          },
          "colorscale": {
           "diverging": [
            [
             0,
             "#8e0152"
            ],
            [
             0.1,
             "#c51b7d"
            ],
            [
             0.2,
             "#de77ae"
            ],
            [
             0.3,
             "#f1b6da"
            ],
            [
             0.4,
             "#fde0ef"
            ],
            [
             0.5,
             "#f7f7f7"
            ],
            [
             0.6,
             "#e6f5d0"
            ],
            [
             0.7,
             "#b8e186"
            ],
            [
             0.8,
             "#7fbc41"
            ],
            [
             0.9,
             "#4d9221"
            ],
            [
             1,
             "#276419"
            ]
           ],
           "sequential": [
            [
             0,
             "#0d0887"
            ],
            [
             0.1111111111111111,
             "#46039f"
            ],
            [
             0.2222222222222222,
             "#7201a8"
            ],
            [
             0.3333333333333333,
             "#9c179e"
            ],
            [
             0.4444444444444444,
             "#bd3786"
            ],
            [
             0.5555555555555556,
             "#d8576b"
            ],
            [
             0.6666666666666666,
             "#ed7953"
            ],
            [
             0.7777777777777778,
             "#fb9f3a"
            ],
            [
             0.8888888888888888,
             "#fdca26"
            ],
            [
             1,
             "#f0f921"
            ]
           ],
           "sequentialminus": [
            [
             0,
             "#0d0887"
            ],
            [
             0.1111111111111111,
             "#46039f"
            ],
            [
             0.2222222222222222,
             "#7201a8"
            ],
            [
             0.3333333333333333,
             "#9c179e"
            ],
            [
             0.4444444444444444,
             "#bd3786"
            ],
            [
             0.5555555555555556,
             "#d8576b"
            ],
            [
             0.6666666666666666,
             "#ed7953"
            ],
            [
             0.7777777777777778,
             "#fb9f3a"
            ],
            [
             0.8888888888888888,
             "#fdca26"
            ],
            [
             1,
             "#f0f921"
            ]
           ]
          },
          "colorway": [
           "#636efa",
           "#EF553B",
           "#00cc96",
           "#ab63fa",
           "#FFA15A",
           "#19d3f3",
           "#FF6692",
           "#B6E880",
           "#FF97FF",
           "#FECB52"
          ],
          "font": {
           "color": "#2a3f5f"
          },
          "geo": {
           "bgcolor": "white",
           "lakecolor": "white",
           "landcolor": "#E5ECF6",
           "showlakes": true,
           "showland": true,
           "subunitcolor": "white"
          },
          "hoverlabel": {
           "align": "left"
          },
          "hovermode": "closest",
          "mapbox": {
           "style": "light"
          },
          "paper_bgcolor": "white",
          "plot_bgcolor": "#E5ECF6",
          "polar": {
           "angularaxis": {
            "gridcolor": "white",
            "linecolor": "white",
            "ticks": ""
           },
           "bgcolor": "#E5ECF6",
           "radialaxis": {
            "gridcolor": "white",
            "linecolor": "white",
            "ticks": ""
           }
          },
          "scene": {
           "xaxis": {
            "backgroundcolor": "#E5ECF6",
            "gridcolor": "white",
            "gridwidth": 2,
            "linecolor": "white",
            "showbackground": true,
            "ticks": "",
            "zerolinecolor": "white"
           },
           "yaxis": {
            "backgroundcolor": "#E5ECF6",
            "gridcolor": "white",
            "gridwidth": 2,
            "linecolor": "white",
            "showbackground": true,
            "ticks": "",
            "zerolinecolor": "white"
           },
           "zaxis": {
            "backgroundcolor": "#E5ECF6",
            "gridcolor": "white",
            "gridwidth": 2,
            "linecolor": "white",
            "showbackground": true,
            "ticks": "",
            "zerolinecolor": "white"
           }
          },
          "shapedefaults": {
           "line": {
            "color": "#2a3f5f"
           }
          },
          "ternary": {
           "aaxis": {
            "gridcolor": "white",
            "linecolor": "white",
            "ticks": ""
           },
           "baxis": {
            "gridcolor": "white",
            "linecolor": "white",
            "ticks": ""
           },
           "bgcolor": "#E5ECF6",
           "caxis": {
            "gridcolor": "white",
            "linecolor": "white",
            "ticks": ""
           }
          },
          "title": {
           "x": 0.05
          },
          "xaxis": {
           "automargin": true,
           "gridcolor": "white",
           "linecolor": "white",
           "ticks": "",
           "title": {
            "standoff": 15
           },
           "zerolinecolor": "white",
           "zerolinewidth": 2
          },
          "yaxis": {
           "automargin": true,
           "gridcolor": "white",
           "linecolor": "white",
           "ticks": "",
           "title": {
            "standoff": 15
           },
           "zerolinecolor": "white",
           "zerolinewidth": 2
          }
         }
        },
        "title": {
         "text": "Median Household Income Distribution - State Level"
        },
        "width": 1200,
        "xaxis": {
         "title": {
          "text": "Median Household Income (USD)"
         }
        },
        "yaxis": {
         "title": {
          "text": "Frequency"
         }
        }
       }
      }
     },
     "metadata": {},
     "output_type": "display_data"
    }
   ],
   "source": [
    "# ============================================================================\n",
    "# VISUALIZATION 1: INCOME DISTRIBUTION HISTOGRAM\n",
    "# ============================================================================\n",
    "\n",
    "if df_clean is not None and len(df_clean) > 0:\n",
    "    fig1 = go.Figure()\n",
    "    \n",
    "    # Histogram\n",
    "    fig1.add_trace(go.Histogram(\n",
    "        x=df_clean['median_household_income'],\n",
    "        nbinsx=30,\n",
    "        name='Distribution',\n",
    "        marker_color='rgb(55, 126, 184)',\n",
    "        opacity=0.7\n",
    "    ))\n",
    "    \n",
    "    # Add mean line\n",
    "    mean_income = df_clean['median_household_income'].mean()\n",
    "    fig1.add_vline(\n",
    "        x=mean_income,\n",
    "        line_dash=\"dash\",\n",
    "        line_color=\"red\",\n",
    "        annotation_text=f\"Mean: ${mean_income:,.0f}\",\n",
    "        annotation_position=\"top right\"\n",
    "    )\n",
    "    \n",
    "    # Add median line\n",
    "    median_income = df_clean['median_household_income'].median()\n",
    "    fig1.add_vline(\n",
    "        x=median_income,\n",
    "        line_dash=\"dot\",\n",
    "        line_color=\"green\",\n",
    "        annotation_text=f\"Median: ${median_income:,.0f}\",\n",
    "        annotation_position=\"bottom right\"\n",
    "    )\n",
    "    \n",
    "    fig1.update_layout(\n",
    "        title=f\"Median Household Income Distribution - {ANALYSIS_CONFIG['geographic_level'].title()} Level\",\n",
    "        xaxis_title=\"Median Household Income (USD)\",\n",
    "        yaxis_title=\"Frequency\",\n",
    "        hovermode='x unified',\n",
    "        width=1200,\n",
    "        height=500\n",
    "    )\n",
    "    \n",
    "    fig1.show()\n",
    "else:\n",
    "    print(\"\\nWARNING: No data available for visualization.\")"
   ]
  },
  {
   "cell_type": "code",
   "execution_count": 8,
   "id": "80247827",
   "metadata": {},
   "outputs": [
    {
     "data": {
      "application/vnd.plotly.v1+json": {
       "config": {
        "plotlyServerURL": "https://plot.ly"
       },
       "data": [
        {
         "customdata": {
          "bdata": "Ahoo7v1DL0AAAABAy0dTQXWqA3drXSRAAAAAACZmJkHKxm/rF4UpQAAAAMDTuVtBaBP1WW0FMEAAAACAJSNHQfweK/LP7idAAAAACGG2gkHY4ZWLKsQiQAAAAICVKlZBxnN7zYsNJEAAAAAABnRLQdykqc97cyVAAAAAAGCyLkH//hQ4qw8tQAAAAACegiRBasWE9x88KUAAAAAQu+l0QcaI0ajB8ypAAAAAwHekZEG5zYjEYe4jQAAAAAADDzZBFhx75r1FJUAAAAAAsOM8Qb6mqMdSbydAAAAAoJU1aEFdC06h8GgoQAAAAAAa/FlBTBndOCH7JUAAAACAEGJIQW3bP2w9DCdAAAAAgHBpRkHo1K/YYiQwQAAAAEABNVFB7ALSW2viMkAAAABAuKBRQePF0L8VkCVAAAAAAHgENUH+m7r7IbMiQAAAAIAcildB7rkhiN/2I0AAAADAgqxaQUsFLfDiGSpAAAAAYAEsY0GHG83RD2UiQAAAAADNy1VB1nkKTpIQM0AAAAAAh4RGQS+F/wb0PSlAAAAAQJ2HV0HuUk/GbxcoQAAAAACw3DBB9AwcLjGXJEAAAAAAZv89Qews4LYxLylAAAAAAMT2R0GjVdFNkJ8cQAAAAAA6LTVB8/EBjbmKI0AAAADA6KxhQRLFxE/CGTJAAAAAAGgiQEE5BMxFaWYrQAAAAPCj83JBuniba3tVKkAAAACAIjBkQZF5sYO2KSVAAAAAAMLIJ0G57xr2BnoqQAAAAMD5d2ZBHefYQKuqLkAAAAAAPntOQWzMpSpTySdAAAAAgF4rUEFAVyy8zI0nQAAAAMASxWhBSj2IWKfPJUAAAAAAy7YwQRH71mAAYSxAAAAAgJniU0E5ui90yQYoQAAAAAD0cCtBggnXcByMK0AAAACAWKZaQVnyJw6CmytAAAAAcGlEfEFQClFwLx0hQAAAAIA5aklBPJeg482IJEAAAAAADLEjQXDyQ1Wp2CNAAAAAYEuDYEHdBKVor88jQAAAAACOh11BkwSjHzOkMEAAAAAAjjo7QYijSeHdJyVAAAAAwO15VkEEeS94CnQlQAAAAABisSFB7TWtZdDGREAAAACAMtVIQQ==",
          "dtype": "f8",
          "shape": "52, 2"
         },
         "hovertemplate": "<b>%{hovertext}</b><br><br>Median Household Income (USD)=%{x:$,.0f}<br>Gini Index (0-1)=%{y:.3f}<br>Population=%{customdata[1]:,.0f}<br>Poverty Rate (%)=%{marker.color:.1f}<extra></extra>",
         "hovertext": [
          "Alabama",
          "Alaska",
          "Arizona",
          "Arkansas",
          "California",
          "Colorado",
          "Connecticut",
          "Delaware",
          "District of Columbia",
          "Florida",
          "Georgia",
          "Hawaii",
          "Idaho",
          "Illinois",
          "Indiana",
          "Iowa",
          "Kansas",
          "Kentucky",
          "Louisiana",
          "Maine",
          "Maryland",
          "Massachusetts",
          "Michigan",
          "Minnesota",
          "Mississippi",
          "Missouri",
          "Montana",
          "Nebraska",
          "Nevada",
          "New Hampshire",
          "New Jersey",
          "New Mexico",
          "New York",
          "North Carolina",
          "North Dakota",
          "Ohio",
          "Oklahoma",
          "Oregon",
          "Pennsylvania",
          "Rhode Island",
          "South Carolina",
          "South Dakota",
          "Tennessee",
          "Texas",
          "Utah",
          "Vermont",
          "Virginia",
          "Washington",
          "West Virginia",
          "Wisconsin",
          "Wyoming",
          "Puerto Rico"
         ],
         "legendgroup": "",
         "marker": {
          "color": {
           "bdata": "Ahoo7v1DL0B1qgN3a10kQMrGb+sXhSlAaBP1WW0FMED8Hivyz+4nQNjhlYsqxCJAxnN7zYsNJEDcpKnPe3MlQP/+FDirDy1AasWE9x88KUDGiNGowfMqQLnNiMRh7iNAFhx75r1FJUC+pqjHUm8nQF0LTqHwaChATBndOCH7JUBt2z9sPQwnQOjUr9hiJDBA7ALSW2viMkDjxdC/FZAlQP6buvshsyJA7rkhiN/2I0BLBS3w4hkqQIcbzdEPZSJA1nkKTpIQM0Avhf8G9D0pQO5ST8ZvFyhA9AwcLjGXJEDsLOC2MS8pQKNV0U2QnxxA8/EBjbmKI0ASxcRPwhkyQDkEzEVpZitAuniba3tVKkCRebGDtiklQLnvGvYGeipAHefYQKuqLkBszKUqU8knQEBXLLzMjSdASj2IWKfPJUAR+9ZgAGEsQDm6L3TJBihAggnXcByMK0BZ8icOgpsrQFAKUXAvHSFAPJeg482IJEBw8kNVqdgjQN0EpWivzyNAkwSjHzOkMECIo0nh3SclQAR5L3gKdCVA7TWtZdDGREA=",
           "dtype": "f8"
          },
          "coloraxis": "coloraxis",
          "size": {
           "bdata": "LR9NABMzCwBP524AS0YuACHMVgJWqlgADOg2ADBZDwBPQQoAsZtOAb4jpQADDxYAsOMcAK2swQBo8GcAIcQwAOHSLAAF1EQA4YJGAHgEFQByKF4AC7JqAAtgmQA0L1cADgktAHUeXgCw3BAAZv8dAIjtLwA6LRUARmeNANBEIAA/Oi8BFIGhAGHkCwDOv7MAfPY8AHqtQACWKMYAy7YQAGaKTwB6uA0AYplqAJdGxAFz1DIAhtgJAFsahAA4HnYAjjobALfnWQCx2AgAZaoxAA==",
           "dtype": "i4"
          },
          "sizemode": "area",
          "sizeref": 98106.9625,
          "symbol": "circle"
         },
         "mode": "markers",
         "name": "",
         "orientation": "v",
         "showlegend": false,
         "type": "scatter",
         "x": {
          "bdata": "S/IAAPhcAQBILAEAleUAAE54AQA2aQEAQG4BAKdDAQAvnwEAHxgBAKgjAQANgAEAjCMBACY/AQCjEQEAux0BAL8bAQDR8wAAd+oAAF0YAQAUjQEA3YsBAO0VAQAEVgEAg9YAADgNAQAiEQEA6SQBACknAQCMdQEAuooBAK3yAABiSgEAEBEBAK0oAQAwEAEAc/gAACo6AQAxKQEAZFEBAAIFAQDlGgEAGQYBAAQqAQBmZgEAyDABAF5jAQDocgEAPeIAAJYnAQA/JAEACGIAAA==",
          "dtype": "i4"
         },
         "xaxis": "x",
         "y": {
          "bdata": "sVBrmnec3j/Q1VbsL7vbP9Xnaiv2l90/FvvL7snD3j9miGNd3EbfPwyTqYJRSd0/veMUHcnl3z/4U+Olm8TcPy7/If32deA/RiV1ApoI3z+gibDh6ZXeP/hT46WbxNw/WYY41sVt3D9BguLHmLvePyGwcmiR7dw/Lv8h/fZ13D/0/dR46SbdP1R0JJf/kN4/FR3J5T+k3z8mUwWjkjrdP8l2vp8aL90/vJaQD3o23z9UUiegibDdP83MzMzMzNw/YOXQItv53j9LWYY41sXdP3/ZPXlYqN0/uK8D54wo3T9SJ6CJsOHdP+QUHcnlP9w/uB6F61G43j/LEMe6uI3ePz/G3LWEfOA/EFg5tMh23j/jNhrAWyDdPyegibDh6d0/7FG4HoXr3T+J0t7gC5PdP3BfB84ZUd4/zhlR2ht83T8HX5hMFYzeP8/3U+Olm9w/O99PjZdu3j/l0CLb+X7eP+XyH9JvX9s/qRPQRNjw3D9YyjLEsS7eP23n+6nx0t0/yJi7lpAP3j84+MJkqmDcP8X+snvysNw/Rrbz/dR44T8=",
          "dtype": "f8"
         },
         "yaxis": "y"
        }
       ],
       "layout": {
        "coloraxis": {
         "colorbar": {
          "title": {
           "text": "Poverty Rate (%)"
          }
         },
         "colorscale": [
          [
           0,
           "rgb(0,104,55)"
          ],
          [
           0.1,
           "rgb(26,152,80)"
          ],
          [
           0.2,
           "rgb(102,189,99)"
          ],
          [
           0.3,
           "rgb(166,217,106)"
          ],
          [
           0.4,
           "rgb(217,239,139)"
          ],
          [
           0.5,
           "rgb(255,255,191)"
          ],
          [
           0.6,
           "rgb(254,224,139)"
          ],
          [
           0.7,
           "rgb(253,174,97)"
          ],
          [
           0.8,
           "rgb(244,109,67)"
          ],
          [
           0.9,
           "rgb(215,48,39)"
          ],
          [
           1,
           "rgb(165,0,38)"
          ]
         ]
        },
        "height": 600,
        "legend": {
         "itemsizing": "constant",
         "tracegroupgap": 0
        },
        "template": {
         "data": {
          "bar": [
           {
            "error_x": {
             "color": "#2a3f5f"
            },
            "error_y": {
             "color": "#2a3f5f"
            },
            "marker": {
             "line": {
              "color": "#E5ECF6",
              "width": 0.5
             },
             "pattern": {
              "fillmode": "overlay",
              "size": 10,
              "solidity": 0.2
             }
            },
            "type": "bar"
           }
          ],
          "barpolar": [
           {
            "marker": {
             "line": {
              "color": "#E5ECF6",
              "width": 0.5
             },
             "pattern": {
              "fillmode": "overlay",
              "size": 10,
              "solidity": 0.2
             }
            },
            "type": "barpolar"
           }
          ],
          "carpet": [
           {
            "aaxis": {
             "endlinecolor": "#2a3f5f",
             "gridcolor": "white",
             "linecolor": "white",
             "minorgridcolor": "white",
             "startlinecolor": "#2a3f5f"
            },
            "baxis": {
             "endlinecolor": "#2a3f5f",
             "gridcolor": "white",
             "linecolor": "white",
             "minorgridcolor": "white",
             "startlinecolor": "#2a3f5f"
            },
            "type": "carpet"
           }
          ],
          "choropleth": [
           {
            "colorbar": {
             "outlinewidth": 0,
             "ticks": ""
            },
            "type": "choropleth"
           }
          ],
          "contour": [
           {
            "colorbar": {
             "outlinewidth": 0,
             "ticks": ""
            },
            "colorscale": [
             [
              0,
              "#0d0887"
             ],
             [
              0.1111111111111111,
              "#46039f"
             ],
             [
              0.2222222222222222,
              "#7201a8"
             ],
             [
              0.3333333333333333,
              "#9c179e"
             ],
             [
              0.4444444444444444,
              "#bd3786"
             ],
             [
              0.5555555555555556,
              "#d8576b"
             ],
             [
              0.6666666666666666,
              "#ed7953"
             ],
             [
              0.7777777777777778,
              "#fb9f3a"
             ],
             [
              0.8888888888888888,
              "#fdca26"
             ],
             [
              1,
              "#f0f921"
             ]
            ],
            "type": "contour"
           }
          ],
          "contourcarpet": [
           {
            "colorbar": {
             "outlinewidth": 0,
             "ticks": ""
            },
            "type": "contourcarpet"
           }
          ],
          "heatmap": [
           {
            "colorbar": {
             "outlinewidth": 0,
             "ticks": ""
            },
            "colorscale": [
             [
              0,
              "#0d0887"
             ],
             [
              0.1111111111111111,
              "#46039f"
             ],
             [
              0.2222222222222222,
              "#7201a8"
             ],
             [
              0.3333333333333333,
              "#9c179e"
             ],
             [
              0.4444444444444444,
              "#bd3786"
             ],
             [
              0.5555555555555556,
              "#d8576b"
             ],
             [
              0.6666666666666666,
              "#ed7953"
             ],
             [
              0.7777777777777778,
              "#fb9f3a"
             ],
             [
              0.8888888888888888,
              "#fdca26"
             ],
             [
              1,
              "#f0f921"
             ]
            ],
            "type": "heatmap"
           }
          ],
          "histogram": [
           {
            "marker": {
             "pattern": {
              "fillmode": "overlay",
              "size": 10,
              "solidity": 0.2
             }
            },
            "type": "histogram"
           }
          ],
          "histogram2d": [
           {
            "colorbar": {
             "outlinewidth": 0,
             "ticks": ""
            },
            "colorscale": [
             [
              0,
              "#0d0887"
             ],
             [
              0.1111111111111111,
              "#46039f"
             ],
             [
              0.2222222222222222,
              "#7201a8"
             ],
             [
              0.3333333333333333,
              "#9c179e"
             ],
             [
              0.4444444444444444,
              "#bd3786"
             ],
             [
              0.5555555555555556,
              "#d8576b"
             ],
             [
              0.6666666666666666,
              "#ed7953"
             ],
             [
              0.7777777777777778,
              "#fb9f3a"
             ],
             [
              0.8888888888888888,
              "#fdca26"
             ],
             [
              1,
              "#f0f921"
             ]
            ],
            "type": "histogram2d"
           }
          ],
          "histogram2dcontour": [
           {
            "colorbar": {
             "outlinewidth": 0,
             "ticks": ""
            },
            "colorscale": [
             [
              0,
              "#0d0887"
             ],
             [
              0.1111111111111111,
              "#46039f"
             ],
             [
              0.2222222222222222,
              "#7201a8"
             ],
             [
              0.3333333333333333,
              "#9c179e"
             ],
             [
              0.4444444444444444,
              "#bd3786"
             ],
             [
              0.5555555555555556,
              "#d8576b"
             ],
             [
              0.6666666666666666,
              "#ed7953"
             ],
             [
              0.7777777777777778,
              "#fb9f3a"
             ],
             [
              0.8888888888888888,
              "#fdca26"
             ],
             [
              1,
              "#f0f921"
             ]
            ],
            "type": "histogram2dcontour"
           }
          ],
          "mesh3d": [
           {
            "colorbar": {
             "outlinewidth": 0,
             "ticks": ""
            },
            "type": "mesh3d"
           }
          ],
          "parcoords": [
           {
            "line": {
             "colorbar": {
              "outlinewidth": 0,
              "ticks": ""
             }
            },
            "type": "parcoords"
           }
          ],
          "pie": [
           {
            "automargin": true,
            "type": "pie"
           }
          ],
          "scatter": [
           {
            "fillpattern": {
             "fillmode": "overlay",
             "size": 10,
             "solidity": 0.2
            },
            "type": "scatter"
           }
          ],
          "scatter3d": [
           {
            "line": {
             "colorbar": {
              "outlinewidth": 0,
              "ticks": ""
             }
            },
            "marker": {
             "colorbar": {
              "outlinewidth": 0,
              "ticks": ""
             }
            },
            "type": "scatter3d"
           }
          ],
          "scattercarpet": [
           {
            "marker": {
             "colorbar": {
              "outlinewidth": 0,
              "ticks": ""
             }
            },
            "type": "scattercarpet"
           }
          ],
          "scattergeo": [
           {
            "marker": {
             "colorbar": {
              "outlinewidth": 0,
              "ticks": ""
             }
            },
            "type": "scattergeo"
           }
          ],
          "scattergl": [
           {
            "marker": {
             "colorbar": {
              "outlinewidth": 0,
              "ticks": ""
             }
            },
            "type": "scattergl"
           }
          ],
          "scattermap": [
           {
            "marker": {
             "colorbar": {
              "outlinewidth": 0,
              "ticks": ""
             }
            },
            "type": "scattermap"
           }
          ],
          "scattermapbox": [
           {
            "marker": {
             "colorbar": {
              "outlinewidth": 0,
              "ticks": ""
             }
            },
            "type": "scattermapbox"
           }
          ],
          "scatterpolar": [
           {
            "marker": {
             "colorbar": {
              "outlinewidth": 0,
              "ticks": ""
             }
            },
            "type": "scatterpolar"
           }
          ],
          "scatterpolargl": [
           {
            "marker": {
             "colorbar": {
              "outlinewidth": 0,
              "ticks": ""
             }
            },
            "type": "scatterpolargl"
           }
          ],
          "scatterternary": [
           {
            "marker": {
             "colorbar": {
              "outlinewidth": 0,
              "ticks": ""
             }
            },
            "type": "scatterternary"
           }
          ],
          "surface": [
           {
            "colorbar": {
             "outlinewidth": 0,
             "ticks": ""
            },
            "colorscale": [
             [
              0,
              "#0d0887"
             ],
             [
              0.1111111111111111,
              "#46039f"
             ],
             [
              0.2222222222222222,
              "#7201a8"
             ],
             [
              0.3333333333333333,
              "#9c179e"
             ],
             [
              0.4444444444444444,
              "#bd3786"
             ],
             [
              0.5555555555555556,
              "#d8576b"
             ],
             [
              0.6666666666666666,
              "#ed7953"
             ],
             [
              0.7777777777777778,
              "#fb9f3a"
             ],
             [
              0.8888888888888888,
              "#fdca26"
             ],
             [
              1,
              "#f0f921"
             ]
            ],
            "type": "surface"
           }
          ],
          "table": [
           {
            "cells": {
             "fill": {
              "color": "#EBF0F8"
             },
             "line": {
              "color": "white"
             }
            },
            "header": {
             "fill": {
              "color": "#C8D4E3"
             },
             "line": {
              "color": "white"
             }
            },
            "type": "table"
           }
          ]
         },
         "layout": {
          "annotationdefaults": {
           "arrowcolor": "#2a3f5f",
           "arrowhead": 0,
           "arrowwidth": 1
          },
          "autotypenumbers": "strict",
          "coloraxis": {
           "colorbar": {
            "outlinewidth": 0,
            "ticks": ""
           }
          },
          "colorscale": {
           "diverging": [
            [
             0,
             "#8e0152"
            ],
            [
             0.1,
             "#c51b7d"
            ],
            [
             0.2,
             "#de77ae"
            ],
            [
             0.3,
             "#f1b6da"
            ],
            [
             0.4,
             "#fde0ef"
            ],
            [
             0.5,
             "#f7f7f7"
            ],
            [
             0.6,
             "#e6f5d0"
            ],
            [
             0.7,
             "#b8e186"
            ],
            [
             0.8,
             "#7fbc41"
            ],
            [
             0.9,
             "#4d9221"
            ],
            [
             1,
             "#276419"
            ]
           ],
           "sequential": [
            [
             0,
             "#0d0887"
            ],
            [
             0.1111111111111111,
             "#46039f"
            ],
            [
             0.2222222222222222,
             "#7201a8"
            ],
            [
             0.3333333333333333,
             "#9c179e"
            ],
            [
             0.4444444444444444,
             "#bd3786"
            ],
            [
             0.5555555555555556,
             "#d8576b"
            ],
            [
             0.6666666666666666,
             "#ed7953"
            ],
            [
             0.7777777777777778,
             "#fb9f3a"
            ],
            [
             0.8888888888888888,
             "#fdca26"
            ],
            [
             1,
             "#f0f921"
            ]
           ],
           "sequentialminus": [
            [
             0,
             "#0d0887"
            ],
            [
             0.1111111111111111,
             "#46039f"
            ],
            [
             0.2222222222222222,
             "#7201a8"
            ],
            [
             0.3333333333333333,
             "#9c179e"
            ],
            [
             0.4444444444444444,
             "#bd3786"
            ],
            [
             0.5555555555555556,
             "#d8576b"
            ],
            [
             0.6666666666666666,
             "#ed7953"
            ],
            [
             0.7777777777777778,
             "#fb9f3a"
            ],
            [
             0.8888888888888888,
             "#fdca26"
            ],
            [
             1,
             "#f0f921"
            ]
           ]
          },
          "colorway": [
           "#636efa",
           "#EF553B",
           "#00cc96",
           "#ab63fa",
           "#FFA15A",
           "#19d3f3",
           "#FF6692",
           "#B6E880",
           "#FF97FF",
           "#FECB52"
          ],
          "font": {
           "color": "#2a3f5f"
          },
          "geo": {
           "bgcolor": "white",
           "lakecolor": "white",
           "landcolor": "#E5ECF6",
           "showlakes": true,
           "showland": true,
           "subunitcolor": "white"
          },
          "hoverlabel": {
           "align": "left"
          },
          "hovermode": "closest",
          "mapbox": {
           "style": "light"
          },
          "paper_bgcolor": "white",
          "plot_bgcolor": "#E5ECF6",
          "polar": {
           "angularaxis": {
            "gridcolor": "white",
            "linecolor": "white",
            "ticks": ""
           },
           "bgcolor": "#E5ECF6",
           "radialaxis": {
            "gridcolor": "white",
            "linecolor": "white",
            "ticks": ""
           }
          },
          "scene": {
           "xaxis": {
            "backgroundcolor": "#E5ECF6",
            "gridcolor": "white",
            "gridwidth": 2,
            "linecolor": "white",
            "showbackground": true,
            "ticks": "",
            "zerolinecolor": "white"
           },
           "yaxis": {
            "backgroundcolor": "#E5ECF6",
            "gridcolor": "white",
            "gridwidth": 2,
            "linecolor": "white",
            "showbackground": true,
            "ticks": "",
            "zerolinecolor": "white"
           },
           "zaxis": {
            "backgroundcolor": "#E5ECF6",
            "gridcolor": "white",
            "gridwidth": 2,
            "linecolor": "white",
            "showbackground": true,
            "ticks": "",
            "zerolinecolor": "white"
           }
          },
          "shapedefaults": {
           "line": {
            "color": "#2a3f5f"
           }
          },
          "ternary": {
           "aaxis": {
            "gridcolor": "white",
            "linecolor": "white",
            "ticks": ""
           },
           "baxis": {
            "gridcolor": "white",
            "linecolor": "white",
            "ticks": ""
           },
           "bgcolor": "#E5ECF6",
           "caxis": {
            "gridcolor": "white",
            "linecolor": "white",
            "ticks": ""
           }
          },
          "title": {
           "x": 0.05
          },
          "xaxis": {
           "automargin": true,
           "gridcolor": "white",
           "linecolor": "white",
           "ticks": "",
           "title": {
            "standoff": 15
           },
           "zerolinecolor": "white",
           "zerolinewidth": 2
          },
          "yaxis": {
           "automargin": true,
           "gridcolor": "white",
           "linecolor": "white",
           "ticks": "",
           "title": {
            "standoff": 15
           },
           "zerolinecolor": "white",
           "zerolinewidth": 2
          }
         }
        },
        "title": {
         "text": "Income Inequality (Gini Index) vs Median Income"
        },
        "width": 1200,
        "xaxis": {
         "anchor": "y",
         "domain": [
          0,
          1
         ],
         "title": {
          "text": "Median Household Income (USD)"
         }
        },
        "yaxis": {
         "anchor": "x",
         "domain": [
          0,
          1
         ],
         "title": {
          "text": "Gini Index (0-1)"
         }
        }
       }
      }
     },
     "metadata": {},
     "output_type": "display_data"
    }
   ],
   "source": [
    "# ============================================================================\n",
    "# VISUALIZATION 2: GINI INDEX vs MEDIAN INCOME SCATTER\n",
    "# ============================================================================\n",
    "\n",
    "if df_clean is not None and len(df_clean) > 0:\n",
    "    fig2 = px.scatter(\n",
    "        df_clean,\n",
    "        x='median_household_income',\n",
    "        y='gini_index',\n",
    "        size='total_population',\n",
    "        color='poverty_rate',\n",
    "        hover_name='NAME',\n",
    "        hover_data={\n",
    "            'median_household_income': ':$,.0f',\n",
    "            'gini_index': ':.3f',\n",
    "            'poverty_rate': ':.1f',\n",
    "            'total_population': ':,.0f'\n",
    "        },\n",
    "        color_continuous_scale='RdYlGn_r',\n",
    "        title='Income Inequality (Gini Index) vs Median Income',\n",
    "        labels={\n",
    "            'median_household_income': 'Median Household Income (USD)',\n",
    "            'gini_index': 'Gini Index (0-1)',\n",
    "            'poverty_rate': 'Poverty Rate (%)',\n",
    "            'total_population': 'Population'\n",
    "        }\n",
    "    )\n",
    "    \n",
    "    fig2.update_layout(\n",
    "        width=1200,\n",
    "        height=600\n",
    "    )\n",
    "    \n",
    "    fig2.show()\n",
    "else:\n",
    "    print(\"\\nWARNING: No data available for visualization.\")"
   ]
  },
  {
   "cell_type": "markdown",
   "id": "69f24414",
   "metadata": {},
   "source": [
    "## 6. Geographic Visualization - Choropleth Maps\n",
    "\n",
    "This section presents **4 different perspectives** on income and poverty data:\n",
    "\n",
    "1. **Median Income by State** - Shows absolute income levels across states\n",
    "2. **Gini Index (Inequality)** - Reveals which states have the most unequal income distributions\n",
    "3. **Poverty Rate** - Highlights states with highest percentage of population below poverty line\n",
    "4. **Interactive HTML Export** - Combined view with all metrics for detailed exploration\n",
    "\n",
    "**Note**: Current analysis is at **state level**. For county-level analysis, change `ANALYSIS_CONFIG['geographic_level']` to `'county'` in the configuration cell."
   ]
  },
  {
   "cell_type": "code",
   "execution_count": 9,
   "id": "b37cefdd",
   "metadata": {},
   "outputs": [
    {
     "name": "stdout",
     "output_type": "stream",
     "text": [
      "\n",
      "Creating choropleth map for 52 states...\n",
      "Sample state abbreviations: ['AL', 'AK', 'AZ', 'AR', 'CA']\n",
      "Income range: $25,096 - $106,287\n",
      "Map generated successfully\n"
     ]
    },
    {
     "data": {
      "application/vnd.plotly.v1+json": {
       "config": {
        "plotlyServerURL": "https://plot.ly"
       },
       "data": [
        {
         "coloraxis": "coloraxis",
         "customdata": [
          [
           62027,
           0.4783,
           15.632796709437574,
           "AL"
          ],
          [
           89336,
           0.4333,
           10.182460517117969,
           "AK"
          ],
          [
           76872,
           0.4624,
           12.75994811763248,
           "AZ"
          ],
          [
           58773,
           0.4807,
           16.021199819882355,
           "AR"
          ],
          [
           96334,
           0.4887,
           11.966430251849935,
           "CA"
          ],
          [
           92470,
           0.4576,
           9.38313709454171,
           "CO"
          ],
          [
           93760,
           0.4984,
           10.026457234687665,
           "CT"
          ],
          [
           82855,
           0.4495,
           10.725553979357237,
           "DE"
          ],
          [
           106287,
           0.5144,
           14.530603172839163,
           "DC"
          ],
          [
           71711,
           0.4849,
           12.617431387860695,
           "FL"
          ],
          [
           74664,
           0.4779,
           13.476086879327692,
           "GA"
          ],
          [
           98317,
           0.4495,
           9.965589658450755,
           "HI"
          ],
          [
           74636,
           0.4442,
           10.636214449432412,
           "ID"
          ],
          [
           81702,
           0.4802,
           11.717428435647317,
           "IL"
          ],
          [
           70051,
           0.452,
           12.204960861946967,
           "IN"
          ],
          [
           73147,
           0.4447,
           10.990487839688875,
           "IA"
          ],
          [
           72639,
           0.4555,
           11.523906119151173,
           "KS"
          ],
          [
           62417,
           0.4776,
           16.142133276870396,
           "KY"
          ],
          [
           60023,
           0.4944,
           18.884450663349455,
           "LA"
          ],
          [
           71773,
           0.4567,
           10.781415933833108,
           "ME"
          ],
          [
           101652,
           0.456,
           9.349868647126637,
           "MD"
          ],
          [
           101341,
           0.4877,
           9.98217416202257,
           "MA"
          ],
          [
           71149,
           0.4639,
           13.050559525962532,
           "MI"
          ],
          [
           87556,
           0.45,
           9.197386318481007,
           "MN"
          ],
          [
           54915,
           0.484,
           19.064732434804533,
           "MS"
          ],
          [
           68920,
           0.4652,
           12.621002405826031,
           "MO"
          ],
          [
           69922,
           0.4634,
           12.045774647887324,
           "MT"
          ],
          [
           74985,
           0.4556,
           10.29529708950438,
           "NE"
          ],
          [
           75561,
           0.4669,
           12.592176165452166,
           "NV"
          ],
          [
           95628,
           0.4414,
           7.155823913480535,
           "NH"
          ],
          [
           101050,
           0.48,
           9.770946890342179,
           "NJ"
          ],
          [
           62125,
           0.4774,
           18.100621209659103,
           "NM"
          ],
          [
           84578,
           0.5152,
           13.700021916536672,
           "NY"
          ],
          [
           69904,
           0.476,
           13.166957247475114,
           "NC"
          ],
          [
           75949,
           0.4551,
           10.581470599569714,
           "ND"
          ],
          [
           69680,
           0.4674,
           13.238334360874306,
           "OH"
          ],
          [
           63603,
           0.4675,
           15.333337809064284,
           "OK"
          ],
          [
           80426,
           0.4621,
           11.893212635745122,
           "OR"
          ],
          [
           76081,
           0.4737,
           11.776952629482935,
           "PA"
          ],
          [
           86372,
           0.4607,
           10.905573622351444,
           "RI"
          ],
          [
           66818,
           0.4773,
           14.18945601105,
           "SC"
          ],
          [
           72421,
           0.447,
           12.013255720926383,
           "SD"
          ],
          [
           67097,
           0.4755,
           13.7736544859406,
           "TN"
          ],
          [
           76292,
           0.4765,
           13.80372661817198,
           "TX"
          ],
          [
           91750,
           0.4277,
           8.557002553837407,
           "UT"
          ],
          [
           78024,
           0.4522,
           10.267195809701313,
           "VT"
          ],
          [
           90974,
           0.4716,
           9.923166908783259,
           "VA"
          ],
          [
           94952,
           0.466,
           9.905635137695237,
           "WA"
          ],
          [
           57917,
           0.4697,
           16.64140508394173,
           "WV"
          ],
          [
           75670,
           0.4434,
           10.577864685286627,
           "WI"
          ],
          [
           74815,
           0.4483,
           10.72664237575055,
           "WY"
          ],
          [
           25096,
           0.546,
           41.55323477704574,
           "PR"
          ]
         ],
         "geo": "geo",
         "hovertemplate": "<b>%{hovertext}</b><br><br>Median Income (USD)=%{z:$,.0f}<br>gini_index=%{customdata[1]:.3f}<br>poverty_rate=%{customdata[2]:.1f}<extra></extra>",
         "hovertext": [
          "Alabama",
          "Alaska",
          "Arizona",
          "Arkansas",
          "California",
          "Colorado",
          "Connecticut",
          "Delaware",
          "District of Columbia",
          "Florida",
          "Georgia",
          "Hawaii",
          "Idaho",
          "Illinois",
          "Indiana",
          "Iowa",
          "Kansas",
          "Kentucky",
          "Louisiana",
          "Maine",
          "Maryland",
          "Massachusetts",
          "Michigan",
          "Minnesota",
          "Mississippi",
          "Missouri",
          "Montana",
          "Nebraska",
          "Nevada",
          "New Hampshire",
          "New Jersey",
          "New Mexico",
          "New York",
          "North Carolina",
          "North Dakota",
          "Ohio",
          "Oklahoma",
          "Oregon",
          "Pennsylvania",
          "Rhode Island",
          "South Carolina",
          "South Dakota",
          "Tennessee",
          "Texas",
          "Utah",
          "Vermont",
          "Virginia",
          "Washington",
          "West Virginia",
          "Wisconsin",
          "Wyoming",
          "Puerto Rico"
         ],
         "locationmode": "USA-states",
         "locations": [
          "AL",
          "AK",
          "AZ",
          "AR",
          "CA",
          "CO",
          "CT",
          "DE",
          "DC",
          "FL",
          "GA",
          "HI",
          "ID",
          "IL",
          "IN",
          "IA",
          "KS",
          "KY",
          "LA",
          "ME",
          "MD",
          "MA",
          "MI",
          "MN",
          "MS",
          "MO",
          "MT",
          "NE",
          "NV",
          "NH",
          "NJ",
          "NM",
          "NY",
          "NC",
          "ND",
          "OH",
          "OK",
          "OR",
          "PA",
          "RI",
          "SC",
          "SD",
          "TN",
          "TX",
          "UT",
          "VT",
          "VA",
          "WA",
          "WV",
          "WI",
          "WY",
          "PR"
         ],
         "name": "",
         "type": "choropleth",
         "z": {
          "bdata": "S/IAAPhcAQBILAEAleUAAE54AQA2aQEAQG4BAKdDAQAvnwEAHxgBAKgjAQANgAEAjCMBACY/AQCjEQEAux0BAL8bAQDR8wAAd+oAAF0YAQAUjQEA3YsBAO0VAQAEVgEAg9YAADgNAQAiEQEA6SQBACknAQCMdQEAuooBAK3yAABiSgEAEBEBAK0oAQAwEAEAc/gAACo6AQAxKQEAZFEBAAIFAQDlGgEAGQYBAAQqAQBmZgEAyDABAF5jAQDocgEAPeIAAJYnAQA/JAEACGIAAA==",
          "dtype": "i4"
         }
        }
       ],
       "layout": {
        "coloraxis": {
         "colorbar": {
          "title": {
           "text": "Median Income (USD)"
          }
         },
         "colorscale": [
          [
           0,
           "#440154"
          ],
          [
           0.1111111111111111,
           "#482878"
          ],
          [
           0.2222222222222222,
           "#3e4989"
          ],
          [
           0.3333333333333333,
           "#31688e"
          ],
          [
           0.4444444444444444,
           "#26828e"
          ],
          [
           0.5555555555555556,
           "#1f9e89"
          ],
          [
           0.6666666666666666,
           "#35b779"
          ],
          [
           0.7777777777777778,
           "#6ece58"
          ],
          [
           0.8888888888888888,
           "#b5de2b"
          ],
          [
           1,
           "#fde725"
          ]
         ]
        },
        "geo": {
         "center": {},
         "domain": {
          "x": [
           0,
           1
          ],
          "y": [
           0,
           1
          ]
         },
         "lakecolor": "rgb(255, 255, 255)",
         "scope": "usa",
         "showlakes": true
        },
        "height": 700,
        "legend": {
         "tracegroupgap": 0
        },
        "template": {
         "data": {
          "bar": [
           {
            "error_x": {
             "color": "#2a3f5f"
            },
            "error_y": {
             "color": "#2a3f5f"
            },
            "marker": {
             "line": {
              "color": "#E5ECF6",
              "width": 0.5
             },
             "pattern": {
              "fillmode": "overlay",
              "size": 10,
              "solidity": 0.2
             }
            },
            "type": "bar"
           }
          ],
          "barpolar": [
           {
            "marker": {
             "line": {
              "color": "#E5ECF6",
              "width": 0.5
             },
             "pattern": {
              "fillmode": "overlay",
              "size": 10,
              "solidity": 0.2
             }
            },
            "type": "barpolar"
           }
          ],
          "carpet": [
           {
            "aaxis": {
             "endlinecolor": "#2a3f5f",
             "gridcolor": "white",
             "linecolor": "white",
             "minorgridcolor": "white",
             "startlinecolor": "#2a3f5f"
            },
            "baxis": {
             "endlinecolor": "#2a3f5f",
             "gridcolor": "white",
             "linecolor": "white",
             "minorgridcolor": "white",
             "startlinecolor": "#2a3f5f"
            },
            "type": "carpet"
           }
          ],
          "choropleth": [
           {
            "colorbar": {
             "outlinewidth": 0,
             "ticks": ""
            },
            "type": "choropleth"
           }
          ],
          "contour": [
           {
            "colorbar": {
             "outlinewidth": 0,
             "ticks": ""
            },
            "colorscale": [
             [
              0,
              "#0d0887"
             ],
             [
              0.1111111111111111,
              "#46039f"
             ],
             [
              0.2222222222222222,
              "#7201a8"
             ],
             [
              0.3333333333333333,
              "#9c179e"
             ],
             [
              0.4444444444444444,
              "#bd3786"
             ],
             [
              0.5555555555555556,
              "#d8576b"
             ],
             [
              0.6666666666666666,
              "#ed7953"
             ],
             [
              0.7777777777777778,
              "#fb9f3a"
             ],
             [
              0.8888888888888888,
              "#fdca26"
             ],
             [
              1,
              "#f0f921"
             ]
            ],
            "type": "contour"
           }
          ],
          "contourcarpet": [
           {
            "colorbar": {
             "outlinewidth": 0,
             "ticks": ""
            },
            "type": "contourcarpet"
           }
          ],
          "heatmap": [
           {
            "colorbar": {
             "outlinewidth": 0,
             "ticks": ""
            },
            "colorscale": [
             [
              0,
              "#0d0887"
             ],
             [
              0.1111111111111111,
              "#46039f"
             ],
             [
              0.2222222222222222,
              "#7201a8"
             ],
             [
              0.3333333333333333,
              "#9c179e"
             ],
             [
              0.4444444444444444,
              "#bd3786"
             ],
             [
              0.5555555555555556,
              "#d8576b"
             ],
             [
              0.6666666666666666,
              "#ed7953"
             ],
             [
              0.7777777777777778,
              "#fb9f3a"
             ],
             [
              0.8888888888888888,
              "#fdca26"
             ],
             [
              1,
              "#f0f921"
             ]
            ],
            "type": "heatmap"
           }
          ],
          "histogram": [
           {
            "marker": {
             "pattern": {
              "fillmode": "overlay",
              "size": 10,
              "solidity": 0.2
             }
            },
            "type": "histogram"
           }
          ],
          "histogram2d": [
           {
            "colorbar": {
             "outlinewidth": 0,
             "ticks": ""
            },
            "colorscale": [
             [
              0,
              "#0d0887"
             ],
             [
              0.1111111111111111,
              "#46039f"
             ],
             [
              0.2222222222222222,
              "#7201a8"
             ],
             [
              0.3333333333333333,
              "#9c179e"
             ],
             [
              0.4444444444444444,
              "#bd3786"
             ],
             [
              0.5555555555555556,
              "#d8576b"
             ],
             [
              0.6666666666666666,
              "#ed7953"
             ],
             [
              0.7777777777777778,
              "#fb9f3a"
             ],
             [
              0.8888888888888888,
              "#fdca26"
             ],
             [
              1,
              "#f0f921"
             ]
            ],
            "type": "histogram2d"
           }
          ],
          "histogram2dcontour": [
           {
            "colorbar": {
             "outlinewidth": 0,
             "ticks": ""
            },
            "colorscale": [
             [
              0,
              "#0d0887"
             ],
             [
              0.1111111111111111,
              "#46039f"
             ],
             [
              0.2222222222222222,
              "#7201a8"
             ],
             [
              0.3333333333333333,
              "#9c179e"
             ],
             [
              0.4444444444444444,
              "#bd3786"
             ],
             [
              0.5555555555555556,
              "#d8576b"
             ],
             [
              0.6666666666666666,
              "#ed7953"
             ],
             [
              0.7777777777777778,
              "#fb9f3a"
             ],
             [
              0.8888888888888888,
              "#fdca26"
             ],
             [
              1,
              "#f0f921"
             ]
            ],
            "type": "histogram2dcontour"
           }
          ],
          "mesh3d": [
           {
            "colorbar": {
             "outlinewidth": 0,
             "ticks": ""
            },
            "type": "mesh3d"
           }
          ],
          "parcoords": [
           {
            "line": {
             "colorbar": {
              "outlinewidth": 0,
              "ticks": ""
             }
            },
            "type": "parcoords"
           }
          ],
          "pie": [
           {
            "automargin": true,
            "type": "pie"
           }
          ],
          "scatter": [
           {
            "fillpattern": {
             "fillmode": "overlay",
             "size": 10,
             "solidity": 0.2
            },
            "type": "scatter"
           }
          ],
          "scatter3d": [
           {
            "line": {
             "colorbar": {
              "outlinewidth": 0,
              "ticks": ""
             }
            },
            "marker": {
             "colorbar": {
              "outlinewidth": 0,
              "ticks": ""
             }
            },
            "type": "scatter3d"
           }
          ],
          "scattercarpet": [
           {
            "marker": {
             "colorbar": {
              "outlinewidth": 0,
              "ticks": ""
             }
            },
            "type": "scattercarpet"
           }
          ],
          "scattergeo": [
           {
            "marker": {
             "colorbar": {
              "outlinewidth": 0,
              "ticks": ""
             }
            },
            "type": "scattergeo"
           }
          ],
          "scattergl": [
           {
            "marker": {
             "colorbar": {
              "outlinewidth": 0,
              "ticks": ""
             }
            },
            "type": "scattergl"
           }
          ],
          "scattermap": [
           {
            "marker": {
             "colorbar": {
              "outlinewidth": 0,
              "ticks": ""
             }
            },
            "type": "scattermap"
           }
          ],
          "scattermapbox": [
           {
            "marker": {
             "colorbar": {
              "outlinewidth": 0,
              "ticks": ""
             }
            },
            "type": "scattermapbox"
           }
          ],
          "scatterpolar": [
           {
            "marker": {
             "colorbar": {
              "outlinewidth": 0,
              "ticks": ""
             }
            },
            "type": "scatterpolar"
           }
          ],
          "scatterpolargl": [
           {
            "marker": {
             "colorbar": {
              "outlinewidth": 0,
              "ticks": ""
             }
            },
            "type": "scatterpolargl"
           }
          ],
          "scatterternary": [
           {
            "marker": {
             "colorbar": {
              "outlinewidth": 0,
              "ticks": ""
             }
            },
            "type": "scatterternary"
           }
          ],
          "surface": [
           {
            "colorbar": {
             "outlinewidth": 0,
             "ticks": ""
            },
            "colorscale": [
             [
              0,
              "#0d0887"
             ],
             [
              0.1111111111111111,
              "#46039f"
             ],
             [
              0.2222222222222222,
              "#7201a8"
             ],
             [
              0.3333333333333333,
              "#9c179e"
             ],
             [
              0.4444444444444444,
              "#bd3786"
             ],
             [
              0.5555555555555556,
              "#d8576b"
             ],
             [
              0.6666666666666666,
              "#ed7953"
             ],
             [
              0.7777777777777778,
              "#fb9f3a"
             ],
             [
              0.8888888888888888,
              "#fdca26"
             ],
             [
              1,
              "#f0f921"
             ]
            ],
            "type": "surface"
           }
          ],
          "table": [
           {
            "cells": {
             "fill": {
              "color": "#EBF0F8"
             },
             "line": {
              "color": "white"
             }
            },
            "header": {
             "fill": {
              "color": "#C8D4E3"
             },
             "line": {
              "color": "white"
             }
            },
            "type": "table"
           }
          ]
         },
         "layout": {
          "annotationdefaults": {
           "arrowcolor": "#2a3f5f",
           "arrowhead": 0,
           "arrowwidth": 1
          },
          "autotypenumbers": "strict",
          "coloraxis": {
           "colorbar": {
            "outlinewidth": 0,
            "ticks": ""
           }
          },
          "colorscale": {
           "diverging": [
            [
             0,
             "#8e0152"
            ],
            [
             0.1,
             "#c51b7d"
            ],
            [
             0.2,
             "#de77ae"
            ],
            [
             0.3,
             "#f1b6da"
            ],
            [
             0.4,
             "#fde0ef"
            ],
            [
             0.5,
             "#f7f7f7"
            ],
            [
             0.6,
             "#e6f5d0"
            ],
            [
             0.7,
             "#b8e186"
            ],
            [
             0.8,
             "#7fbc41"
            ],
            [
             0.9,
             "#4d9221"
            ],
            [
             1,
             "#276419"
            ]
           ],
           "sequential": [
            [
             0,
             "#0d0887"
            ],
            [
             0.1111111111111111,
             "#46039f"
            ],
            [
             0.2222222222222222,
             "#7201a8"
            ],
            [
             0.3333333333333333,
             "#9c179e"
            ],
            [
             0.4444444444444444,
             "#bd3786"
            ],
            [
             0.5555555555555556,
             "#d8576b"
            ],
            [
             0.6666666666666666,
             "#ed7953"
            ],
            [
             0.7777777777777778,
             "#fb9f3a"
            ],
            [
             0.8888888888888888,
             "#fdca26"
            ],
            [
             1,
             "#f0f921"
            ]
           ],
           "sequentialminus": [
            [
             0,
             "#0d0887"
            ],
            [
             0.1111111111111111,
             "#46039f"
            ],
            [
             0.2222222222222222,
             "#7201a8"
            ],
            [
             0.3333333333333333,
             "#9c179e"
            ],
            [
             0.4444444444444444,
             "#bd3786"
            ],
            [
             0.5555555555555556,
             "#d8576b"
            ],
            [
             0.6666666666666666,
             "#ed7953"
            ],
            [
             0.7777777777777778,
             "#fb9f3a"
            ],
            [
             0.8888888888888888,
             "#fdca26"
            ],
            [
             1,
             "#f0f921"
            ]
           ]
          },
          "colorway": [
           "#636efa",
           "#EF553B",
           "#00cc96",
           "#ab63fa",
           "#FFA15A",
           "#19d3f3",
           "#FF6692",
           "#B6E880",
           "#FF97FF",
           "#FECB52"
          ],
          "font": {
           "color": "#2a3f5f"
          },
          "geo": {
           "bgcolor": "white",
           "lakecolor": "white",
           "landcolor": "#E5ECF6",
           "showlakes": true,
           "showland": true,
           "subunitcolor": "white"
          },
          "hoverlabel": {
           "align": "left"
          },
          "hovermode": "closest",
          "mapbox": {
           "style": "light"
          },
          "paper_bgcolor": "white",
          "plot_bgcolor": "#E5ECF6",
          "polar": {
           "angularaxis": {
            "gridcolor": "white",
            "linecolor": "white",
            "ticks": ""
           },
           "bgcolor": "#E5ECF6",
           "radialaxis": {
            "gridcolor": "white",
            "linecolor": "white",
            "ticks": ""
           }
          },
          "scene": {
           "xaxis": {
            "backgroundcolor": "#E5ECF6",
            "gridcolor": "white",
            "gridwidth": 2,
            "linecolor": "white",
            "showbackground": true,
            "ticks": "",
            "zerolinecolor": "white"
           },
           "yaxis": {
            "backgroundcolor": "#E5ECF6",
            "gridcolor": "white",
            "gridwidth": 2,
            "linecolor": "white",
            "showbackground": true,
            "ticks": "",
            "zerolinecolor": "white"
           },
           "zaxis": {
            "backgroundcolor": "#E5ECF6",
            "gridcolor": "white",
            "gridwidth": 2,
            "linecolor": "white",
            "showbackground": true,
            "ticks": "",
            "zerolinecolor": "white"
           }
          },
          "shapedefaults": {
           "line": {
            "color": "#2a3f5f"
           }
          },
          "ternary": {
           "aaxis": {
            "gridcolor": "white",
            "linecolor": "white",
            "ticks": ""
           },
           "baxis": {
            "gridcolor": "white",
            "linecolor": "white",
            "ticks": ""
           },
           "bgcolor": "#E5ECF6",
           "caxis": {
            "gridcolor": "white",
            "linecolor": "white",
            "ticks": ""
           }
          },
          "title": {
           "x": 0.05
          },
          "xaxis": {
           "automargin": true,
           "gridcolor": "white",
           "linecolor": "white",
           "ticks": "",
           "title": {
            "standoff": 15
           },
           "zerolinecolor": "white",
           "zerolinewidth": 2
          },
          "yaxis": {
           "automargin": true,
           "gridcolor": "white",
           "linecolor": "white",
           "ticks": "",
           "title": {
            "standoff": 15
           },
           "zerolinecolor": "white",
           "zerolinewidth": 2
          }
         }
        },
        "title": {
         "text": "Median Household Income by State (2023 ACS 5-Year Estimates)"
        },
        "width": 1200
       }
      }
     },
     "metadata": {},
     "output_type": "display_data"
    }
   ],
   "source": [
    "# ============================================================================\n",
    "# VISUALIZATION 3: CHOROPLETH MAP - MEDIAN INCOME BY STATE\n",
    "# ============================================================================\n",
    "\n",
    "if df_clean is not None and len(df_clean) > 0 and ANALYSIS_CONFIG['geographic_level'] == 'state':\n",
    "    try:\n",
    "        # Create state abbreviation mapping (FIPS to abbreviation)\n",
    "        state_fips_to_abbr = {\n",
    "            '01': 'AL', '02': 'AK', '04': 'AZ', '05': 'AR', '06': 'CA',\n",
    "            '08': 'CO', '09': 'CT', '10': 'DE', '11': 'DC', '12': 'FL',\n",
    "            '13': 'GA', '15': 'HI', '16': 'ID', '17': 'IL', '18': 'IN',\n",
    "            '19': 'IA', '20': 'KS', '21': 'KY', '22': 'LA', '23': 'ME',\n",
    "            '24': 'MD', '25': 'MA', '26': 'MI', '27': 'MN', '28': 'MS',\n",
    "            '29': 'MO', '30': 'MT', '31': 'NE', '32': 'NV', '33': 'NH',\n",
    "            '34': 'NJ', '35': 'NM', '36': 'NY', '37': 'NC', '38': 'ND',\n",
    "            '39': 'OH', '40': 'OK', '41': 'OR', '42': 'PA', '44': 'RI',\n",
    "            '45': 'SC', '46': 'SD', '47': 'TN', '48': 'TX', '49': 'UT',\n",
    "            '50': 'VT', '51': 'VA', '53': 'WA', '54': 'WV', '55': 'WI',\n",
    "            '56': 'WY', '72': 'PR'\n",
    "        }\n",
    "        \n",
    "        # Ensure state FIPS column exists\n",
    "        if 'state' in df_clean.columns and 'state_fips' not in df_clean.columns:\n",
    "            df_clean['state_fips'] = df_clean['state'].astype(str).str.zfill(2)\n",
    "        \n",
    "        # Add state abbreviations\n",
    "        if 'state_fips' in df_clean.columns:\n",
    "            df_clean['state_abbr'] = df_clean['state_fips'].map(state_fips_to_abbr)\n",
    "        \n",
    "        # Create a copy for mapping\n",
    "        df_map = df_clean.copy()\n",
    "        \n",
    "        print(f\"\\nCreating choropleth map for {len(df_map)} states...\")\n",
    "        print(f\"Sample state abbreviations: {df_map['state_abbr'].head(5).tolist()}\")\n",
    "        print(f\"Income range: ${df_map['median_household_income'].min():,.0f} - ${df_map['median_household_income'].max():,.0f}\")\n",
    "        \n",
    "        # Use state abbreviations as locations\n",
    "        fig3 = px.choropleth(\n",
    "            df_map,\n",
    "            locations='state_abbr',\n",
    "            locationmode='USA-states',\n",
    "            color='median_household_income',\n",
    "            hover_name='NAME',\n",
    "            hover_data={\n",
    "                'median_household_income': ':$,.0f',\n",
    "                'gini_index': ':.3f',\n",
    "                'poverty_rate': ':.1f',\n",
    "                'state_abbr': False\n",
    "            },\n",
    "            color_continuous_scale='Viridis',\n",
    "            title='Median Household Income by State (2023 ACS 5-Year Estimates)',\n",
    "            labels={'median_household_income': 'Median Income (USD)'},\n",
    "            scope='usa'\n",
    "        )\n",
    "        \n",
    "        fig3.update_layout(\n",
    "            width=1200,\n",
    "            height=700,\n",
    "            geo=dict(\n",
    "                showlakes=True,\n",
    "                lakecolor='rgb(255, 255, 255)'\n",
    "            )\n",
    "        )\n",
    "        \n",
    "        print(\"Map generated successfully\")\n",
    "        fig3.show()\n",
    "        \n",
    "    except Exception as e:\n",
    "        print(f\"\\nCould not create choropleth map: {e}\")\n",
    "        print(f\"Error details: {type(e).__name__}\")\n",
    "        import traceback\n",
    "        print(traceback.format_exc())\n",
    "else:\n",
    "    print(\"\\nWARNING: Choropleth map only available for state-level analysis.\")"
   ]
  },
  {
   "cell_type": "code",
   "execution_count": 10,
   "id": "27057b7d",
   "metadata": {},
   "outputs": [
    {
     "name": "stdout",
     "output_type": "stream",
     "text": [
      "\n",
      "Creating Gini Index (Inequality) map...\n",
      "States included: 51\n",
      "Gini range: 0.428 - 0.515\n",
      "\n",
      "Inequality Distribution:\n",
      "  Highest inequality: New York - 0.515\n",
      "  Lowest inequality: Utah - 0.428\n",
      "  National median: 0.466\n",
      "\n",
      "Gini Index map generated successfully\n"
     ]
    },
    {
     "data": {
      "application/vnd.plotly.v1+json": {
       "config": {
        "plotlyServerURL": "https://plot.ly"
       },
       "data": [
        {
         "coloraxis": "coloraxis",
         "customdata": [
          [
           0.4783,
           62027,
           15.632796709437574,
           "AL"
          ],
          [
           0.4333,
           89336,
           10.182460517117969,
           "AK"
          ],
          [
           0.4624,
           76872,
           12.75994811763248,
           "AZ"
          ],
          [
           0.4807,
           58773,
           16.021199819882355,
           "AR"
          ],
          [
           0.4887,
           96334,
           11.966430251849935,
           "CA"
          ],
          [
           0.4576,
           92470,
           9.38313709454171,
           "CO"
          ],
          [
           0.4984,
           93760,
           10.026457234687665,
           "CT"
          ],
          [
           0.4495,
           82855,
           10.725553979357237,
           "DE"
          ],
          [
           0.5144,
           106287,
           14.530603172839163,
           "DC"
          ],
          [
           0.4849,
           71711,
           12.617431387860695,
           "FL"
          ],
          [
           0.4779,
           74664,
           13.476086879327692,
           "GA"
          ],
          [
           0.4495,
           98317,
           9.965589658450755,
           "HI"
          ],
          [
           0.4442,
           74636,
           10.636214449432412,
           "ID"
          ],
          [
           0.4802,
           81702,
           11.717428435647317,
           "IL"
          ],
          [
           0.452,
           70051,
           12.204960861946967,
           "IN"
          ],
          [
           0.4447,
           73147,
           10.990487839688875,
           "IA"
          ],
          [
           0.4555,
           72639,
           11.523906119151173,
           "KS"
          ],
          [
           0.4776,
           62417,
           16.142133276870396,
           "KY"
          ],
          [
           0.4944,
           60023,
           18.884450663349455,
           "LA"
          ],
          [
           0.4567,
           71773,
           10.781415933833108,
           "ME"
          ],
          [
           0.456,
           101652,
           9.349868647126637,
           "MD"
          ],
          [
           0.4877,
           101341,
           9.98217416202257,
           "MA"
          ],
          [
           0.4639,
           71149,
           13.050559525962532,
           "MI"
          ],
          [
           0.45,
           87556,
           9.197386318481007,
           "MN"
          ],
          [
           0.484,
           54915,
           19.064732434804533,
           "MS"
          ],
          [
           0.4652,
           68920,
           12.621002405826031,
           "MO"
          ],
          [
           0.4634,
           69922,
           12.045774647887324,
           "MT"
          ],
          [
           0.4556,
           74985,
           10.29529708950438,
           "NE"
          ],
          [
           0.4669,
           75561,
           12.592176165452166,
           "NV"
          ],
          [
           0.4414,
           95628,
           7.155823913480535,
           "NH"
          ],
          [
           0.48,
           101050,
           9.770946890342179,
           "NJ"
          ],
          [
           0.4774,
           62125,
           18.100621209659103,
           "NM"
          ],
          [
           0.5152,
           84578,
           13.700021916536672,
           "NY"
          ],
          [
           0.476,
           69904,
           13.166957247475114,
           "NC"
          ],
          [
           0.4551,
           75949,
           10.581470599569714,
           "ND"
          ],
          [
           0.4674,
           69680,
           13.238334360874306,
           "OH"
          ],
          [
           0.4675,
           63603,
           15.333337809064284,
           "OK"
          ],
          [
           0.4621,
           80426,
           11.893212635745122,
           "OR"
          ],
          [
           0.4737,
           76081,
           11.776952629482935,
           "PA"
          ],
          [
           0.4607,
           86372,
           10.905573622351444,
           "RI"
          ],
          [
           0.4773,
           66818,
           14.18945601105,
           "SC"
          ],
          [
           0.447,
           72421,
           12.013255720926383,
           "SD"
          ],
          [
           0.4755,
           67097,
           13.7736544859406,
           "TN"
          ],
          [
           0.4765,
           76292,
           13.80372661817198,
           "TX"
          ],
          [
           0.4277,
           91750,
           8.557002553837407,
           "UT"
          ],
          [
           0.4522,
           78024,
           10.267195809701313,
           "VT"
          ],
          [
           0.4716,
           90974,
           9.923166908783259,
           "VA"
          ],
          [
           0.466,
           94952,
           9.905635137695237,
           "WA"
          ],
          [
           0.4697,
           57917,
           16.64140508394173,
           "WV"
          ],
          [
           0.4434,
           75670,
           10.577864685286627,
           "WI"
          ],
          [
           0.4483,
           74815,
           10.72664237575055,
           "WY"
          ]
         ],
         "geo": "geo",
         "hovertemplate": "<b>%{hovertext}</b><br><br>Gini Index (0-1)=%{z:.3f}<br>median_household_income=%{customdata[1]:$,.0f}<br>poverty_rate=%{customdata[2]:.1f}<extra></extra>",
         "hovertext": [
          "Alabama",
          "Alaska",
          "Arizona",
          "Arkansas",
          "California",
          "Colorado",
          "Connecticut",
          "Delaware",
          "District of Columbia",
          "Florida",
          "Georgia",
          "Hawaii",
          "Idaho",
          "Illinois",
          "Indiana",
          "Iowa",
          "Kansas",
          "Kentucky",
          "Louisiana",
          "Maine",
          "Maryland",
          "Massachusetts",
          "Michigan",
          "Minnesota",
          "Mississippi",
          "Missouri",
          "Montana",
          "Nebraska",
          "Nevada",
          "New Hampshire",
          "New Jersey",
          "New Mexico",
          "New York",
          "North Carolina",
          "North Dakota",
          "Ohio",
          "Oklahoma",
          "Oregon",
          "Pennsylvania",
          "Rhode Island",
          "South Carolina",
          "South Dakota",
          "Tennessee",
          "Texas",
          "Utah",
          "Vermont",
          "Virginia",
          "Washington",
          "West Virginia",
          "Wisconsin",
          "Wyoming"
         ],
         "locationmode": "USA-states",
         "locations": [
          "AL",
          "AK",
          "AZ",
          "AR",
          "CA",
          "CO",
          "CT",
          "DE",
          "DC",
          "FL",
          "GA",
          "HI",
          "ID",
          "IL",
          "IN",
          "IA",
          "KS",
          "KY",
          "LA",
          "ME",
          "MD",
          "MA",
          "MI",
          "MN",
          "MS",
          "MO",
          "MT",
          "NE",
          "NV",
          "NH",
          "NJ",
          "NM",
          "NY",
          "NC",
          "ND",
          "OH",
          "OK",
          "OR",
          "PA",
          "RI",
          "SC",
          "SD",
          "TN",
          "TX",
          "UT",
          "VT",
          "VA",
          "WA",
          "WV",
          "WI",
          "WY"
         ],
         "name": "",
         "type": "choropleth",
         "z": {
          "bdata": "sVBrmnec3j/Q1VbsL7vbP9Xnaiv2l90/FvvL7snD3j9miGNd3EbfPwyTqYJRSd0/veMUHcnl3z/4U+Olm8TcPy7/If32deA/RiV1ApoI3z+gibDh6ZXeP/hT46WbxNw/WYY41sVt3D9BguLHmLvePyGwcmiR7dw/Lv8h/fZ13D/0/dR46SbdP1R0JJf/kN4/FR3J5T+k3z8mUwWjkjrdP8l2vp8aL90/vJaQD3o23z9UUiegibDdP83MzMzMzNw/YOXQItv53j9LWYY41sXdP3/ZPXlYqN0/uK8D54wo3T9SJ6CJsOHdP+QUHcnlP9w/uB6F61G43j/LEMe6uI3ePz/G3LWEfOA/EFg5tMh23j/jNhrAWyDdPyegibDh6d0/7FG4HoXr3T+J0t7gC5PdP3BfB84ZUd4/zhlR2ht83T8HX5hMFYzeP8/3U+Olm9w/O99PjZdu3j/l0CLb+X7eP+XyH9JvX9s/qRPQRNjw3D9YyjLEsS7eP23n+6nx0t0/yJi7lpAP3j84+MJkqmDcP8X+snvysNw/",
          "dtype": "f8"
         }
        }
       ],
       "layout": {
        "coloraxis": {
         "cmax": 0.55,
         "cmin": 0.35,
         "colorbar": {
          "title": {
           "text": "Gini Index (0-1)"
          }
         },
         "colorscale": [
          [
           0,
           "rgb(0,104,55)"
          ],
          [
           0.1,
           "rgb(26,152,80)"
          ],
          [
           0.2,
           "rgb(102,189,99)"
          ],
          [
           0.3,
           "rgb(166,217,106)"
          ],
          [
           0.4,
           "rgb(217,239,139)"
          ],
          [
           0.5,
           "rgb(255,255,191)"
          ],
          [
           0.6,
           "rgb(254,224,139)"
          ],
          [
           0.7,
           "rgb(253,174,97)"
          ],
          [
           0.8,
           "rgb(244,109,67)"
          ],
          [
           0.9,
           "rgb(215,48,39)"
          ],
          [
           1,
           "rgb(165,0,38)"
          ]
         ]
        },
        "geo": {
         "center": {},
         "domain": {
          "x": [
           0,
           1
          ],
          "y": [
           0,
           1
          ]
         },
         "lakecolor": "rgb(255, 255, 255)",
         "projection": {
          "type": "albers usa"
         },
         "scope": "usa",
         "showlakes": true
        },
        "height": 700,
        "legend": {
         "tracegroupgap": 0
        },
        "template": {
         "data": {
          "bar": [
           {
            "error_x": {
             "color": "#2a3f5f"
            },
            "error_y": {
             "color": "#2a3f5f"
            },
            "marker": {
             "line": {
              "color": "#E5ECF6",
              "width": 0.5
             },
             "pattern": {
              "fillmode": "overlay",
              "size": 10,
              "solidity": 0.2
             }
            },
            "type": "bar"
           }
          ],
          "barpolar": [
           {
            "marker": {
             "line": {
              "color": "#E5ECF6",
              "width": 0.5
             },
             "pattern": {
              "fillmode": "overlay",
              "size": 10,
              "solidity": 0.2
             }
            },
            "type": "barpolar"
           }
          ],
          "carpet": [
           {
            "aaxis": {
             "endlinecolor": "#2a3f5f",
             "gridcolor": "white",
             "linecolor": "white",
             "minorgridcolor": "white",
             "startlinecolor": "#2a3f5f"
            },
            "baxis": {
             "endlinecolor": "#2a3f5f",
             "gridcolor": "white",
             "linecolor": "white",
             "minorgridcolor": "white",
             "startlinecolor": "#2a3f5f"
            },
            "type": "carpet"
           }
          ],
          "choropleth": [
           {
            "colorbar": {
             "outlinewidth": 0,
             "ticks": ""
            },
            "type": "choropleth"
           }
          ],
          "contour": [
           {
            "colorbar": {
             "outlinewidth": 0,
             "ticks": ""
            },
            "colorscale": [
             [
              0,
              "#0d0887"
             ],
             [
              0.1111111111111111,
              "#46039f"
             ],
             [
              0.2222222222222222,
              "#7201a8"
             ],
             [
              0.3333333333333333,
              "#9c179e"
             ],
             [
              0.4444444444444444,
              "#bd3786"
             ],
             [
              0.5555555555555556,
              "#d8576b"
             ],
             [
              0.6666666666666666,
              "#ed7953"
             ],
             [
              0.7777777777777778,
              "#fb9f3a"
             ],
             [
              0.8888888888888888,
              "#fdca26"
             ],
             [
              1,
              "#f0f921"
             ]
            ],
            "type": "contour"
           }
          ],
          "contourcarpet": [
           {
            "colorbar": {
             "outlinewidth": 0,
             "ticks": ""
            },
            "type": "contourcarpet"
           }
          ],
          "heatmap": [
           {
            "colorbar": {
             "outlinewidth": 0,
             "ticks": ""
            },
            "colorscale": [
             [
              0,
              "#0d0887"
             ],
             [
              0.1111111111111111,
              "#46039f"
             ],
             [
              0.2222222222222222,
              "#7201a8"
             ],
             [
              0.3333333333333333,
              "#9c179e"
             ],
             [
              0.4444444444444444,
              "#bd3786"
             ],
             [
              0.5555555555555556,
              "#d8576b"
             ],
             [
              0.6666666666666666,
              "#ed7953"
             ],
             [
              0.7777777777777778,
              "#fb9f3a"
             ],
             [
              0.8888888888888888,
              "#fdca26"
             ],
             [
              1,
              "#f0f921"
             ]
            ],
            "type": "heatmap"
           }
          ],
          "histogram": [
           {
            "marker": {
             "pattern": {
              "fillmode": "overlay",
              "size": 10,
              "solidity": 0.2
             }
            },
            "type": "histogram"
           }
          ],
          "histogram2d": [
           {
            "colorbar": {
             "outlinewidth": 0,
             "ticks": ""
            },
            "colorscale": [
             [
              0,
              "#0d0887"
             ],
             [
              0.1111111111111111,
              "#46039f"
             ],
             [
              0.2222222222222222,
              "#7201a8"
             ],
             [
              0.3333333333333333,
              "#9c179e"
             ],
             [
              0.4444444444444444,
              "#bd3786"
             ],
             [
              0.5555555555555556,
              "#d8576b"
             ],
             [
              0.6666666666666666,
              "#ed7953"
             ],
             [
              0.7777777777777778,
              "#fb9f3a"
             ],
             [
              0.8888888888888888,
              "#fdca26"
             ],
             [
              1,
              "#f0f921"
             ]
            ],
            "type": "histogram2d"
           }
          ],
          "histogram2dcontour": [
           {
            "colorbar": {
             "outlinewidth": 0,
             "ticks": ""
            },
            "colorscale": [
             [
              0,
              "#0d0887"
             ],
             [
              0.1111111111111111,
              "#46039f"
             ],
             [
              0.2222222222222222,
              "#7201a8"
             ],
             [
              0.3333333333333333,
              "#9c179e"
             ],
             [
              0.4444444444444444,
              "#bd3786"
             ],
             [
              0.5555555555555556,
              "#d8576b"
             ],
             [
              0.6666666666666666,
              "#ed7953"
             ],
             [
              0.7777777777777778,
              "#fb9f3a"
             ],
             [
              0.8888888888888888,
              "#fdca26"
             ],
             [
              1,
              "#f0f921"
             ]
            ],
            "type": "histogram2dcontour"
           }
          ],
          "mesh3d": [
           {
            "colorbar": {
             "outlinewidth": 0,
             "ticks": ""
            },
            "type": "mesh3d"
           }
          ],
          "parcoords": [
           {
            "line": {
             "colorbar": {
              "outlinewidth": 0,
              "ticks": ""
             }
            },
            "type": "parcoords"
           }
          ],
          "pie": [
           {
            "automargin": true,
            "type": "pie"
           }
          ],
          "scatter": [
           {
            "fillpattern": {
             "fillmode": "overlay",
             "size": 10,
             "solidity": 0.2
            },
            "type": "scatter"
           }
          ],
          "scatter3d": [
           {
            "line": {
             "colorbar": {
              "outlinewidth": 0,
              "ticks": ""
             }
            },
            "marker": {
             "colorbar": {
              "outlinewidth": 0,
              "ticks": ""
             }
            },
            "type": "scatter3d"
           }
          ],
          "scattercarpet": [
           {
            "marker": {
             "colorbar": {
              "outlinewidth": 0,
              "ticks": ""
             }
            },
            "type": "scattercarpet"
           }
          ],
          "scattergeo": [
           {
            "marker": {
             "colorbar": {
              "outlinewidth": 0,
              "ticks": ""
             }
            },
            "type": "scattergeo"
           }
          ],
          "scattergl": [
           {
            "marker": {
             "colorbar": {
              "outlinewidth": 0,
              "ticks": ""
             }
            },
            "type": "scattergl"
           }
          ],
          "scattermap": [
           {
            "marker": {
             "colorbar": {
              "outlinewidth": 0,
              "ticks": ""
             }
            },
            "type": "scattermap"
           }
          ],
          "scattermapbox": [
           {
            "marker": {
             "colorbar": {
              "outlinewidth": 0,
              "ticks": ""
             }
            },
            "type": "scattermapbox"
           }
          ],
          "scatterpolar": [
           {
            "marker": {
             "colorbar": {
              "outlinewidth": 0,
              "ticks": ""
             }
            },
            "type": "scatterpolar"
           }
          ],
          "scatterpolargl": [
           {
            "marker": {
             "colorbar": {
              "outlinewidth": 0,
              "ticks": ""
             }
            },
            "type": "scatterpolargl"
           }
          ],
          "scatterternary": [
           {
            "marker": {
             "colorbar": {
              "outlinewidth": 0,
              "ticks": ""
             }
            },
            "type": "scatterternary"
           }
          ],
          "surface": [
           {
            "colorbar": {
             "outlinewidth": 0,
             "ticks": ""
            },
            "colorscale": [
             [
              0,
              "#0d0887"
             ],
             [
              0.1111111111111111,
              "#46039f"
             ],
             [
              0.2222222222222222,
              "#7201a8"
             ],
             [
              0.3333333333333333,
              "#9c179e"
             ],
             [
              0.4444444444444444,
              "#bd3786"
             ],
             [
              0.5555555555555556,
              "#d8576b"
             ],
             [
              0.6666666666666666,
              "#ed7953"
             ],
             [
              0.7777777777777778,
              "#fb9f3a"
             ],
             [
              0.8888888888888888,
              "#fdca26"
             ],
             [
              1,
              "#f0f921"
             ]
            ],
            "type": "surface"
           }
          ],
          "table": [
           {
            "cells": {
             "fill": {
              "color": "#EBF0F8"
             },
             "line": {
              "color": "white"
             }
            },
            "header": {
             "fill": {
              "color": "#C8D4E3"
             },
             "line": {
              "color": "white"
             }
            },
            "type": "table"
           }
          ]
         },
         "layout": {
          "annotationdefaults": {
           "arrowcolor": "#2a3f5f",
           "arrowhead": 0,
           "arrowwidth": 1
          },
          "autotypenumbers": "strict",
          "coloraxis": {
           "colorbar": {
            "outlinewidth": 0,
            "ticks": ""
           }
          },
          "colorscale": {
           "diverging": [
            [
             0,
             "#8e0152"
            ],
            [
             0.1,
             "#c51b7d"
            ],
            [
             0.2,
             "#de77ae"
            ],
            [
             0.3,
             "#f1b6da"
            ],
            [
             0.4,
             "#fde0ef"
            ],
            [
             0.5,
             "#f7f7f7"
            ],
            [
             0.6,
             "#e6f5d0"
            ],
            [
             0.7,
             "#b8e186"
            ],
            [
             0.8,
             "#7fbc41"
            ],
            [
             0.9,
             "#4d9221"
            ],
            [
             1,
             "#276419"
            ]
           ],
           "sequential": [
            [
             0,
             "#0d0887"
            ],
            [
             0.1111111111111111,
             "#46039f"
            ],
            [
             0.2222222222222222,
             "#7201a8"
            ],
            [
             0.3333333333333333,
             "#9c179e"
            ],
            [
             0.4444444444444444,
             "#bd3786"
            ],
            [
             0.5555555555555556,
             "#d8576b"
            ],
            [
             0.6666666666666666,
             "#ed7953"
            ],
            [
             0.7777777777777778,
             "#fb9f3a"
            ],
            [
             0.8888888888888888,
             "#fdca26"
            ],
            [
             1,
             "#f0f921"
            ]
           ],
           "sequentialminus": [
            [
             0,
             "#0d0887"
            ],
            [
             0.1111111111111111,
             "#46039f"
            ],
            [
             0.2222222222222222,
             "#7201a8"
            ],
            [
             0.3333333333333333,
             "#9c179e"
            ],
            [
             0.4444444444444444,
             "#bd3786"
            ],
            [
             0.5555555555555556,
             "#d8576b"
            ],
            [
             0.6666666666666666,
             "#ed7953"
            ],
            [
             0.7777777777777778,
             "#fb9f3a"
            ],
            [
             0.8888888888888888,
             "#fdca26"
            ],
            [
             1,
             "#f0f921"
            ]
           ]
          },
          "colorway": [
           "#636efa",
           "#EF553B",
           "#00cc96",
           "#ab63fa",
           "#FFA15A",
           "#19d3f3",
           "#FF6692",
           "#B6E880",
           "#FF97FF",
           "#FECB52"
          ],
          "font": {
           "color": "#2a3f5f"
          },
          "geo": {
           "bgcolor": "white",
           "lakecolor": "white",
           "landcolor": "#E5ECF6",
           "showlakes": true,
           "showland": true,
           "subunitcolor": "white"
          },
          "hoverlabel": {
           "align": "left"
          },
          "hovermode": "closest",
          "mapbox": {
           "style": "light"
          },
          "paper_bgcolor": "white",
          "plot_bgcolor": "#E5ECF6",
          "polar": {
           "angularaxis": {
            "gridcolor": "white",
            "linecolor": "white",
            "ticks": ""
           },
           "bgcolor": "#E5ECF6",
           "radialaxis": {
            "gridcolor": "white",
            "linecolor": "white",
            "ticks": ""
           }
          },
          "scene": {
           "xaxis": {
            "backgroundcolor": "#E5ECF6",
            "gridcolor": "white",
            "gridwidth": 2,
            "linecolor": "white",
            "showbackground": true,
            "ticks": "",
            "zerolinecolor": "white"
           },
           "yaxis": {
            "backgroundcolor": "#E5ECF6",
            "gridcolor": "white",
            "gridwidth": 2,
            "linecolor": "white",
            "showbackground": true,
            "ticks": "",
            "zerolinecolor": "white"
           },
           "zaxis": {
            "backgroundcolor": "#E5ECF6",
            "gridcolor": "white",
            "gridwidth": 2,
            "linecolor": "white",
            "showbackground": true,
            "ticks": "",
            "zerolinecolor": "white"
           }
          },
          "shapedefaults": {
           "line": {
            "color": "#2a3f5f"
           }
          },
          "ternary": {
           "aaxis": {
            "gridcolor": "white",
            "linecolor": "white",
            "ticks": ""
           },
           "baxis": {
            "gridcolor": "white",
            "linecolor": "white",
            "ticks": ""
           },
           "bgcolor": "#E5ECF6",
           "caxis": {
            "gridcolor": "white",
            "linecolor": "white",
            "ticks": ""
           }
          },
          "title": {
           "x": 0.05
          },
          "xaxis": {
           "automargin": true,
           "gridcolor": "white",
           "linecolor": "white",
           "ticks": "",
           "title": {
            "standoff": 15
           },
           "zerolinecolor": "white",
           "zerolinewidth": 2
          },
          "yaxis": {
           "automargin": true,
           "gridcolor": "white",
           "linecolor": "white",
           "ticks": "",
           "title": {
            "standoff": 15
           },
           "zerolinecolor": "white",
           "zerolinewidth": 2
          }
         }
        },
        "title": {
         "text": "Income Inequality by State - Gini Index (2023 ACS)"
        },
        "width": 1200
       }
      }
     },
     "metadata": {},
     "output_type": "display_data"
    }
   ],
   "source": [
    "# ============================================================================\n",
    "# VISUALIZATION 4: CHOROPLETH MAP - GINI INDEX (INEQUALITY)\n",
    "# ============================================================================\n",
    "\n",
    "if df_clean is not None and len(df_clean) > 0 and ANALYSIS_CONFIG['geographic_level'] == 'state':\n",
    "    try:\n",
    "        # Ensure state_abbr column exists (created in previous cell)\n",
    "        if 'state_abbr' not in df_clean.columns:\n",
    "            state_fips_to_abbr = {\n",
    "                '01': 'AL', '02': 'AK', '04': 'AZ', '05': 'AR', '06': 'CA',\n",
    "                '08': 'CO', '09': 'CT', '10': 'DE', '11': 'DC', '12': 'FL',\n",
    "                '13': 'GA', '15': 'HI', '16': 'ID', '17': 'IL', '18': 'IN',\n",
    "                '19': 'IA', '20': 'KS', '21': 'KY', '22': 'LA', '23': 'ME',\n",
    "                '24': 'MD', '25': 'MA', '26': 'MI', '27': 'MN', '28': 'MS',\n",
    "                '29': 'MO', '30': 'MT', '31': 'NE', '32': 'NV', '33': 'NH',\n",
    "                '34': 'NJ', '35': 'NM', '36': 'NY', '37': 'NC', '38': 'ND',\n",
    "                '39': 'OH', '40': 'OK', '41': 'OR', '42': 'PA', '44': 'RI',\n",
    "                '45': 'SC', '46': 'SD', '47': 'TN', '48': 'TX', '49': 'UT',\n",
    "                '50': 'VT', '51': 'VA', '53': 'WA', '54': 'WV', '55': 'WI',\n",
    "                '56': 'WY', '72': 'PR'\n",
    "            }\n",
    "            if 'state' in df_clean.columns and 'state_fips' not in df_clean.columns:\n",
    "                df_clean['state_fips'] = df_clean['state'].astype(str).str.zfill(2)\n",
    "            df_clean['state_abbr'] = df_clean['state_fips'].map(state_fips_to_abbr)\n",
    "        \n",
    "        # Filter to exclude Puerto Rico for better continental US visibility\n",
    "        df_map_gini = df_clean[df_clean['state_abbr'] != 'PR'].copy()\n",
    "        \n",
    "        print(f\"\\nCreating Gini Index (Inequality) map...\")\n",
    "        print(f\"States included: {len(df_map_gini)}\")\n",
    "        print(f\"Gini range: {df_map_gini['gini_index'].min():.3f} - {df_map_gini['gini_index'].max():.3f}\")\n",
    "        \n",
    "        fig4 = px.choropleth(\n",
    "            df_map_gini,\n",
    "            locations='state_abbr',\n",
    "            locationmode='USA-states',\n",
    "            color='gini_index',\n",
    "            hover_name='NAME',\n",
    "            hover_data={\n",
    "                'gini_index': ':.3f',\n",
    "                'median_household_income': ':$,.0f',\n",
    "                'poverty_rate': ':.1f',\n",
    "                'state_abbr': False\n",
    "            },\n",
    "            color_continuous_scale='RdYlGn_r',  # Red = high inequality, Green = low inequality\n",
    "            title='Income Inequality by State - Gini Index (2023 ACS)',\n",
    "            labels={'gini_index': 'Gini Index (0-1)'},\n",
    "            scope='usa',\n",
    "            range_color=(0.35, 0.55)  # Typical Gini range for US states\n",
    "        )\n",
    "        \n",
    "        fig4.update_layout(\n",
    "            width=1200,\n",
    "            height=700,\n",
    "            geo=dict(\n",
    "                showlakes=True,\n",
    "                lakecolor='rgb(255, 255, 255)',\n",
    "                projection_type='albers usa'\n",
    "            )\n",
    "        )\n",
    "        \n",
    "        # Show inequality statistics\n",
    "        print(f\"\\nInequality Distribution:\")\n",
    "        print(f\"  Highest inequality: {df_map_gini.loc[df_map_gini['gini_index'].idxmax(), 'NAME']} - {df_map_gini['gini_index'].max():.3f}\")\n",
    "        print(f\"  Lowest inequality: {df_map_gini.loc[df_map_gini['gini_index'].idxmin(), 'NAME']} - {df_map_gini['gini_index'].min():.3f}\")\n",
    "        print(f\"  National median: {df_map_gini['gini_index'].median():.3f}\")\n",
    "        \n",
    "        print(\"\\nGini Index map generated successfully\")\n",
    "        fig4.show()\n",
    "        \n",
    "    except Exception as e:\n",
    "        print(f\"\\nCould not create Gini Index map: {e}\")\n",
    "        print(f\"Error details: {type(e).__name__}\")\n",
    "        import traceback\n",
    "        print(traceback.format_exc())\n",
    "else:\n",
    "    print(\"\\nWARNING: Choropleth map only available for state-level analysis.\")"
   ]
  },
  {
   "cell_type": "code",
   "execution_count": 11,
   "id": "d8bc1829",
   "metadata": {},
   "outputs": [
    {
     "name": "stdout",
     "output_type": "stream",
     "text": [
      "\n",
      "Creating Poverty Rate map...\n",
      "States included: 51\n",
      "Poverty rate range: 7.2% - 19.1%\n",
      "\n",
      "Poverty Rate Distribution:\n",
      "  Highest poverty: Mississippi - 19.1%\n",
      "  Lowest poverty: New Hampshire - 7.2%\n",
      "  National median: 11.9%\n",
      "\n",
      "Poverty Rate map generated successfully\n"
     ]
    },
    {
     "data": {
      "application/vnd.plotly.v1+json": {
       "config": {
        "plotlyServerURL": "https://plot.ly"
       },
       "data": [
        {
         "coloraxis": "coloraxis",
         "customdata": [
          [
           15.632796709437574,
           62027,
           0.4783,
           "AL",
           5054253
          ],
          [
           10.182460517117969,
           89336,
           0.4333,
           "AK",
           733971
          ],
          [
           12.75994811763248,
           76872,
           0.4624,
           "AZ",
           7268175
          ],
          [
           16.021199819882355,
           58773,
           0.4807,
           "AR",
           3032651
          ],
          [
           11.966430251849935,
           96334,
           0.4887,
           "CA",
           39242785
          ],
          [
           9.38313709454171,
           92470,
           0.4576,
           "CO",
           5810774
          ],
          [
           10.026457234687665,
           93760,
           0.4984,
           "CT",
           3598348
          ],
          [
           10.725553979357237,
           82855,
           0.4495,
           "DE",
           1005872
          ],
          [
           14.530603172839163,
           106287,
           0.5144,
           "DC",
           672079
          ],
          [
           12.617431387860695,
           71711,
           0.4849,
           "FL",
           21928881
          ],
          [
           13.476086879327692,
           74664,
           0.4779,
           "GA",
           10822590
          ],
          [
           9.965589658450755,
           98317,
           0.4495,
           "HI",
           1445635
          ],
          [
           10.636214449432412,
           74636,
           0.4442,
           "ID",
           1893296
          ],
          [
           11.717428435647317,
           81702,
           0.4802,
           "IL",
           12692653
          ],
          [
           12.204960861946967,
           70051,
           0.452,
           "IN",
           6811752
          ],
          [
           10.990487839688875,
           73147,
           0.4447,
           "IA",
           3195937
          ],
          [
           11.523906119151173,
           72639,
           0.4555,
           "KS",
           2937569
          ],
          [
           16.142133276870396,
           62417,
           0.4776,
           "KY",
           4510725
          ],
          [
           18.884450663349455,
           60023,
           0.4944,
           "LA",
           4621025
          ],
          [
           10.781415933833108,
           71773,
           0.4567,
           "ME",
           1377400
          ],
          [
           9.349868647126637,
           101652,
           0.456,
           "MD",
           6170738
          ],
          [
           9.98217416202257,
           101341,
           0.4877,
           "MA",
           6992395
          ],
          [
           13.050559525962532,
           71149,
           0.4639,
           "MI",
           10051595
          ],
          [
           9.197386318481007,
           87556,
           0.45,
           "MN",
           5713716
          ],
          [
           19.064732434804533,
           54915,
           0.484,
           "MS",
           2951438
          ],
          [
           12.621002405826031,
           68920,
           0.4652,
           "MO",
           6168181
          ],
          [
           12.045774647887324,
           69922,
           0.4634,
           "MT",
           1105072
          ],
          [
           10.29529708950438,
           74985,
           0.4556,
           "NE",
           1965926
          ],
          [
           12.592176165452166,
           75561,
           0.4669,
           "NV",
           3141000
          ],
          [
           7.155823913480535,
           95628,
           0.4414,
           "NH",
           1387834
          ],
          [
           9.770946890342179,
           101050,
           0.48,
           "NJ",
           9267014
          ],
          [
           18.100621209659103,
           62125,
           0.4774,
           "NM",
           2114768
          ],
          [
           13.700021916536672,
           84578,
           0.5152,
           "NY",
           19872319
          ],
          [
           13.166957247475114,
           69904,
           0.476,
           "NC",
           10584340
          ],
          [
           10.581470599569714,
           75949,
           0.4551,
           "ND",
           779361
          ],
          [
           13.238334360874306,
           69680,
           0.4674,
           "OH",
           11780046
          ],
          [
           15.333337809064284,
           63603,
           0.4675,
           "OK",
           3995260
          ],
          [
           11.893212635745122,
           80426,
           0.4621,
           "OR",
           4238714
          ],
          [
           11.776952629482935,
           76081,
           0.4737,
           "PA",
           12986518
          ],
          [
           10.905573622351444,
           86372,
           0.4607,
           "RI",
           1095371
          ],
          [
           14.18945601105,
           66818,
           0.4773,
           "SC",
           5212774
          ],
          [
           12.013255720926383,
           72421,
           0.447,
           "SD",
           899194
          ],
          [
           13.7736544859406,
           67097,
           0.4755,
           "TN",
           6986082
          ],
          [
           13.80372661817198,
           76292,
           0.4765,
           "TX",
           29640343
          ],
          [
           8.557002553837407,
           91750,
           0.4277,
           "UT",
           3331187
          ],
          [
           10.267195809701313,
           78024,
           0.4522,
           "VT",
           645254
          ],
          [
           9.923166908783259,
           90974,
           0.4716,
           "VA",
           8657499
          ],
          [
           9.905635137695237,
           94952,
           0.466,
           "WA",
           7740984
          ],
          [
           16.64140508394173,
           57917,
           0.4697,
           "WV",
           1784462
          ],
          [
           10.577864685286627,
           75670,
           0.4434,
           "WI",
           5892023
          ],
          [
           10.72664237575055,
           74815,
           0.4483,
           "WY",
           579761
          ]
         ],
         "geo": "geo",
         "hovertemplate": "<b>%{hovertext}</b><br><br>Poverty Rate (%)=%{z:.1f}<br>median_household_income=%{customdata[1]:$,.0f}<br>gini_index=%{customdata[2]:.3f}<br>total_population=%{customdata[4]:,.0f}<extra></extra>",
         "hovertext": [
          "Alabama",
          "Alaska",
          "Arizona",
          "Arkansas",
          "California",
          "Colorado",
          "Connecticut",
          "Delaware",
          "District of Columbia",
          "Florida",
          "Georgia",
          "Hawaii",
          "Idaho",
          "Illinois",
          "Indiana",
          "Iowa",
          "Kansas",
          "Kentucky",
          "Louisiana",
          "Maine",
          "Maryland",
          "Massachusetts",
          "Michigan",
          "Minnesota",
          "Mississippi",
          "Missouri",
          "Montana",
          "Nebraska",
          "Nevada",
          "New Hampshire",
          "New Jersey",
          "New Mexico",
          "New York",
          "North Carolina",
          "North Dakota",
          "Ohio",
          "Oklahoma",
          "Oregon",
          "Pennsylvania",
          "Rhode Island",
          "South Carolina",
          "South Dakota",
          "Tennessee",
          "Texas",
          "Utah",
          "Vermont",
          "Virginia",
          "Washington",
          "West Virginia",
          "Wisconsin",
          "Wyoming"
         ],
         "locationmode": "USA-states",
         "locations": [
          "AL",
          "AK",
          "AZ",
          "AR",
          "CA",
          "CO",
          "CT",
          "DE",
          "DC",
          "FL",
          "GA",
          "HI",
          "ID",
          "IL",
          "IN",
          "IA",
          "KS",
          "KY",
          "LA",
          "ME",
          "MD",
          "MA",
          "MI",
          "MN",
          "MS",
          "MO",
          "MT",
          "NE",
          "NV",
          "NH",
          "NJ",
          "NM",
          "NY",
          "NC",
          "ND",
          "OH",
          "OK",
          "OR",
          "PA",
          "RI",
          "SC",
          "SD",
          "TN",
          "TX",
          "UT",
          "VT",
          "VA",
          "WA",
          "WV",
          "WI",
          "WY"
         ],
         "name": "",
         "type": "choropleth",
         "z": {
          "bdata": "Ahoo7v1DL0B1qgN3a10kQMrGb+sXhSlAaBP1WW0FMED8Hivyz+4nQNjhlYsqxCJAxnN7zYsNJEDcpKnPe3MlQP/+FDirDy1AasWE9x88KUDGiNGowfMqQLnNiMRh7iNAFhx75r1FJUC+pqjHUm8nQF0LTqHwaChATBndOCH7JUBt2z9sPQwnQOjUr9hiJDBA7ALSW2viMkDjxdC/FZAlQP6buvshsyJA7rkhiN/2I0BLBS3w4hkqQIcbzdEPZSJA1nkKTpIQM0Avhf8G9D0pQO5ST8ZvFyhA9AwcLjGXJEDsLOC2MS8pQKNV0U2QnxxA8/EBjbmKI0ASxcRPwhkyQDkEzEVpZitAuniba3tVKkCRebGDtiklQLnvGvYGeipAHefYQKuqLkBszKUqU8knQEBXLLzMjSdASj2IWKfPJUAR+9ZgAGEsQDm6L3TJBihAggnXcByMK0BZ8icOgpsrQFAKUXAvHSFAPJeg482IJEBw8kNVqdgjQN0EpWivzyNAkwSjHzOkMECIo0nh3SclQAR5L3gKdCVA",
          "dtype": "f8"
         }
        }
       ],
       "layout": {
        "coloraxis": {
         "cmax": 20,
         "cmin": 5,
         "colorbar": {
          "title": {
           "text": "Poverty Rate (%)"
          }
         },
         "colorscale": [
          [
           0,
           "rgb(0,104,55)"
          ],
          [
           0.1,
           "rgb(26,152,80)"
          ],
          [
           0.2,
           "rgb(102,189,99)"
          ],
          [
           0.3,
           "rgb(166,217,106)"
          ],
          [
           0.4,
           "rgb(217,239,139)"
          ],
          [
           0.5,
           "rgb(255,255,191)"
          ],
          [
           0.6,
           "rgb(254,224,139)"
          ],
          [
           0.7,
           "rgb(253,174,97)"
          ],
          [
           0.8,
           "rgb(244,109,67)"
          ],
          [
           0.9,
           "rgb(215,48,39)"
          ],
          [
           1,
           "rgb(165,0,38)"
          ]
         ]
        },
        "geo": {
         "center": {},
         "domain": {
          "x": [
           0,
           1
          ],
          "y": [
           0,
           1
          ]
         },
         "lakecolor": "rgb(255, 255, 255)",
         "projection": {
          "type": "albers usa"
         },
         "scope": "usa",
         "showlakes": true
        },
        "height": 700,
        "legend": {
         "tracegroupgap": 0
        },
        "template": {
         "data": {
          "bar": [
           {
            "error_x": {
             "color": "#2a3f5f"
            },
            "error_y": {
             "color": "#2a3f5f"
            },
            "marker": {
             "line": {
              "color": "#E5ECF6",
              "width": 0.5
             },
             "pattern": {
              "fillmode": "overlay",
              "size": 10,
              "solidity": 0.2
             }
            },
            "type": "bar"
           }
          ],
          "barpolar": [
           {
            "marker": {
             "line": {
              "color": "#E5ECF6",
              "width": 0.5
             },
             "pattern": {
              "fillmode": "overlay",
              "size": 10,
              "solidity": 0.2
             }
            },
            "type": "barpolar"
           }
          ],
          "carpet": [
           {
            "aaxis": {
             "endlinecolor": "#2a3f5f",
             "gridcolor": "white",
             "linecolor": "white",
             "minorgridcolor": "white",
             "startlinecolor": "#2a3f5f"
            },
            "baxis": {
             "endlinecolor": "#2a3f5f",
             "gridcolor": "white",
             "linecolor": "white",
             "minorgridcolor": "white",
             "startlinecolor": "#2a3f5f"
            },
            "type": "carpet"
           }
          ],
          "choropleth": [
           {
            "colorbar": {
             "outlinewidth": 0,
             "ticks": ""
            },
            "type": "choropleth"
           }
          ],
          "contour": [
           {
            "colorbar": {
             "outlinewidth": 0,
             "ticks": ""
            },
            "colorscale": [
             [
              0,
              "#0d0887"
             ],
             [
              0.1111111111111111,
              "#46039f"
             ],
             [
              0.2222222222222222,
              "#7201a8"
             ],
             [
              0.3333333333333333,
              "#9c179e"
             ],
             [
              0.4444444444444444,
              "#bd3786"
             ],
             [
              0.5555555555555556,
              "#d8576b"
             ],
             [
              0.6666666666666666,
              "#ed7953"
             ],
             [
              0.7777777777777778,
              "#fb9f3a"
             ],
             [
              0.8888888888888888,
              "#fdca26"
             ],
             [
              1,
              "#f0f921"
             ]
            ],
            "type": "contour"
           }
          ],
          "contourcarpet": [
           {
            "colorbar": {
             "outlinewidth": 0,
             "ticks": ""
            },
            "type": "contourcarpet"
           }
          ],
          "heatmap": [
           {
            "colorbar": {
             "outlinewidth": 0,
             "ticks": ""
            },
            "colorscale": [
             [
              0,
              "#0d0887"
             ],
             [
              0.1111111111111111,
              "#46039f"
             ],
             [
              0.2222222222222222,
              "#7201a8"
             ],
             [
              0.3333333333333333,
              "#9c179e"
             ],
             [
              0.4444444444444444,
              "#bd3786"
             ],
             [
              0.5555555555555556,
              "#d8576b"
             ],
             [
              0.6666666666666666,
              "#ed7953"
             ],
             [
              0.7777777777777778,
              "#fb9f3a"
             ],
             [
              0.8888888888888888,
              "#fdca26"
             ],
             [
              1,
              "#f0f921"
             ]
            ],
            "type": "heatmap"
           }
          ],
          "histogram": [
           {
            "marker": {
             "pattern": {
              "fillmode": "overlay",
              "size": 10,
              "solidity": 0.2
             }
            },
            "type": "histogram"
           }
          ],
          "histogram2d": [
           {
            "colorbar": {
             "outlinewidth": 0,
             "ticks": ""
            },
            "colorscale": [
             [
              0,
              "#0d0887"
             ],
             [
              0.1111111111111111,
              "#46039f"
             ],
             [
              0.2222222222222222,
              "#7201a8"
             ],
             [
              0.3333333333333333,
              "#9c179e"
             ],
             [
              0.4444444444444444,
              "#bd3786"
             ],
             [
              0.5555555555555556,
              "#d8576b"
             ],
             [
              0.6666666666666666,
              "#ed7953"
             ],
             [
              0.7777777777777778,
              "#fb9f3a"
             ],
             [
              0.8888888888888888,
              "#fdca26"
             ],
             [
              1,
              "#f0f921"
             ]
            ],
            "type": "histogram2d"
           }
          ],
          "histogram2dcontour": [
           {
            "colorbar": {
             "outlinewidth": 0,
             "ticks": ""
            },
            "colorscale": [
             [
              0,
              "#0d0887"
             ],
             [
              0.1111111111111111,
              "#46039f"
             ],
             [
              0.2222222222222222,
              "#7201a8"
             ],
             [
              0.3333333333333333,
              "#9c179e"
             ],
             [
              0.4444444444444444,
              "#bd3786"
             ],
             [
              0.5555555555555556,
              "#d8576b"
             ],
             [
              0.6666666666666666,
              "#ed7953"
             ],
             [
              0.7777777777777778,
              "#fb9f3a"
             ],
             [
              0.8888888888888888,
              "#fdca26"
             ],
             [
              1,
              "#f0f921"
             ]
            ],
            "type": "histogram2dcontour"
           }
          ],
          "mesh3d": [
           {
            "colorbar": {
             "outlinewidth": 0,
             "ticks": ""
            },
            "type": "mesh3d"
           }
          ],
          "parcoords": [
           {
            "line": {
             "colorbar": {
              "outlinewidth": 0,
              "ticks": ""
             }
            },
            "type": "parcoords"
           }
          ],
          "pie": [
           {
            "automargin": true,
            "type": "pie"
           }
          ],
          "scatter": [
           {
            "fillpattern": {
             "fillmode": "overlay",
             "size": 10,
             "solidity": 0.2
            },
            "type": "scatter"
           }
          ],
          "scatter3d": [
           {
            "line": {
             "colorbar": {
              "outlinewidth": 0,
              "ticks": ""
             }
            },
            "marker": {
             "colorbar": {
              "outlinewidth": 0,
              "ticks": ""
             }
            },
            "type": "scatter3d"
           }
          ],
          "scattercarpet": [
           {
            "marker": {
             "colorbar": {
              "outlinewidth": 0,
              "ticks": ""
             }
            },
            "type": "scattercarpet"
           }
          ],
          "scattergeo": [
           {
            "marker": {
             "colorbar": {
              "outlinewidth": 0,
              "ticks": ""
             }
            },
            "type": "scattergeo"
           }
          ],
          "scattergl": [
           {
            "marker": {
             "colorbar": {
              "outlinewidth": 0,
              "ticks": ""
             }
            },
            "type": "scattergl"
           }
          ],
          "scattermap": [
           {
            "marker": {
             "colorbar": {
              "outlinewidth": 0,
              "ticks": ""
             }
            },
            "type": "scattermap"
           }
          ],
          "scattermapbox": [
           {
            "marker": {
             "colorbar": {
              "outlinewidth": 0,
              "ticks": ""
             }
            },
            "type": "scattermapbox"
           }
          ],
          "scatterpolar": [
           {
            "marker": {
             "colorbar": {
              "outlinewidth": 0,
              "ticks": ""
             }
            },
            "type": "scatterpolar"
           }
          ],
          "scatterpolargl": [
           {
            "marker": {
             "colorbar": {
              "outlinewidth": 0,
              "ticks": ""
             }
            },
            "type": "scatterpolargl"
           }
          ],
          "scatterternary": [
           {
            "marker": {
             "colorbar": {
              "outlinewidth": 0,
              "ticks": ""
             }
            },
            "type": "scatterternary"
           }
          ],
          "surface": [
           {
            "colorbar": {
             "outlinewidth": 0,
             "ticks": ""
            },
            "colorscale": [
             [
              0,
              "#0d0887"
             ],
             [
              0.1111111111111111,
              "#46039f"
             ],
             [
              0.2222222222222222,
              "#7201a8"
             ],
             [
              0.3333333333333333,
              "#9c179e"
             ],
             [
              0.4444444444444444,
              "#bd3786"
             ],
             [
              0.5555555555555556,
              "#d8576b"
             ],
             [
              0.6666666666666666,
              "#ed7953"
             ],
             [
              0.7777777777777778,
              "#fb9f3a"
             ],
             [
              0.8888888888888888,
              "#fdca26"
             ],
             [
              1,
              "#f0f921"
             ]
            ],
            "type": "surface"
           }
          ],
          "table": [
           {
            "cells": {
             "fill": {
              "color": "#EBF0F8"
             },
             "line": {
              "color": "white"
             }
            },
            "header": {
             "fill": {
              "color": "#C8D4E3"
             },
             "line": {
              "color": "white"
             }
            },
            "type": "table"
           }
          ]
         },
         "layout": {
          "annotationdefaults": {
           "arrowcolor": "#2a3f5f",
           "arrowhead": 0,
           "arrowwidth": 1
          },
          "autotypenumbers": "strict",
          "coloraxis": {
           "colorbar": {
            "outlinewidth": 0,
            "ticks": ""
           }
          },
          "colorscale": {
           "diverging": [
            [
             0,
             "#8e0152"
            ],
            [
             0.1,
             "#c51b7d"
            ],
            [
             0.2,
             "#de77ae"
            ],
            [
             0.3,
             "#f1b6da"
            ],
            [
             0.4,
             "#fde0ef"
            ],
            [
             0.5,
             "#f7f7f7"
            ],
            [
             0.6,
             "#e6f5d0"
            ],
            [
             0.7,
             "#b8e186"
            ],
            [
             0.8,
             "#7fbc41"
            ],
            [
             0.9,
             "#4d9221"
            ],
            [
             1,
             "#276419"
            ]
           ],
           "sequential": [
            [
             0,
             "#0d0887"
            ],
            [
             0.1111111111111111,
             "#46039f"
            ],
            [
             0.2222222222222222,
             "#7201a8"
            ],
            [
             0.3333333333333333,
             "#9c179e"
            ],
            [
             0.4444444444444444,
             "#bd3786"
            ],
            [
             0.5555555555555556,
             "#d8576b"
            ],
            [
             0.6666666666666666,
             "#ed7953"
            ],
            [
             0.7777777777777778,
             "#fb9f3a"
            ],
            [
             0.8888888888888888,
             "#fdca26"
            ],
            [
             1,
             "#f0f921"
            ]
           ],
           "sequentialminus": [
            [
             0,
             "#0d0887"
            ],
            [
             0.1111111111111111,
             "#46039f"
            ],
            [
             0.2222222222222222,
             "#7201a8"
            ],
            [
             0.3333333333333333,
             "#9c179e"
            ],
            [
             0.4444444444444444,
             "#bd3786"
            ],
            [
             0.5555555555555556,
             "#d8576b"
            ],
            [
             0.6666666666666666,
             "#ed7953"
            ],
            [
             0.7777777777777778,
             "#fb9f3a"
            ],
            [
             0.8888888888888888,
             "#fdca26"
            ],
            [
             1,
             "#f0f921"
            ]
           ]
          },
          "colorway": [
           "#636efa",
           "#EF553B",
           "#00cc96",
           "#ab63fa",
           "#FFA15A",
           "#19d3f3",
           "#FF6692",
           "#B6E880",
           "#FF97FF",
           "#FECB52"
          ],
          "font": {
           "color": "#2a3f5f"
          },
          "geo": {
           "bgcolor": "white",
           "lakecolor": "white",
           "landcolor": "#E5ECF6",
           "showlakes": true,
           "showland": true,
           "subunitcolor": "white"
          },
          "hoverlabel": {
           "align": "left"
          },
          "hovermode": "closest",
          "mapbox": {
           "style": "light"
          },
          "paper_bgcolor": "white",
          "plot_bgcolor": "#E5ECF6",
          "polar": {
           "angularaxis": {
            "gridcolor": "white",
            "linecolor": "white",
            "ticks": ""
           },
           "bgcolor": "#E5ECF6",
           "radialaxis": {
            "gridcolor": "white",
            "linecolor": "white",
            "ticks": ""
           }
          },
          "scene": {
           "xaxis": {
            "backgroundcolor": "#E5ECF6",
            "gridcolor": "white",
            "gridwidth": 2,
            "linecolor": "white",
            "showbackground": true,
            "ticks": "",
            "zerolinecolor": "white"
           },
           "yaxis": {
            "backgroundcolor": "#E5ECF6",
            "gridcolor": "white",
            "gridwidth": 2,
            "linecolor": "white",
            "showbackground": true,
            "ticks": "",
            "zerolinecolor": "white"
           },
           "zaxis": {
            "backgroundcolor": "#E5ECF6",
            "gridcolor": "white",
            "gridwidth": 2,
            "linecolor": "white",
            "showbackground": true,
            "ticks": "",
            "zerolinecolor": "white"
           }
          },
          "shapedefaults": {
           "line": {
            "color": "#2a3f5f"
           }
          },
          "ternary": {
           "aaxis": {
            "gridcolor": "white",
            "linecolor": "white",
            "ticks": ""
           },
           "baxis": {
            "gridcolor": "white",
            "linecolor": "white",
            "ticks": ""
           },
           "bgcolor": "#E5ECF6",
           "caxis": {
            "gridcolor": "white",
            "linecolor": "white",
            "ticks": ""
           }
          },
          "title": {
           "x": 0.05
          },
          "xaxis": {
           "automargin": true,
           "gridcolor": "white",
           "linecolor": "white",
           "ticks": "",
           "title": {
            "standoff": 15
           },
           "zerolinecolor": "white",
           "zerolinewidth": 2
          },
          "yaxis": {
           "automargin": true,
           "gridcolor": "white",
           "linecolor": "white",
           "ticks": "",
           "title": {
            "standoff": 15
           },
           "zerolinecolor": "white",
           "zerolinewidth": 2
          }
         }
        },
        "title": {
         "text": "Poverty Rate by State (2023 ACS)"
        },
        "width": 1200
       }
      }
     },
     "metadata": {},
     "output_type": "display_data"
    }
   ],
   "source": [
    "# ============================================================================\n",
    "# VISUALIZATION 5: CHOROPLETH MAP - POVERTY RATE\n",
    "# ============================================================================\n",
    "\n",
    "if df_clean is not None and len(df_clean) > 0 and ANALYSIS_CONFIG['geographic_level'] == 'state':\n",
    "    try:\n",
    "        # Ensure state_abbr column exists\n",
    "        if 'state_abbr' not in df_clean.columns:\n",
    "            state_fips_to_abbr = {\n",
    "                '01': 'AL', '02': 'AK', '04': 'AZ', '05': 'AR', '06': 'CA',\n",
    "                '08': 'CO', '09': 'CT', '10': 'DE', '11': 'DC', '12': 'FL',\n",
    "                '13': 'GA', '15': 'HI', '16': 'ID', '17': 'IL', '18': 'IN',\n",
    "                '19': 'IA', '20': 'KS', '21': 'KY', '22': 'LA', '23': 'ME',\n",
    "                '24': 'MD', '25': 'MA', '26': 'MI', '27': 'MN', '28': 'MS',\n",
    "                '29': 'MO', '30': 'MT', '31': 'NE', '32': 'NV', '33': 'NH',\n",
    "                '34': 'NJ', '35': 'NM', '36': 'NY', '37': 'NC', '38': 'ND',\n",
    "                '39': 'OH', '40': 'OK', '41': 'OR', '42': 'PA', '44': 'RI',\n",
    "                '45': 'SC', '46': 'SD', '47': 'TN', '48': 'TX', '49': 'UT',\n",
    "                '50': 'VT', '51': 'VA', '53': 'WA', '54': 'WV', '55': 'WI',\n",
    "                '56': 'WY', '72': 'PR'\n",
    "            }\n",
    "            if 'state' in df_clean.columns and 'state_fips' not in df_clean.columns:\n",
    "                df_clean['state_fips'] = df_clean['state'].astype(str).str.zfill(2)\n",
    "            df_clean['state_abbr'] = df_clean['state_fips'].map(state_fips_to_abbr)\n",
    "        \n",
    "        # Filter continental US\n",
    "        df_map_poverty = df_clean[df_clean['state_abbr'] != 'PR'].copy()\n",
    "        \n",
    "        print(f\"\\nCreating Poverty Rate map...\")\n",
    "        print(f\"States included: {len(df_map_poverty)}\")\n",
    "        print(f\"Poverty rate range: {df_map_poverty['poverty_rate'].min():.1f}% - {df_map_poverty['poverty_rate'].max():.1f}%\")\n",
    "        \n",
    "        fig5 = px.choropleth(\n",
    "            df_map_poverty,\n",
    "            locations='state_abbr',\n",
    "            locationmode='USA-states',\n",
    "            color='poverty_rate',\n",
    "            hover_name='NAME',\n",
    "            hover_data={\n",
    "                'poverty_rate': ':.1f',\n",
    "                'median_household_income': ':$,.0f',\n",
    "                'gini_index': ':.3f',\n",
    "                'state_abbr': False,\n",
    "                'total_population': ':,.0f'\n",
    "            },\n",
    "            color_continuous_scale='RdYlGn_r',  # Red = high poverty, Green = low poverty\n",
    "            title='Poverty Rate by State (2023 ACS)',\n",
    "            labels={'poverty_rate': 'Poverty Rate (%)'},\n",
    "            scope='usa',\n",
    "            range_color=(5, 20)  # Typical poverty rate range\n",
    "        )\n",
    "        \n",
    "        fig5.update_layout(\n",
    "            width=1200,\n",
    "            height=700,\n",
    "            geo=dict(\n",
    "                showlakes=True,\n",
    "                lakecolor='rgb(255, 255, 255)',\n",
    "                projection_type='albers usa'\n",
    "            )\n",
    "        )\n",
    "        \n",
    "        # Show poverty statistics\n",
    "        print(f\"\\nPoverty Rate Distribution:\")\n",
    "        print(f\"  Highest poverty: {df_map_poverty.loc[df_map_poverty['poverty_rate'].idxmax(), 'NAME']} - {df_map_poverty['poverty_rate'].max():.1f}%\")\n",
    "        print(f\"  Lowest poverty: {df_map_poverty.loc[df_map_poverty['poverty_rate'].idxmin(), 'NAME']} - {df_map_poverty['poverty_rate'].min():.1f}%\")\n",
    "        print(f\"  National median: {df_map_poverty['poverty_rate'].median():.1f}%\")\n",
    "        \n",
    "        print(\"\\nPoverty Rate map generated successfully\")\n",
    "        fig5.show()\n",
    "        \n",
    "    except Exception as e:\n",
    "        print(f\"\\nCould not create Poverty Rate map: {e}\")\n",
    "        print(f\"Error details: {type(e).__name__}\")\n",
    "        import traceback\n",
    "        print(traceback.format_exc())\n",
    "else:\n",
    "    print(\"\\nWARNING: Choropleth map only available for state-level analysis.\")"
   ]
  },
  {
   "cell_type": "code",
   "execution_count": 12,
   "id": "ca88ae56",
   "metadata": {},
   "outputs": [
    {
     "name": "stdout",
     "output_type": "stream",
     "text": [
      "\n",
      "Creating exportable HTML map...\n",
      "Records: 51\n",
      "Income range: $54,915 - $106,287\n",
      "\n",
      "Map exported to HTML: /Users/bcdelo/Documents/GitHub/QRL/reports/income_map.html\n",
      "Open this file in your browser to view the interactive map\n",
      "File size: 4727.3 KB\n",
      "\n",
      "Displaying map in notebook:\n"
     ]
    },
    {
     "data": {
      "application/vnd.plotly.v1+json": {
       "config": {
        "plotlyServerURL": "https://plot.ly"
       },
       "data": [
        {
         "autocolorscale": false,
         "colorbar": {
          "len": 0.7,
          "thickness": 15,
          "tickformat": "$,.0f",
          "title": {
           "side": "right",
           "text": "Median<br>Household<br>Income (USD)"
          }
         },
         "colorscale": [
          [
           0,
           "#440154"
          ],
          [
           0.1111111111111111,
           "#482878"
          ],
          [
           0.2222222222222222,
           "#3e4989"
          ],
          [
           0.3333333333333333,
           "#31688e"
          ],
          [
           0.4444444444444444,
           "#26828e"
          ],
          [
           0.5555555555555556,
           "#1f9e89"
          ],
          [
           0.6666666666666666,
           "#35b779"
          ],
          [
           0.7777777777777778,
           "#6ece58"
          ],
          [
           0.8888888888888888,
           "#b5de2b"
          ],
          [
           1,
           "#fde725"
          ]
         ],
         "hovertemplate": "<b>%{text}</b><br>Median Income: $%{z:,.0f}<br><extra></extra>",
         "locationmode": "USA-states",
         "locations": [
          "AL",
          "AK",
          "AZ",
          "AR",
          "CA",
          "CO",
          "CT",
          "DE",
          "DC",
          "FL",
          "GA",
          "HI",
          "ID",
          "IL",
          "IN",
          "IA",
          "KS",
          "KY",
          "LA",
          "ME",
          "MD",
          "MA",
          "MI",
          "MN",
          "MS",
          "MO",
          "MT",
          "NE",
          "NV",
          "NH",
          "NJ",
          "NM",
          "NY",
          "NC",
          "ND",
          "OH",
          "OK",
          "OR",
          "PA",
          "RI",
          "SC",
          "SD",
          "TN",
          "TX",
          "UT",
          "VT",
          "VA",
          "WA",
          "WV",
          "WI",
          "WY"
         ],
         "marker": {
          "line": {
           "color": "white",
           "width": 0.5
          }
         },
         "reversescale": false,
         "text": [
          "Alabama",
          "Alaska",
          "Arizona",
          "Arkansas",
          "California",
          "Colorado",
          "Connecticut",
          "Delaware",
          "District of Columbia",
          "Florida",
          "Georgia",
          "Hawaii",
          "Idaho",
          "Illinois",
          "Indiana",
          "Iowa",
          "Kansas",
          "Kentucky",
          "Louisiana",
          "Maine",
          "Maryland",
          "Massachusetts",
          "Michigan",
          "Minnesota",
          "Mississippi",
          "Missouri",
          "Montana",
          "Nebraska",
          "Nevada",
          "New Hampshire",
          "New Jersey",
          "New Mexico",
          "New York",
          "North Carolina",
          "North Dakota",
          "Ohio",
          "Oklahoma",
          "Oregon",
          "Pennsylvania",
          "Rhode Island",
          "South Carolina",
          "South Dakota",
          "Tennessee",
          "Texas",
          "Utah",
          "Vermont",
          "Virginia",
          "Washington",
          "West Virginia",
          "Wisconsin",
          "Wyoming"
         ],
         "type": "choropleth",
         "z": [
          62027,
          89336,
          76872,
          58773,
          96334,
          92470,
          93760,
          82855,
          106287,
          71711,
          74664,
          98317,
          74636,
          81702,
          70051,
          73147,
          72639,
          62417,
          60023,
          71773,
          101652,
          101341,
          71149,
          87556,
          54915,
          68920,
          69922,
          74985,
          75561,
          95628,
          101050,
          62125,
          84578,
          69904,
          75949,
          69680,
          63603,
          80426,
          76081,
          86372,
          66818,
          72421,
          67097,
          76292,
          91750,
          78024,
          90974,
          94952,
          57917,
          75670,
          74815
         ]
        }
       ],
       "layout": {
        "font": {
         "family": "Arial, sans-serif",
         "size": 12
        },
        "geo": {
         "coastlinecolor": "rgb(204, 204, 204)",
         "lakecolor": "rgba(127, 205, 255, 0.3)",
         "landcolor": "rgb(243, 243, 243)",
         "projection": {
          "type": "albers usa"
         },
         "scope": "usa",
         "showcoastlines": true,
         "showcountries": false,
         "showlakes": true,
         "showland": true,
         "subunitcolor": "white"
        },
        "height": 800,
        "template": {
         "data": {
          "bar": [
           {
            "error_x": {
             "color": "#2a3f5f"
            },
            "error_y": {
             "color": "#2a3f5f"
            },
            "marker": {
             "line": {
              "color": "#E5ECF6",
              "width": 0.5
             },
             "pattern": {
              "fillmode": "overlay",
              "size": 10,
              "solidity": 0.2
             }
            },
            "type": "bar"
           }
          ],
          "barpolar": [
           {
            "marker": {
             "line": {
              "color": "#E5ECF6",
              "width": 0.5
             },
             "pattern": {
              "fillmode": "overlay",
              "size": 10,
              "solidity": 0.2
             }
            },
            "type": "barpolar"
           }
          ],
          "carpet": [
           {
            "aaxis": {
             "endlinecolor": "#2a3f5f",
             "gridcolor": "white",
             "linecolor": "white",
             "minorgridcolor": "white",
             "startlinecolor": "#2a3f5f"
            },
            "baxis": {
             "endlinecolor": "#2a3f5f",
             "gridcolor": "white",
             "linecolor": "white",
             "minorgridcolor": "white",
             "startlinecolor": "#2a3f5f"
            },
            "type": "carpet"
           }
          ],
          "choropleth": [
           {
            "colorbar": {
             "outlinewidth": 0,
             "ticks": ""
            },
            "type": "choropleth"
           }
          ],
          "contour": [
           {
            "colorbar": {
             "outlinewidth": 0,
             "ticks": ""
            },
            "colorscale": [
             [
              0,
              "#0d0887"
             ],
             [
              0.1111111111111111,
              "#46039f"
             ],
             [
              0.2222222222222222,
              "#7201a8"
             ],
             [
              0.3333333333333333,
              "#9c179e"
             ],
             [
              0.4444444444444444,
              "#bd3786"
             ],
             [
              0.5555555555555556,
              "#d8576b"
             ],
             [
              0.6666666666666666,
              "#ed7953"
             ],
             [
              0.7777777777777778,
              "#fb9f3a"
             ],
             [
              0.8888888888888888,
              "#fdca26"
             ],
             [
              1,
              "#f0f921"
             ]
            ],
            "type": "contour"
           }
          ],
          "contourcarpet": [
           {
            "colorbar": {
             "outlinewidth": 0,
             "ticks": ""
            },
            "type": "contourcarpet"
           }
          ],
          "heatmap": [
           {
            "colorbar": {
             "outlinewidth": 0,
             "ticks": ""
            },
            "colorscale": [
             [
              0,
              "#0d0887"
             ],
             [
              0.1111111111111111,
              "#46039f"
             ],
             [
              0.2222222222222222,
              "#7201a8"
             ],
             [
              0.3333333333333333,
              "#9c179e"
             ],
             [
              0.4444444444444444,
              "#bd3786"
             ],
             [
              0.5555555555555556,
              "#d8576b"
             ],
             [
              0.6666666666666666,
              "#ed7953"
             ],
             [
              0.7777777777777778,
              "#fb9f3a"
             ],
             [
              0.8888888888888888,
              "#fdca26"
             ],
             [
              1,
              "#f0f921"
             ]
            ],
            "type": "heatmap"
           }
          ],
          "histogram": [
           {
            "marker": {
             "pattern": {
              "fillmode": "overlay",
              "size": 10,
              "solidity": 0.2
             }
            },
            "type": "histogram"
           }
          ],
          "histogram2d": [
           {
            "colorbar": {
             "outlinewidth": 0,
             "ticks": ""
            },
            "colorscale": [
             [
              0,
              "#0d0887"
             ],
             [
              0.1111111111111111,
              "#46039f"
             ],
             [
              0.2222222222222222,
              "#7201a8"
             ],
             [
              0.3333333333333333,
              "#9c179e"
             ],
             [
              0.4444444444444444,
              "#bd3786"
             ],
             [
              0.5555555555555556,
              "#d8576b"
             ],
             [
              0.6666666666666666,
              "#ed7953"
             ],
             [
              0.7777777777777778,
              "#fb9f3a"
             ],
             [
              0.8888888888888888,
              "#fdca26"
             ],
             [
              1,
              "#f0f921"
             ]
            ],
            "type": "histogram2d"
           }
          ],
          "histogram2dcontour": [
           {
            "colorbar": {
             "outlinewidth": 0,
             "ticks": ""
            },
            "colorscale": [
             [
              0,
              "#0d0887"
             ],
             [
              0.1111111111111111,
              "#46039f"
             ],
             [
              0.2222222222222222,
              "#7201a8"
             ],
             [
              0.3333333333333333,
              "#9c179e"
             ],
             [
              0.4444444444444444,
              "#bd3786"
             ],
             [
              0.5555555555555556,
              "#d8576b"
             ],
             [
              0.6666666666666666,
              "#ed7953"
             ],
             [
              0.7777777777777778,
              "#fb9f3a"
             ],
             [
              0.8888888888888888,
              "#fdca26"
             ],
             [
              1,
              "#f0f921"
             ]
            ],
            "type": "histogram2dcontour"
           }
          ],
          "mesh3d": [
           {
            "colorbar": {
             "outlinewidth": 0,
             "ticks": ""
            },
            "type": "mesh3d"
           }
          ],
          "parcoords": [
           {
            "line": {
             "colorbar": {
              "outlinewidth": 0,
              "ticks": ""
             }
            },
            "type": "parcoords"
           }
          ],
          "pie": [
           {
            "automargin": true,
            "type": "pie"
           }
          ],
          "scatter": [
           {
            "fillpattern": {
             "fillmode": "overlay",
             "size": 10,
             "solidity": 0.2
            },
            "type": "scatter"
           }
          ],
          "scatter3d": [
           {
            "line": {
             "colorbar": {
              "outlinewidth": 0,
              "ticks": ""
             }
            },
            "marker": {
             "colorbar": {
              "outlinewidth": 0,
              "ticks": ""
             }
            },
            "type": "scatter3d"
           }
          ],
          "scattercarpet": [
           {
            "marker": {
             "colorbar": {
              "outlinewidth": 0,
              "ticks": ""
             }
            },
            "type": "scattercarpet"
           }
          ],
          "scattergeo": [
           {
            "marker": {
             "colorbar": {
              "outlinewidth": 0,
              "ticks": ""
             }
            },
            "type": "scattergeo"
           }
          ],
          "scattergl": [
           {
            "marker": {
             "colorbar": {
              "outlinewidth": 0,
              "ticks": ""
             }
            },
            "type": "scattergl"
           }
          ],
          "scattermap": [
           {
            "marker": {
             "colorbar": {
              "outlinewidth": 0,
              "ticks": ""
             }
            },
            "type": "scattermap"
           }
          ],
          "scattermapbox": [
           {
            "marker": {
             "colorbar": {
              "outlinewidth": 0,
              "ticks": ""
             }
            },
            "type": "scattermapbox"
           }
          ],
          "scatterpolar": [
           {
            "marker": {
             "colorbar": {
              "outlinewidth": 0,
              "ticks": ""
             }
            },
            "type": "scatterpolar"
           }
          ],
          "scatterpolargl": [
           {
            "marker": {
             "colorbar": {
              "outlinewidth": 0,
              "ticks": ""
             }
            },
            "type": "scatterpolargl"
           }
          ],
          "scatterternary": [
           {
            "marker": {
             "colorbar": {
              "outlinewidth": 0,
              "ticks": ""
             }
            },
            "type": "scatterternary"
           }
          ],
          "surface": [
           {
            "colorbar": {
             "outlinewidth": 0,
             "ticks": ""
            },
            "colorscale": [
             [
              0,
              "#0d0887"
             ],
             [
              0.1111111111111111,
              "#46039f"
             ],
             [
              0.2222222222222222,
              "#7201a8"
             ],
             [
              0.3333333333333333,
              "#9c179e"
             ],
             [
              0.4444444444444444,
              "#bd3786"
             ],
             [
              0.5555555555555556,
              "#d8576b"
             ],
             [
              0.6666666666666666,
              "#ed7953"
             ],
             [
              0.7777777777777778,
              "#fb9f3a"
             ],
             [
              0.8888888888888888,
              "#fdca26"
             ],
             [
              1,
              "#f0f921"
             ]
            ],
            "type": "surface"
           }
          ],
          "table": [
           {
            "cells": {
             "fill": {
              "color": "#EBF0F8"
             },
             "line": {
              "color": "white"
             }
            },
            "header": {
             "fill": {
              "color": "#C8D4E3"
             },
             "line": {
              "color": "white"
             }
            },
            "type": "table"
           }
          ]
         },
         "layout": {
          "annotationdefaults": {
           "arrowcolor": "#2a3f5f",
           "arrowhead": 0,
           "arrowwidth": 1
          },
          "autotypenumbers": "strict",
          "coloraxis": {
           "colorbar": {
            "outlinewidth": 0,
            "ticks": ""
           }
          },
          "colorscale": {
           "diverging": [
            [
             0,
             "#8e0152"
            ],
            [
             0.1,
             "#c51b7d"
            ],
            [
             0.2,
             "#de77ae"
            ],
            [
             0.3,
             "#f1b6da"
            ],
            [
             0.4,
             "#fde0ef"
            ],
            [
             0.5,
             "#f7f7f7"
            ],
            [
             0.6,
             "#e6f5d0"
            ],
            [
             0.7,
             "#b8e186"
            ],
            [
             0.8,
             "#7fbc41"
            ],
            [
             0.9,
             "#4d9221"
            ],
            [
             1,
             "#276419"
            ]
           ],
           "sequential": [
            [
             0,
             "#0d0887"
            ],
            [
             0.1111111111111111,
             "#46039f"
            ],
            [
             0.2222222222222222,
             "#7201a8"
            ],
            [
             0.3333333333333333,
             "#9c179e"
            ],
            [
             0.4444444444444444,
             "#bd3786"
            ],
            [
             0.5555555555555556,
             "#d8576b"
            ],
            [
             0.6666666666666666,
             "#ed7953"
            ],
            [
             0.7777777777777778,
             "#fb9f3a"
            ],
            [
             0.8888888888888888,
             "#fdca26"
            ],
            [
             1,
             "#f0f921"
            ]
           ],
           "sequentialminus": [
            [
             0,
             "#0d0887"
            ],
            [
             0.1111111111111111,
             "#46039f"
            ],
            [
             0.2222222222222222,
             "#7201a8"
            ],
            [
             0.3333333333333333,
             "#9c179e"
            ],
            [
             0.4444444444444444,
             "#bd3786"
            ],
            [
             0.5555555555555556,
             "#d8576b"
            ],
            [
             0.6666666666666666,
             "#ed7953"
            ],
            [
             0.7777777777777778,
             "#fb9f3a"
            ],
            [
             0.8888888888888888,
             "#fdca26"
            ],
            [
             1,
             "#f0f921"
            ]
           ]
          },
          "colorway": [
           "#636efa",
           "#EF553B",
           "#00cc96",
           "#ab63fa",
           "#FFA15A",
           "#19d3f3",
           "#FF6692",
           "#B6E880",
           "#FF97FF",
           "#FECB52"
          ],
          "font": {
           "color": "#2a3f5f"
          },
          "geo": {
           "bgcolor": "white",
           "lakecolor": "white",
           "landcolor": "#E5ECF6",
           "showlakes": true,
           "showland": true,
           "subunitcolor": "white"
          },
          "hoverlabel": {
           "align": "left"
          },
          "hovermode": "closest",
          "mapbox": {
           "style": "light"
          },
          "paper_bgcolor": "white",
          "plot_bgcolor": "#E5ECF6",
          "polar": {
           "angularaxis": {
            "gridcolor": "white",
            "linecolor": "white",
            "ticks": ""
           },
           "bgcolor": "#E5ECF6",
           "radialaxis": {
            "gridcolor": "white",
            "linecolor": "white",
            "ticks": ""
           }
          },
          "scene": {
           "xaxis": {
            "backgroundcolor": "#E5ECF6",
            "gridcolor": "white",
            "gridwidth": 2,
            "linecolor": "white",
            "showbackground": true,
            "ticks": "",
            "zerolinecolor": "white"
           },
           "yaxis": {
            "backgroundcolor": "#E5ECF6",
            "gridcolor": "white",
            "gridwidth": 2,
            "linecolor": "white",
            "showbackground": true,
            "ticks": "",
            "zerolinecolor": "white"
           },
           "zaxis": {
            "backgroundcolor": "#E5ECF6",
            "gridcolor": "white",
            "gridwidth": 2,
            "linecolor": "white",
            "showbackground": true,
            "ticks": "",
            "zerolinecolor": "white"
           }
          },
          "shapedefaults": {
           "line": {
            "color": "#2a3f5f"
           }
          },
          "ternary": {
           "aaxis": {
            "gridcolor": "white",
            "linecolor": "white",
            "ticks": ""
           },
           "baxis": {
            "gridcolor": "white",
            "linecolor": "white",
            "ticks": ""
           },
           "bgcolor": "#E5ECF6",
           "caxis": {
            "gridcolor": "white",
            "linecolor": "white",
            "ticks": ""
           }
          },
          "title": {
           "x": 0.05
          },
          "xaxis": {
           "automargin": true,
           "gridcolor": "white",
           "linecolor": "white",
           "ticks": "",
           "title": {
            "standoff": 15
           },
           "zerolinecolor": "white",
           "zerolinewidth": 2
          },
          "yaxis": {
           "automargin": true,
           "gridcolor": "white",
           "linecolor": "white",
           "ticks": "",
           "title": {
            "standoff": 15
           },
           "zerolinecolor": "white",
           "zerolinewidth": 2
          }
         }
        },
        "title": {
         "font": {
          "size": 20
         },
         "text": "<b>Median Household Income by State (2023 ACS 5-Year Estimates)</b>",
         "x": 0.5,
         "xanchor": "center"
        },
        "width": 1400
       }
      }
     },
     "metadata": {},
     "output_type": "display_data"
    },
    {
     "name": "stdout",
     "output_type": "stream",
     "text": [
      "\n",
      "Map Verification:\n",
      "  States with data: 51\n",
      "  State abbreviations: ['AK', 'AL', 'AR', 'AZ', 'CA', 'CO', 'CT', 'DC', 'DE', 'FL', 'GA', 'HI', 'IA', 'ID', 'IL', 'IN', 'KS', 'KY', 'LA', 'MA', 'MD', 'ME', 'MI', 'MN', 'MO', 'MS', 'MT', 'NC', 'ND', 'NE', 'NH', 'NJ', 'NM', 'NV', 'NY', 'OH', 'OK', 'OR', 'PA', 'RI', 'SC', 'SD', 'TN', 'TX', 'UT', 'VA', 'VT', 'WA', 'WI', 'WV', 'WY']\n",
      "  Income data complete: 51\n",
      "  Highest: District of Columbia\n",
      "  Lowest: Mississippi\n"
     ]
    }
   ],
   "source": [
    "# ============================================================================\n",
    "# EXPORT MAP TO HTML (For viewing in browser)\n",
    "# ============================================================================\n",
    "\n",
    "if df_clean is not None and len(df_clean) > 0 and ANALYSIS_CONFIG['geographic_level'] == 'state':\n",
    "    try:\n",
    "        # Ensure state_abbr column exists\n",
    "        if 'state_abbr' not in df_clean.columns:\n",
    "            state_fips_to_abbr = {\n",
    "                '01': 'AL', '02': 'AK', '04': 'AZ', '05': 'AR', '06': 'CA',\n",
    "                '08': 'CO', '09': 'CT', '10': 'DE', '11': 'DC', '12': 'FL',\n",
    "                '13': 'GA', '15': 'HI', '16': 'ID', '17': 'IL', '18': 'IN',\n",
    "                '19': 'IA', '20': 'KS', '21': 'KY', '22': 'LA', '23': 'ME',\n",
    "                '24': 'MD', '25': 'MA', '26': 'MI', '27': 'MN', '28': 'MS',\n",
    "                '29': 'MO', '30': 'MT', '31': 'NE', '32': 'NV', '33': 'NH',\n",
    "                '34': 'NJ', '35': 'NM', '36': 'NY', '37': 'NC', '38': 'ND',\n",
    "                '39': 'OH', '40': 'OK', '41': 'OR', '42': 'PA', '44': 'RI',\n",
    "                '45': 'SC', '46': 'SD', '47': 'TN', '48': 'TX', '49': 'UT',\n",
    "                '50': 'VT', '51': 'VA', '53': 'WA', '54': 'WV', '55': 'WI',\n",
    "                '56': 'WY', '72': 'PR'\n",
    "            }\n",
    "            if 'state' in df_clean.columns and 'state_fips' not in df_clean.columns:\n",
    "                df_clean['state_fips'] = df_clean['state'].astype(str).str.zfill(2)\n",
    "            df_clean['state_abbr'] = df_clean['state_fips'].map(state_fips_to_abbr)\n",
    "        \n",
    "        # Create export map (exclude Puerto Rico for better US visualization)\n",
    "        df_export = df_clean[df_clean['state_abbr'] != 'PR'].copy()\n",
    "        \n",
    "        print(f\"\\nCreating exportable HTML map...\")\n",
    "        print(f\"Records: {len(df_export)}\")\n",
    "        print(f\"Income range: ${df_export['median_household_income'].min():,.0f} - ${df_export['median_household_income'].max():,.0f}\")\n",
    "        \n",
    "        # Create comprehensive map using go.Choropleth\n",
    "        fig_export = go.Figure(data=go.Choropleth(\n",
    "            locations=df_export['state_abbr'].tolist(),\n",
    "            z=df_export['median_household_income'].tolist(),\n",
    "            locationmode='USA-states',\n",
    "            text=df_export['NAME'].tolist(),\n",
    "            colorscale='Viridis',\n",
    "            autocolorscale=False,\n",
    "            reversescale=False,\n",
    "            marker=dict(\n",
    "                line=dict(\n",
    "                    color='white',\n",
    "                    width=0.5\n",
    "                )\n",
    "            ),\n",
    "            colorbar=dict(\n",
    "                title={\n",
    "                    'text': \"Median<br>Household<br>Income (USD)\",\n",
    "                    'side': 'right'\n",
    "                },\n",
    "                thickness=15,\n",
    "                len=0.7,\n",
    "                tickformat='$,.0f'\n",
    "            ),\n",
    "            hovertemplate='<b>%{text}</b><br>' +\n",
    "                          'Median Income: $%{z:,.0f}<br>' +\n",
    "                          '<extra></extra>'\n",
    "        ))\n",
    "        \n",
    "        fig_export.update_layout(\n",
    "            title={\n",
    "                'text': '<b>Median Household Income by State (2023 ACS 5-Year Estimates)</b>',\n",
    "                'x': 0.5,\n",
    "                'xanchor': 'center',\n",
    "                'font': {'size': 20}\n",
    "            },\n",
    "            geo=dict(\n",
    "                scope='usa',\n",
    "                projection=dict(type='albers usa'),\n",
    "                showlakes=True,\n",
    "                lakecolor='rgba(127, 205, 255, 0.3)',\n",
    "                showcountries=False,\n",
    "                showcoastlines=True,\n",
    "                coastlinecolor='rgb(204, 204, 204)',\n",
    "                showland=True,\n",
    "                landcolor='rgb(243, 243, 243)',\n",
    "                subunitcolor='white'\n",
    "            ),\n",
    "            width=1400,\n",
    "            height=800,\n",
    "            font=dict(family=\"Arial, sans-serif\", size=12)\n",
    "        )\n",
    "        \n",
    "        # Save to HTML file\n",
    "        html_path = Path('../../reports/income_map.html')\n",
    "        html_path.parent.mkdir(parents=True, exist_ok=True)\n",
    "        fig_export.write_html(str(html_path))\n",
    "        \n",
    "        print(f\"\\nMap exported to HTML: {html_path.resolve()}\")\n",
    "        print(f\"Open this file in your browser to view the interactive map\")\n",
    "        print(f\"File size: {html_path.stat().st_size / 1024:.1f} KB\")\n",
    "        \n",
    "        # Also try showing in notebook\n",
    "        print(\"\\nDisplaying map in notebook:\")\n",
    "        fig_export.show()\n",
    "        \n",
    "        # Print verification stats\n",
    "        print(f\"\\nMap Verification:\")\n",
    "        print(f\"  States with data: {len(df_export)}\")\n",
    "        print(f\"  State abbreviations: {sorted(df_export['state_abbr'].unique())}\")\n",
    "        print(f\"  Income data complete: {df_export['median_household_income'].notna().sum()}\")\n",
    "        print(f\"  Highest: {df_export.loc[df_export['median_household_income'].idxmax(), 'NAME']}\")\n",
    "        print(f\"  Lowest: {df_export.loc[df_export['median_household_income'].idxmin(), 'NAME']}\")\n",
    "        \n",
    "    except Exception as e:\n",
    "        print(f\"\\nCould not create map: {e}\")\n",
    "        print(f\"Error details: {type(e).__name__}\")\n",
    "        import traceback\n",
    "        print(traceback.format_exc())\n",
    "else:\n",
    "    print(\"\\nWARNING: Choropleth map only available for state-level analysis.\")"
   ]
  },
  {
   "cell_type": "code",
   "execution_count": 13,
   "id": "f2b4b101",
   "metadata": {},
   "outputs": [
    {
     "name": "stdout",
     "output_type": "stream",
     "text": [
      "\n",
      "Skipping county poverty map - current level: 'state'\n"
     ]
    }
   ],
   "source": [
    "# ============================================================================\n",
    "# COUNTY MAP 3: POVERTY RATE BY COUNTY\n",
    "# ============================================================================\n",
    "\n",
    "if df_clean is not None and len(df_clean) > 0 and ANALYSIS_CONFIG['geographic_level'] == 'county':\n",
    "    try:\n",
    "        # Reuse GeoJSON\n",
    "        if 'counties_geojson' not in locals():\n",
    "            from urllib.request import urlopen\n",
    "            with urlopen('https://raw.githubusercontent.com/plotly/datasets/master/geojson-counties-fips.json') as response:\n",
    "                counties_geojson = json.load(response)\n",
    "        \n",
    "        fips_col = 'FIPS' if 'FIPS' in df_clean.columns else 'county_fips'\n",
    "        df_county_map = df_clean.copy()\n",
    "        \n",
    "        print(f\"\\nCreating county-level Poverty Rate map...\")\n",
    "        print(f\"Poverty rate range: {df_county_map['poverty_rate'].min():.1f}% - {df_county_map['poverty_rate'].max():.1f}%\")\n",
    "        \n",
    "        fig_county3 = px.choropleth(\n",
    "            df_county_map,\n",
    "            geojson=counties_geojson,\n",
    "            locations=fips_col,\n",
    "            color='poverty_rate',\n",
    "            hover_name='NAME',\n",
    "            hover_data={\n",
    "                'poverty_rate': ':.1f',\n",
    "                'median_household_income': ':$,.0f',\n",
    "                'gini_index': ':.3f',\n",
    "                'total_population': ':,.0f',\n",
    "                fips_col: False\n",
    "            },\n",
    "            color_continuous_scale='RdYlGn_r',  # Red = high poverty\n",
    "            scope=\"usa\",\n",
    "            labels={'poverty_rate': 'Poverty Rate (%)'},\n",
    "            title='Poverty Rate by County (2023 ACS)',\n",
    "            range_color=(0, 40)  # Counties can have much higher poverty rates\n",
    "        )\n",
    "        \n",
    "        fig_county3.update_layout(\n",
    "            width=1400,\n",
    "            height=800,\n",
    "            margin={\"r\":0,\"t\":50,\"l\":0,\"b\":0}\n",
    "        )\n",
    "        \n",
    "        # Show top 10 highest poverty counties\n",
    "        top_poverty = df_county_map.nlargest(10, 'poverty_rate')[['NAME', 'poverty_rate', 'median_household_income']]\n",
    "        print(\"\\nTop 10 Highest Poverty Counties:\")\n",
    "        for idx, row in top_poverty.iterrows():\n",
    "            print(f\"  {row['NAME']}: {row['poverty_rate']:.1f}% poverty, ${row['median_household_income']:,.0f} median income\")\n",
    "        \n",
    "        print(\"\\nCounty Poverty Rate map generated successfully\")\n",
    "        fig_county3.show()\n",
    "        \n",
    "    except Exception as e:\n",
    "        print(f\"\\nCould not create county poverty map: {e}\")\n",
    "        import traceback\n",
    "        print(traceback.format_exc())\n",
    "else:\n",
    "    if ANALYSIS_CONFIG['geographic_level'] != 'county':\n",
    "        print(f\"\\nSkipping county poverty map - current level: '{ANALYSIS_CONFIG['geographic_level']}'\")\n",
    "    else:\n",
    "        print(\"\\nWARNING: No data available\")"
   ]
  },
  {
   "cell_type": "code",
   "execution_count": 14,
   "id": "cfa6b649",
   "metadata": {},
   "outputs": [
    {
     "name": "stdout",
     "output_type": "stream",
     "text": [
      "\n",
      "Skipping county Gini map - current level: 'state'\n"
     ]
    }
   ],
   "source": [
    "# ============================================================================\n",
    "# COUNTY MAP 2: GINI INDEX (INEQUALITY) BY COUNTY\n",
    "# ============================================================================\n",
    "\n",
    "if df_clean is not None and len(df_clean) > 0 and ANALYSIS_CONFIG['geographic_level'] == 'county':\n",
    "    try:\n",
    "        # Reuse GeoJSON from previous cell\n",
    "        if 'counties_geojson' not in locals():\n",
    "            from urllib.request import urlopen\n",
    "            with urlopen('https://raw.githubusercontent.com/plotly/datasets/master/geojson-counties-fips.json') as response:\n",
    "                counties_geojson = json.load(response)\n",
    "        \n",
    "        fips_col = 'FIPS' if 'FIPS' in df_clean.columns else 'county_fips'\n",
    "        df_county_map = df_clean.copy()\n",
    "        \n",
    "        print(f\"\\nCreating county-level Gini Index map...\")\n",
    "        print(f\"Gini range: {df_county_map['gini_index'].min():.3f} - {df_county_map['gini_index'].max():.3f}\")\n",
    "        \n",
    "        fig_county2 = px.choropleth(\n",
    "            df_county_map,\n",
    "            geojson=counties_geojson,\n",
    "            locations=fips_col,\n",
    "            color='gini_index',\n",
    "            hover_name='NAME',\n",
    "            hover_data={\n",
    "                'gini_index': ':.3f',\n",
    "                'median_household_income': ':$,.0f',\n",
    "                'poverty_rate': ':.1f',\n",
    "                fips_col: False\n",
    "            },\n",
    "            color_continuous_scale='RdYlGn_r',  # Red = high inequality\n",
    "            scope=\"usa\",\n",
    "            labels={'gini_index': 'Gini Index (0-1)'},\n",
    "            title='Income Inequality by County - Gini Index (2023 ACS)',\n",
    "            range_color=(0.35, 0.65)  # County Gini range typically wider than states\n",
    "        )\n",
    "        \n",
    "        fig_county2.update_layout(\n",
    "            width=1400,\n",
    "            height=800,\n",
    "            margin={\"r\":0,\"t\":50,\"l\":0,\"b\":0}\n",
    "        )\n",
    "        \n",
    "        print(\"County Gini Index map generated successfully\")\n",
    "        fig_county2.show()\n",
    "        \n",
    "    except Exception as e:\n",
    "        print(f\"\\nCould not create county Gini map: {e}\")\n",
    "        import traceback\n",
    "        print(traceback.format_exc())\n",
    "else:\n",
    "    if ANALYSIS_CONFIG['geographic_level'] != 'county':\n",
    "        print(f\"\\nSkipping county Gini map - current level: '{ANALYSIS_CONFIG['geographic_level']}'\")\n",
    "    else:\n",
    "        print(\"\\nWARNING: No data available\")"
   ]
  },
  {
   "cell_type": "code",
   "execution_count": 15,
   "id": "128946e6",
   "metadata": {},
   "outputs": [
    {
     "name": "stdout",
     "output_type": "stream",
     "text": [
      "\n",
      "Skipping county map - current level: 'state'\n",
      "Change configuration to 'county' to enable county-level maps\n"
     ]
    }
   ],
   "source": [
    "# ============================================================================\n",
    "# COUNTY MAP 1: MEDIAN HOUSEHOLD INCOME BY COUNTY\n",
    "# ============================================================================\n",
    "\n",
    "if df_clean is not None and len(df_clean) > 0 and ANALYSIS_CONFIG['geographic_level'] == 'county':\n",
    "    from urllib.request import urlopen\n",
    "    \n",
    "    try:\n",
    "        # Load US counties GeoJSON\n",
    "        print(\"\\nLoading county boundaries GeoJSON...\")\n",
    "        with urlopen('https://raw.githubusercontent.com/plotly/datasets/master/geojson-counties-fips.json') as response:\n",
    "            counties_geojson = json.load(response)\n",
    "        print(f\"Loaded {len(counties_geojson['features'])} county boundaries\")\n",
    "        \n",
    "        # Create 5-digit FIPS code (state + county)\n",
    "        if 'state' in df_clean.columns and 'county' in df_clean.columns:\n",
    "            df_clean['county_fips'] = df_clean['state'].astype(str).str.zfill(2) + df_clean['county'].astype(str).str.zfill(3)\n",
    "        elif 'FIPS' not in df_clean.columns:\n",
    "            print(\"\\nWARNING: Cannot create FIPS codes - missing 'state' or 'county' columns\")\n",
    "            print(f\"Available columns: {df_clean.columns.tolist()}\")\n",
    "        \n",
    "        # Use FIPS or county_fips\n",
    "        fips_col = 'FIPS' if 'FIPS' in df_clean.columns else 'county_fips'\n",
    "        \n",
    "        # Create county map\n",
    "        df_county_map = df_clean.copy()\n",
    "        \n",
    "        print(f\"\\nCreating county-level choropleth map...\")\n",
    "        print(f\"Counties: {len(df_county_map)}\")\n",
    "        print(f\"Sample FIPS codes: {df_county_map[fips_col].head(5).tolist()}\")\n",
    "        print(f\"Income range: ${df_county_map['median_household_income'].min():,.0f} - ${df_county_map['median_household_income'].max():,.0f}\")\n",
    "        \n",
    "        fig_county1 = px.choropleth(\n",
    "            df_county_map,\n",
    "            geojson=counties_geojson,\n",
    "            locations=fips_col,\n",
    "            color='median_household_income',\n",
    "            hover_name='NAME',\n",
    "            hover_data={\n",
    "                'median_household_income': ':$,.0f',\n",
    "                'gini_index': ':.3f',\n",
    "                'poverty_rate': ':.1f',\n",
    "                fips_col: False\n",
    "            },\n",
    "            color_continuous_scale='Viridis',\n",
    "            scope=\"usa\",\n",
    "            labels={'median_household_income': 'Median Income (USD)'},\n",
    "            title='Median Household Income by County (2023 ACS 5-Year Estimates)'\n",
    "        )\n",
    "        \n",
    "        fig_county1.update_layout(\n",
    "            width=1400,\n",
    "            height=800,\n",
    "            margin={\"r\":0,\"t\":50,\"l\":0,\"b\":0}\n",
    "        )\n",
    "        \n",
    "        print(\"County map generated successfully\")\n",
    "        fig_county1.show()\n",
    "        \n",
    "    except Exception as e:\n",
    "        print(f\"\\nCould not create county choropleth map: {e}\")\n",
    "        print(f\"Error details: {type(e).__name__}\")\n",
    "        import traceback\n",
    "        print(traceback.format_exc())\n",
    "else:\n",
    "    if ANALYSIS_CONFIG['geographic_level'] != 'county':\n",
    "        print(f\"\\nSkipping county map - current level: '{ANALYSIS_CONFIG['geographic_level']}'\")\n",
    "        print(\"Change configuration to 'county' to enable county-level maps\")\n",
    "    else:\n",
    "        print(\"\\nWARNING: No data available for county-level mapping\")"
   ]
  },
  {
   "cell_type": "markdown",
   "id": "3f98d747",
   "metadata": {},
   "source": [
    "## 6b. County-Level Geographic Visualization (Optional)\n",
    "\n",
    "**Note**: The following cells will only work if you change the configuration to `'geographic_level': 'county'` in Cell 4.\n",
    "\n",
    "County-level analysis provides much more granular insights:\n",
    "- ~3,143 counties in the United States\n",
    "- Shows local variations within states\n",
    "- Useful for targeted policy interventions and business decisions\n",
    "\n",
    "**To enable county-level analysis:**\n",
    "1. Change Cell 4: `'geographic_level': 'county'`\n",
    "2. Optionally filter to specific states: `'selected_states': ['06', '36', '48']` (CA, NY, TX)\n",
    "3. Re-run from Cell 4 onwards"
   ]
  },
  {
   "cell_type": "code",
   "execution_count": 16,
   "id": "2290ac19",
   "metadata": {},
   "outputs": [
    {
     "name": "stdout",
     "output_type": "stream",
     "text": [
      " CURRENT CONFIGURATION:\n",
      "   Geographic Level: state\n",
      "   State Filter: None\n",
      "\n",
      "  County-level analysis DISABLED\n",
      "   Change configuration to 'county' to enable county maps\n",
      "\n",
      "================================================================================\n"
     ]
    }
   ],
   "source": [
    "# ============================================================================\n",
    "# QUICK TOGGLE: SWITCH TO COUNTY-LEVEL ANALYSIS\n",
    "# ============================================================================\n",
    "\n",
    "# INSTRUCTIONS TO ENABLE COUNTY-LEVEL MAPS:\n",
    "# \n",
    "# 1. Scroll back to Cell 4 (Configuration cell)\n",
    "# 2. Change this line:\n",
    "#       'geographic_level': 'state',\n",
    "#    to:\n",
    "#       'geographic_level': 'county',\n",
    "#\n",
    "# 3. (Optional) Limit to specific states for faster processing:\n",
    "#       'selected_states': ['06', '36', '48'],  # California, New York, Texas\n",
    "#    Or keep as None for all ~3,143 counties (slower but comprehensive)\n",
    "#\n",
    "# 4. Re-run from Cell 4 onwards (Shift+Enter through all cells)\n",
    "#\n",
    "# EXPECTED RESULTS:\n",
    "# - Cell 6 will fetch ~3,143 county records (or subset if filtered)\n",
    "# - State-level maps (Cells 13-16) will show warning and skip\n",
    "# - County-level maps (Cells below) will generate detailed visualizations\n",
    "# - Processing time: ~30-60 seconds for all counties, ~10-20s for single state\n",
    "\n",
    "print(\" CURRENT CONFIGURATION:\")\n",
    "print(f\"   Geographic Level: {ANALYSIS_CONFIG['geographic_level']}\")\n",
    "print(f\"   State Filter: {ANALYSIS_CONFIG.get('selected_states', 'None (all states/counties)')}\")\n",
    "\n",
    "if ANALYSIS_CONFIG['geographic_level'] == 'county':\n",
    "    print(\"\\n County-level analysis ENABLED\")\n",
    "    print(\"   The 3 county maps below will render\")\n",
    "else:\n",
    "    print(\"\\n  County-level analysis DISABLED\")\n",
    "    print(\"   Change configuration to 'county' to enable county maps\")\n",
    "    \n",
    "print(\"\\n\" + \"=\"*80)"
   ]
  },
  {
   "cell_type": "markdown",
   "id": "63767da9",
   "metadata": {},
   "source": [
    "## 7. Key Insights & Recommendations\n",
    "\n",
    "**NOTE:** This section contains automated analysis and insights generated by the notebook execution.\n"
   ]
  },
  {
   "cell_type": "code",
   "execution_count": 17,
   "id": "ac097cd9",
   "metadata": {},
   "outputs": [
    {
     "name": "stdout",
     "output_type": "stream",
     "text": [
      "\n",
      "================================================================================\n",
      "KEY INSIGHTS & RECOMMENDATIONS\n",
      "================================================================================\n",
      "\n",
      "1. INCOME DISPARITY:\n",
      "   - Income range: $81,191\n",
      "   - Coefficient of variation: 0.192\n",
      "   MODERATE income disparity - relatively balanced\n",
      "\n",
      "2. INEQUALITY PATTERNS:\n",
      "   - 41 regions with Gini > 0.45 (high inequality)\n",
      "   - Income-Inequality correlation: -0.281\n",
      "   No strong correlation between income level and inequality\n",
      "\n",
      "3. POVERTY ANALYSIS:\n",
      "   - Income-Poverty correlation: -0.757\n",
      "   - Regions with high income BUT high poverty: 0\n",
      "\n",
      "================================================================================\n",
      "STRATEGIC RECOMMENDATIONS\n",
      "================================================================================\n",
      "\n",
      "FOR POLICYMAKERS:\n",
      "  1. Target high-inequality regions with progressive taxation policies\n",
      "  2. Increase minimum wage in low-income areas to reduce poverty\n",
      "  3. Implement income support programs in regions with poverty rate > 15%\n",
      "\n",
      "FOR BUSINESSES:\n",
      "  1. Premium products: Focus on high-income, low-inequality regions\n",
      "  2. Value products: Target high-poverty regions with affordable options\n",
      "  3. Workforce strategy: Consider cost of living when setting wages\n",
      "\n",
      "FOR NONPROFITS:\n",
      "  1. Prioritize resources to high-poverty, high-inequality regions\n",
      "  2. Partner with local organizations in bottom 10 income regions\n",
      "  3. Advocate for policies that reduce income inequality\n",
      "\n",
      "================================================================================\n"
     ]
    }
   ],
   "source": [
    "# ============================================================================\n",
    "# KEY INSIGHTS GENERATION\n",
    "# ============================================================================\n",
    "\n",
    "if df_clean is not None and len(df_clean) > 0:\n",
    "    print(\"\\n\" + \"=\"*80)\n",
    "    print(\"KEY INSIGHTS & RECOMMENDATIONS\")\n",
    "    print(\"=\"*80)\n",
    "    \n",
    "    # Insight 1: Income Disparity\n",
    "    income_range = df_clean['median_household_income'].max() - df_clean['median_household_income'].min()\n",
    "    income_cv = df_clean['median_household_income'].std() / df_clean['median_household_income'].mean()\n",
    "    \n",
    "    print(\"\\n1. INCOME DISPARITY:\")\n",
    "    print(f\"   - Income range: ${income_range:,.0f}\")\n",
    "    print(f\"   - Coefficient of variation: {income_cv:.3f}\")\n",
    "    if income_cv > 0.2:\n",
    "        print(\"   WARNING: HIGH income disparity detected - significant regional inequality\")\n",
    "    else:\n",
    "        print(\"   MODERATE income disparity - relatively balanced\")\n",
    "    \n",
    "    # Insight 2: Inequality Patterns\n",
    "    gini_high = df_clean[df_clean['gini_index'] > 0.45]\n",
    "    gini_correlation = df_clean['median_household_income'].corr(df_clean['gini_index'])\n",
    "    \n",
    "    print(\"\\n2. INEQUALITY PATTERNS:\")\n",
    "    print(f\"   - {len(gini_high)} regions with Gini > 0.45 (high inequality)\")\n",
    "    print(f\"   - Income-Inequality correlation: {gini_correlation:.3f}\")\n",
    "    if gini_correlation > 0.3:\n",
    "        print(\"   Higher income regions tend to have MORE inequality\")\n",
    "    elif gini_correlation < -0.3:\n",
    "        print(\"   Higher income regions tend to have LESS inequality\")\n",
    "    else:\n",
    "        print(\"   No strong correlation between income level and inequality\")\n",
    "    \n",
    "    # Insight 3: Poverty vs Income\n",
    "    poverty_correlation = df_clean['median_household_income'].corr(df_clean['poverty_rate'])\n",
    "    high_poverty_high_income = df_clean[\n",
    "        (df_clean['poverty_rate'] > 15) & \n",
    "        (df_clean['median_household_income'] > df_clean['median_household_income'].median())\n",
    "    ]\n",
    "    \n",
    "    print(\"\\n3. POVERTY ANALYSIS:\")\n",
    "    print(f\"   - Income-Poverty correlation: {poverty_correlation:.3f}\")\n",
    "    print(f\"   - Regions with high income BUT high poverty: {len(high_poverty_high_income)}\")\n",
    "    if len(high_poverty_high_income) > 0:\n",
    "        print(\"   WARNING: Income inequality creating pockets of poverty in wealthy regions\")\n",
    "    \n",
    "    # Recommendations\n",
    "    print(\"\\n\" + \"=\"*80)\n",
    "    print(\"STRATEGIC RECOMMENDATIONS\")\n",
    "    print(\"=\"*80)\n",
    "    \n",
    "    print(\"\\nFOR POLICYMAKERS:\")\n",
    "    print(\"  1. Target high-inequality regions with progressive taxation policies\")\n",
    "    print(\"  2. Increase minimum wage in low-income areas to reduce poverty\")\n",
    "    print(\"  3. Implement income support programs in regions with poverty rate > 15%\")\n",
    "    \n",
    "    print(\"\\nFOR BUSINESSES:\")\n",
    "    print(\"  1. Premium products: Focus on high-income, low-inequality regions\")\n",
    "    print(\"  2. Value products: Target high-poverty regions with affordable options\")\n",
    "    print(\"  3. Workforce strategy: Consider cost of living when setting wages\")\n",
    "    \n",
    "    print(\"\\nFOR NONPROFITS:\")\n",
    "    print(\"  1. Prioritize resources to high-poverty, high-inequality regions\")\n",
    "    print(\"  2. Partner with local organizations in bottom 10 income regions\")\n",
    "    print(\"  3. Advocate for policies that reduce income inequality\")\n",
    "    \n",
    "    print(\"\\n\" + \"=\"*80)\n",
    "else:\n",
    "    print(\"\\nWARNING: No data available for insights generation.\")"
   ]
  },
  {
   "cell_type": "markdown",
   "id": "2ddea508",
   "metadata": {},
   "source": [
    "## 8. Export Results"
   ]
  },
  {
   "cell_type": "code",
   "execution_count": 18,
   "id": "e1f92eb1",
   "metadata": {},
   "outputs": [
    {
     "name": "stdout",
     "output_type": "stream",
     "text": [
      "\n",
      "Results exported to: ../../reports/tier1_income_distribution_results.json\n",
      "File size: 2.3 KB\n",
      "\n",
      "Full dataset exported to: ../../reports/tier1_income_distribution_data.csv\n",
      "Rows: 52\n",
      "Columns: 12\n"
     ]
    }
   ],
   "source": [
    "# ============================================================================\n",
    "# EXPORT RESULTS TO JSON\n",
    "# ============================================================================\n",
    "\n",
    "if df_clean is not None and len(df_clean) > 0:\n",
    "    # Prepare export data\n",
    "    export_data = {\n",
    "        'metadata': {\n",
    "            'notebook': 'Tier1_Income_Distribution_ACS.ipynb',\n",
    "            'version': 'v1.0',\n",
    "            'date_generated': datetime.now().isoformat(),\n",
    "            'data_source': 'Census ACS 5-Year Estimates (2019-2023)',\n",
    "            'geographic_level': ANALYSIS_CONFIG['geographic_level'],\n",
    "            'n_records': len(df_clean)\n",
    "        },\n",
    "        'summary_statistics': {\n",
    "            'median_income': {\n",
    "                'mean': float(df_clean['median_household_income'].mean()),\n",
    "                'median': float(df_clean['median_household_income'].median()),\n",
    "                'std': float(df_clean['median_household_income'].std()),\n",
    "                'min': float(df_clean['median_household_income'].min()),\n",
    "                'max': float(df_clean['median_household_income'].max())\n",
    "            },\n",
    "            'gini_index': {\n",
    "                'mean': float(df_clean['gini_index'].mean()),\n",
    "                'median': float(df_clean['gini_index'].median()),\n",
    "                'std': float(df_clean['gini_index'].std())\n",
    "            },\n",
    "            'poverty_rate': {\n",
    "                'mean': float(df_clean['poverty_rate'].mean()),\n",
    "                'median': float(df_clean['poverty_rate'].median()),\n",
    "                'regions_above_15pct': int((df_clean['poverty_rate'] > 15).sum())\n",
    "            }\n",
    "        },\n",
    "        'top_10_income': df_clean.nlargest(10, 'median_household_income')[['NAME', 'median_household_income']].to_dict(orient='records'),\n",
    "        'bottom_10_income': df_clean.nsmallest(10, 'median_household_income')[['NAME', 'median_household_income']].to_dict(orient='records')\n",
    "    }\n",
    "    \n",
    "    # Save to JSON\n",
    "    output_path = Path('../../reports/tier1_income_distribution_results.json')\n",
    "    output_path.parent.mkdir(parents=True, exist_ok=True)\n",
    "    \n",
    "    with open(output_path, 'w') as f:\n",
    "        json.dump(export_data, f, indent=2)\n",
    "    \n",
    "    print(f\"\\nResults exported to: {output_path}\")\n",
    "    print(f\"File size: {output_path.stat().st_size / 1024:.1f} KB\")\n",
    "    \n",
    "    # Also save full dataset as CSV\n",
    "    csv_path = Path('../../reports/tier1_income_distribution_data.csv')\n",
    "    df_clean.to_csv(csv_path, index=False)\n",
    "    \n",
    "    print(f\"\\nFull dataset exported to: {csv_path}\")\n",
    "    print(f\"Rows: {len(df_clean):,}\")\n",
    "    print(f\"Columns: {len(df_clean.columns)}\")\n",
    "else:\n",
    "    print(\"\\nWARNING: No data available for export.\")"
   ]
  },
  {
   "cell_type": "markdown",
   "id": "9fdbdd93",
   "metadata": {},
   "source": [
    "--- ## Summary ### **Completed Steps** Data ingestion from Census ACS API Data preprocessing and validation Exploratory data analysis Income distribution visualization Inequality analysis (Gini Index) Geographic choropleth mapping Key insights generation Results export (JSON + CSV) ### **Next Steps** 1. **Tier 2**: `Tier2_Income_Prediction_ACS.ipynb` - Predictive modeling of income determinants using Random Forest and XGBoost 2. **Tier 3**: Time series analysis of income trends with ARIMA/Prophet forecasting 3. **Tier 6**: Spatial econometric models to analyze income spillover effects between regions ### **Key Findings** - Income disparity varies significantly across regions - Gini Index reveals inequality patterns not visible in median income alone - Some high-income regions have high poverty rates (inequality indicator) - Strong correlation between poverty rate and median income (expected) ---"
   ]
  }
 ],
 "metadata": {
  "kernelspec": {
   "display_name": "venv313",
   "language": "python",
   "name": "python3"
  },
  "language_info": {
   "codemirror_mode": {
    "name": "ipython",
    "version": 3
   },
   "file_extension": ".py",
   "mimetype": "text/x-python",
   "name": "python",
   "nbconvert_exporter": "python",
   "pygments_lexer": "ipython3",
   "version": "3.13.7"
  }
 },
 "nbformat": 4,
 "nbformat_minor": 5
}